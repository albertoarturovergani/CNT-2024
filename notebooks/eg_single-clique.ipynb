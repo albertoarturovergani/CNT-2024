{
 "cells": [
  {
   "cell_type": "markdown",
   "id": "d23c6575-24d9-462a-b06a-f311eac91698",
   "metadata": {},
   "source": [
    "# Single neuron dynamics"
   ]
  },
  {
   "cell_type": "code",
   "execution_count": 1,
   "id": "47ed43b5-d07d-419a-9fc5-6f6d3bdbee25",
   "metadata": {},
   "outputs": [],
   "source": [
    "# fileName\n",
    "\n",
    "fileName = 'eg_single-clique' "
   ]
  },
  {
   "cell_type": "code",
   "execution_count": 2,
   "id": "cf1ef958-d263-4fb8-929b-fdcbe1c2342b",
   "metadata": {},
   "outputs": [
    {
     "name": "stderr",
     "output_type": "stream",
     "text": [
      "INFO       Cache size for target 'cython': 1175478576 MB.\n",
      "You can call clear_cache('cython') to delete all files from the cache or manually delete files in the '/home/bbpnrsoa/.cython/brian_extensions' directory. [brian2]\n"
     ]
    }
   ],
   "source": [
    "# libs\n",
    "\n",
    "try:\n",
    "    import pyNN.spiNNaker as sim\n",
    "except ModuleNotFoundError:\n",
    "    import pyNN.brian2 as sim\n",
    "    \n",
    "from pyNN import space \n",
    "import numpy as np\n",
    "import matplotlib.pyplot as plt\n",
    "import numpy as np\n",
    "import matplotlib.pyplot as plt\n",
    "import scipy\n",
    "import pickle\n",
    "import pandas as pd\n",
    "import seaborn as sns\n",
    "import time\n",
    "import python_utils as pu\n"
   ]
  },
  {
   "cell_type": "code",
   "execution_count": 3,
   "id": "31652dc0-c18f-42f6-9a01-36c8b7b9f973",
   "metadata": {},
   "outputs": [],
   "source": [
    "# simulation settings\n",
    "\n",
    "sim.setup(\n",
    "        timestep=1, # [ms]\n",
    "        min_delay=1, # [ms]\n",
    "        max_delay=100) # [ms]\n",
    "\n",
    "simtime = 100 #ms"
   ]
  },
  {
   "cell_type": "code",
   "execution_count": 15,
   "id": "6eb85f80-cac2-4772-aa2b-b02f5a477a65",
   "metadata": {},
   "outputs": [
    {
     "name": "stdout",
     "output_type": "stream",
     "text": [
      "{'v_rest': -65.0, 'cm': 1.0, 'tau_m': 20.0, 'tau_refrac': 0.1, 'tau_syn_E': 5.0, 'tau_syn_I': 5.0, 'e_rev_E': 0.0, 'e_rev_I': -70.0, 'v_thresh': -50.0, 'v_reset': -65.0, 'i_offset': 0.0}\n"
     ]
    }
   ],
   "source": [
    "# define the network\n",
    "\n",
    "cell0 = sim.Population(1, \n",
    "                      sim.IF_cond_exp(), \n",
    "                      label='cell0')\n",
    "cell1 = sim.Population(1, \n",
    "                      sim.IF_cond_exp(), \n",
    "                      label='cell1')\n",
    "\n",
    "cell0.record(['v', 'gsyn_exc', 'gsyn_inh', 'spikes'])\n",
    "cell1.record(['v', 'gsyn_exc', 'gsyn_inh', 'spikes'])\n",
    "\n",
    "print(sim.IF_cond_exp.default_parameters)\n",
    "\n",
    "pops=dict(cell0= cell0, cell1= cell1)"
   ]
  },
  {
   "cell_type": "code",
   "execution_count": 5,
   "id": "50e987a7-82c0-4ee6-9000-01c3db24018f",
   "metadata": {},
   "outputs": [],
   "source": [
    "# define connections\n",
    "\n",
    "ge=1 #uS\n",
    "gi=1 #uS\n",
    "d=1 # delay ms\n",
    "\n",
    "#spike_source = sim.Population(1, sim.SpikeSourceArray(spike_times=[200, 201, 202]))\n",
    "connection = sim.Projection(cell0, cell1,\n",
    "                            sim.OneToOneConnector(),\n",
    "                            sim.StaticSynapse(weight=ge, delay=d),\n",
    "                            receptor_type='excitatory'),\n",
    "\n",
    "connection = sim.Projection(cell1, cell0,\n",
    "                            sim.OneToOneConnector(),\n",
    "                            sim.StaticSynapse(weight=gi, delay=d),\n",
    "                            receptor_type='inhibitory'),\n"
   ]
  },
  {
   "cell_type": "code",
   "execution_count": 6,
   "id": "53737f75-8103-4e05-9f18-d74d1cdec2af",
   "metadata": {},
   "outputs": [],
   "source": [
    "# input\n",
    "\n",
    "#pulse = sim.DCSource(amplitude=1, start=20.0, stop=30.0)\n",
    "pulse = sim.StepCurrentSource(times=[30,40],\n",
    "                          amplitudes=[10,0,])\n",
    "pulse.inject_into(cell0)\n",
    "pulse.record()\n"
   ]
  },
  {
   "cell_type": "code",
   "execution_count": 7,
   "id": "a333f08c-1165-4cb1-8030-84223453cc58",
   "metadata": {},
   "outputs": [
    {
     "name": "stderr",
     "output_type": "stream",
     "text": [
      "INFO       No numerical integration method specified for group 'neurongroup_1', using method 'euler' (took 0.02s, trying other methods took 0.07s). [brian2.stateupdaters.base.method_choice]\n",
      "INFO       No numerical integration method specified for group 'neurongroup', using method 'euler' (took 0.01s, trying other methods took 0.03s). [brian2.stateupdaters.base.method_choice]\n"
     ]
    },
    {
     "name": "stdout",
     "output_type": "stream",
     "text": [
      "simulation time: 0.3108549118041992 [s]\n"
     ]
    }
   ],
   "source": [
    "# simulation run\n",
    "\n",
    "tic = time.time()\n",
    "sim.run(simtime)\n",
    "toc = time.time() - tic\n",
    "print(f'simulation time: {toc} [s]')"
   ]
  },
  {
   "cell_type": "code",
   "execution_count": 8,
   "id": "1c6c5e84-5050-4c57-9817-c9eb99837e93",
   "metadata": {},
   "outputs": [
    {
     "name": "stdout",
     "output_type": "stream",
     "text": [
      "cell0 spikes: {0: 32}\n",
      "cell1 spikes: {1: 67}\n"
     ]
    }
   ],
   "source": [
    "# results\n",
    "\n",
    "v0=cell0.get_data(variables=['v']).segments[0].analogsignals[0]\n",
    "v1=cell1.get_data(variables=['v']).segments[0].analogsignals[0]\n",
    "ge0=cell0.get_data(variables=['gsyn_exc']).segments[0].analogsignals[0]\n",
    "gi0=cell0.get_data(variables=['gsyn_inh']).segments[0].analogsignals[0]\n",
    "ge1=cell1.get_data(variables=['gsyn_exc']).segments[0].analogsignals[0]\n",
    "gi1=cell1.get_data(variables=['gsyn_inh']).segments[0].analogsignals[0]\n",
    "spikes0=cell0.get_data(variables=['spikes']).segments[0].spiketrains[0]\n",
    "spikes1=cell1.get_data(variables=['spikes']).segments[0].spiketrains[0]\n",
    "\n",
    "i=pulse.get_data()\n",
    "\n",
    "print(f'cell0 spikes: {cell0.get_spike_counts()}')\n",
    "print(f'cell1 spikes: {cell1.get_spike_counts()}')"
   ]
  },
  {
   "cell_type": "code",
   "execution_count": null,
   "id": "b4b6b02f-7fa1-4e0a-b433-f7fbe694ed07",
   "metadata": {},
   "outputs": [],
   "source": []
  },
  {
   "cell_type": "code",
   "execution_count": 10,
   "id": "4a597578-daef-4be0-b759-88277894f902",
   "metadata": {},
   "outputs": [
    {
     "data": {
      "text/plain": [
       "32"
      ]
     },
     "execution_count": 10,
     "metadata": {},
     "output_type": "execute_result"
    }
   ],
   "source": [
    "len(spikes0)"
   ]
  },
  {
   "cell_type": "code",
   "execution_count": 9,
   "id": "1b3f4e86-fe2b-468b-82af-89bc0056bf9a",
   "metadata": {},
   "outputs": [
    {
     "ename": "TypeError",
     "evalue": "iteration over a 0-d array",
     "output_type": "error",
     "traceback": [
      "\u001b[0;31m---------------------------------------------------------------------------\u001b[0m",
      "\u001b[0;31mTypeError\u001b[0m                                 Traceback (most recent call last)",
      "\u001b[0;32m<ipython-input-9-5e9acc6af612>\u001b[0m in \u001b[0;36m<module>\u001b[0;34m\u001b[0m\n\u001b[0;32m----> 1\u001b[0;31m \u001b[0mplt\u001b[0m\u001b[0;34m.\u001b[0m\u001b[0meventplot\u001b[0m\u001b[0;34m(\u001b[0m\u001b[0mpu\u001b[0m\u001b[0;34m.\u001b[0m\u001b[0mextractSpike\u001b[0m\u001b[0;34m(\u001b[0m\u001b[0mspikes0\u001b[0m\u001b[0;34m)\u001b[0m\u001b[0;34m)\u001b[0m\u001b[0;34m\u001b[0m\u001b[0;34m\u001b[0m\u001b[0m\n\u001b[0m",
      "\u001b[0;32m~/CNT-2024/notebooks/python_utils.py\u001b[0m in \u001b[0;36mextractSpike\u001b[0;34m(spikeData)\u001b[0m\n\u001b[1;32m     27\u001b[0m     \u001b[0;32mif\u001b[0m \u001b[0mlen\u001b[0m\u001b[0;34m(\u001b[0m\u001b[0mspikeData\u001b[0m\u001b[0;34m)\u001b[0m\u001b[0;34m>=\u001b[0m\u001b[0;36m2\u001b[0m\u001b[0;34m:\u001b[0m\u001b[0;34m\u001b[0m\u001b[0;34m\u001b[0m\u001b[0m\n\u001b[1;32m     28\u001b[0m         \u001b[0;32mfor\u001b[0m \u001b[0mk\u001b[0m \u001b[0;32min\u001b[0m \u001b[0mrange\u001b[0m\u001b[0;34m(\u001b[0m\u001b[0mlen\u001b[0m\u001b[0;34m(\u001b[0m\u001b[0mspikeData\u001b[0m\u001b[0;34m)\u001b[0m\u001b[0;34m)\u001b[0m\u001b[0;34m:\u001b[0m\u001b[0;34m\u001b[0m\u001b[0;34m\u001b[0m\u001b[0m\n\u001b[0;32m---> 29\u001b[0;31m             \u001b[0mVAR\u001b[0m\u001b[0;34m.\u001b[0m\u001b[0mappend\u001b[0m\u001b[0;34m(\u001b[0m\u001b[0mnp\u001b[0m\u001b[0;34m.\u001b[0m\u001b[0marray\u001b[0m\u001b[0;34m(\u001b[0m\u001b[0mlist\u001b[0m\u001b[0;34m(\u001b[0m\u001b[0mspikeData\u001b[0m\u001b[0;34m[\u001b[0m\u001b[0mk\u001b[0m\u001b[0;34m]\u001b[0m\u001b[0;34m)\u001b[0m\u001b[0;34m)\u001b[0m\u001b[0;34m.\u001b[0m\u001b[0mT\u001b[0m\u001b[0;34m,\u001b[0m\u001b[0;34m)\u001b[0m\u001b[0;34m\u001b[0m\u001b[0;34m\u001b[0m\u001b[0m\n\u001b[0m\u001b[1;32m     30\u001b[0m \u001b[0;34m\u001b[0m\u001b[0m\n\u001b[1;32m     31\u001b[0m     \u001b[0;32melse\u001b[0m\u001b[0;34m:\u001b[0m \u001b[0mVAR\u001b[0m\u001b[0;34m.\u001b[0m\u001b[0mappend\u001b[0m\u001b[0;34m(\u001b[0m\u001b[0mnp\u001b[0m\u001b[0;34m.\u001b[0m\u001b[0marray\u001b[0m\u001b[0;34m(\u001b[0m\u001b[0mlist\u001b[0m\u001b[0;34m(\u001b[0m\u001b[0mspikeData\u001b[0m\u001b[0;34m)\u001b[0m\u001b[0;34m)\u001b[0m\u001b[0;34m.\u001b[0m\u001b[0mT\u001b[0m\u001b[0;34m,\u001b[0m\u001b[0;34m)\u001b[0m\u001b[0;34m\u001b[0m\u001b[0;34m\u001b[0m\u001b[0m\n",
      "\u001b[0;31mTypeError\u001b[0m: iteration over a 0-d array"
     ]
    }
   ],
   "source": [
    "plt.eventplot(pu.extractSpike(spikes0))"
   ]
  },
  {
   "cell_type": "code",
   "execution_count": null,
   "id": "fb317bba-0150-478c-aa5b-bebd0810f570",
   "metadata": {},
   "outputs": [],
   "source": [
    "plt.plot((v0-np.mean(v0))/np.std(v0), 'k')\n",
    "plt.plot((ge0-np.mean(ge0))/np.std(ge0), 'r')\n",
    "plt.plot((gi0-np.mean(gi0))/np.std(gi0), 'b')\n",
    "plt.plot((v1-np.mean(v1))/np.std(v1), ':k')\n",
    "plt.plot((ge1-np.mean(ge1))/np.std(ge1), ':r')\n",
    "plt.plot((gi1-np.mean(gi1))/np.std(gi1), ':b')\n",
    "plt.plot((i-np.mean(i))/np.std(i), 'g')\n",
    "\n"
   ]
  },
  {
   "cell_type": "code",
   "execution_count": null,
   "id": "131f2815-6f8d-4eae-9ce2-99eb06577b50",
   "metadata": {},
   "outputs": [],
   "source": []
  }
 ],
 "metadata": {
  "kernelspec": {
   "display_name": "Python 3",
   "language": "python",
   "name": "python3"
  },
  "language_info": {
   "codemirror_mode": {
    "name": "ipython",
    "version": 3
   },
   "file_extension": ".py",
   "mimetype": "text/x-python",
   "name": "python",
   "nbconvert_exporter": "python",
   "pygments_lexer": "ipython3",
   "version": "3.8.5"
  }
 },
 "nbformat": 4,
 "nbformat_minor": 5
}
