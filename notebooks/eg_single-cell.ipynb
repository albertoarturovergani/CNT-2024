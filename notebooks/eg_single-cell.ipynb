{
 "cells": [
  {
   "cell_type": "markdown",
   "id": "d23c6575-24d9-462a-b06a-f311eac91698",
   "metadata": {},
   "source": [
    "# Single neuron dynamics"
   ]
  },
  {
   "cell_type": "code",
   "execution_count": 1,
   "id": "36a65937-6711-41ad-a40c-03aac3460b35",
   "metadata": {},
   "outputs": [],
   "source": [
    "# note: run this example with Python3 kernel"
   ]
  },
  {
   "cell_type": "markdown",
   "id": "b978e456-3f8a-462b-af3f-437245359748",
   "metadata": {},
   "source": [
    "## libs and path"
   ]
  },
  {
   "cell_type": "code",
   "execution_count": 2,
   "id": "cf1ef958-d263-4fb8-929b-fdcbe1c2342b",
   "metadata": {},
   "outputs": [
    {
     "name": "stderr",
     "output_type": "stream",
     "text": [
      "INFO       Cache size for target 'cython': 1175478576 MB.\n",
      "You can call clear_cache('cython') to delete all files from the cache or manually delete files in the '/home/bbpnrsoa/.cython/brian_extensions' directory. [brian2]\n"
     ]
    },
    {
     "name": "stdout",
     "output_type": "stream",
     "text": [
      "../outputs/eg_single-neuron-2023-11-20T17:31:10.538936\n"
     ]
    }
   ],
   "source": [
    "try:\n",
    "    import pyNN.spiNNaker as sim\n",
    "except ModuleNotFoundError:\n",
    "    import pyNN.brian2 as sim\n",
    "    \n",
    "from pyNN import space \n",
    "import numpy as np\n",
    "import matplotlib.pyplot as plt\n",
    "import numpy as np\n",
    "import matplotlib.pyplot as plt\n",
    "import scipy\n",
    "import pickle\n",
    "import pandas as pd\n",
    "import seaborn as sns\n",
    "import time\n",
    "import datetime\n",
    "import json\n",
    "import warnings\n",
    "warnings.filterwarnings('ignore')\n",
    "\n",
    "\n",
    "fileName = 'eg_single-neuron' \n",
    "savePath = f'../outputs/'\n",
    "dt_string = datetime.datetime.today().isoformat() # ISO8601 ! :-)\n",
    "tag = dt_string \n",
    "saveName = f'{savePath}{fileName}-{tag}'\n",
    "print(saveName)\n",
    "PARS={}"
   ]
  },
  {
   "cell_type": "markdown",
   "id": "ebd378ab-a88d-466d-a1ba-b9ba019dd8a7",
   "metadata": {},
   "source": [
    "## sim setup"
   ]
  },
  {
   "cell_type": "code",
   "execution_count": 3,
   "id": "31652dc0-c18f-42f6-9a01-36c8b7b9f973",
   "metadata": {},
   "outputs": [],
   "source": [
    "PARS['dt']=1 #ms\n",
    "PARS['min_delay']=1 #ms\n",
    "PARS['max_delay']=100 #ms\n",
    "PARS['simtime']=500 #ms\n",
    "\n",
    "sim.setup(\n",
    "        timestep=PARS['dt'],\n",
    "        min_delay=PARS['min_delay'],\n",
    "        max_delay=PARS['max_delay'])\n",
    "\n",
    "simtime = PARS['simtime']"
   ]
  },
  {
   "cell_type": "code",
   "execution_count": null,
   "id": "eded90d9-46d7-48fd-80ef-fd19464a2128",
   "metadata": {},
   "outputs": [],
   "source": []
  },
  {
   "cell_type": "markdown",
   "id": "5b9fa5bb-c714-449c-9dce-e8a433bc655a",
   "metadata": {},
   "source": [
    "## network design"
   ]
  },
  {
   "cell_type": "code",
   "execution_count": 4,
   "id": "563c1922-b673-4e29-af2f-282d8a9078f6",
   "metadata": {},
   "outputs": [],
   "source": [
    "MODEL=sim.IF_cond_exp\n",
    "N_CELLS = 1\n",
    "\n",
    "netPars={'v_rest': -65.0, \n",
    "      'v_thresh': -37.0, \n",
    "      'v_reset': -80.0,\n",
    "      'cm': 1.0, \n",
    "      'tau_m': 20.0, \n",
    "      'tau_refrac': 0.1, \n",
    "      'tau_syn_E': 5.0, \n",
    "      'tau_syn_I': 5.0, \n",
    "      'e_rev_E': 0.0, \n",
    "      'e_rev_I': -70.0, \n",
    "      'i_offset': 0.0}\n",
    "\n",
    "cell0 = sim.Population(N_CELLS, \n",
    "                      MODEL, \n",
    "                      cellparams=netPars,\n",
    "                      label='cell0')\n",
    "\n",
    "cell0.record(['v', 'gsyn_exc', 'gsyn_inh', 'spikes'])\n"
   ]
  },
  {
   "cell_type": "markdown",
   "id": "7d53bf12-f9b8-4b66-891b-e1fbd649c039",
   "metadata": {},
   "source": [
    "## input design"
   ]
  },
  {
   "cell_type": "code",
   "execution_count": 5,
   "id": "cb05215c-25b1-45aa-886d-afd8fd00f0a2",
   "metadata": {},
   "outputs": [],
   "source": [
    "# not implemented in sPyNNaker\n",
    "PARS['AC-start']=100 # ms\n",
    "PARS['AC-stop']=400 # ms\n",
    "PARS['AC-amplitude']=10 # nA\n",
    "PARS['AC-frequency']=10 # Hz\n",
    "\n",
    "\n",
    "pulse = sim.ACSource(start=PARS['AC-start'],\n",
    "                     stop=PARS['AC-stop'],\n",
    "                     amplitude=PARS['AC-amplitude'],\n",
    "                     frequency=PARS['AC-frequency']\n",
    "                     )\n",
    "\n",
    "pulse.inject_into(cell0)\n",
    "pulse.record()\n",
    "\n"
   ]
  },
  {
   "cell_type": "markdown",
   "id": "793c75f2-b147-4a91-9162-6c0e8e9e637c",
   "metadata": {},
   "source": [
    "# simulation run"
   ]
  },
  {
   "cell_type": "code",
   "execution_count": 6,
   "id": "03ac6815-a51b-4120-9622-6aba7dc14552",
   "metadata": {},
   "outputs": [
    {
     "name": "stderr",
     "output_type": "stream",
     "text": [
      "INFO       No numerical integration method specified for group 'neurongroup', using method 'euler' (took 0.02s, trying other methods took 0.08s). [brian2.stateupdaters.base.method_choice]\n"
     ]
    },
    {
     "name": "stdout",
     "output_type": "stream",
     "text": [
      "simulation time: 0.6045742034912109 [s]\n"
     ]
    }
   ],
   "source": [
    "tic = time.time()\n",
    "sim.run(PARS['simtime'])\n",
    "toc = time.time() - tic\n",
    "print(f'simulation time: {toc} [s]')\n"
   ]
  },
  {
   "cell_type": "markdown",
   "id": "a74c61b7-c8f5-4251-90d4-3550206db64f",
   "metadata": {},
   "source": [
    "# save results"
   ]
  },
  {
   "cell_type": "code",
   "execution_count": 7,
   "id": "cd1db223-6305-4928-884b-c7123c5fa24d",
   "metadata": {},
   "outputs": [],
   "source": [
    "for recording in ['v', 'gsyn_inh', 'gsyn_exc', 'spikes']:\n",
    "    cell0.write_data(f'{saveName}-{recording}.pkl')"
   ]
  },
  {
   "cell_type": "code",
   "execution_count": 8,
   "id": "c71a0891-8984-4470-994b-1c5eb7382346",
   "metadata": {},
   "outputs": [
    {
     "data": {
      "text/plain": [
       "Block with 1 segments\n",
       "name: 'cell0'\n",
       "description: 'Population \"cell0\"\\n    Structure   : Line\\n    Local cells : 1\\n    Cell type   : IF_cond_exp\\n    ID range    : 0-0\\n    First cell on this node:\\n      ID: 0\\n      {}'\n",
       "annotations: {'size': 1,\n",
       "  'first_index': 0,\n",
       "  'last_index': 1,\n",
       "  'first_id': 0,\n",
       "  'last_id': 0,\n",
       "  'label': 'cell0',\n",
       "  'simulator': 'Brian2',\n",
       "  'dt': 1.0,\n",
       "  'mpi_processes': 1}\n",
       "rec_datetime: datetime.datetime(2023, 11, 20, 17, 31, 11, 270658)\n",
       "# segments (N=1)\n",
       "0: Segment with 3 analogsignals, 1 spiketrains\n",
       "   name: 'segment000'\n",
       "   description: 'Population \"cell0\"\\n    Structure   : Line\\n    Local cells : 1\\n    Cell type   : IF_cond_exp\\n    ID range    : 0-0\\n    First cell on this node:\\n      ID: 0\\n      {}'\n",
       "   # analogsignals (N=3)\n",
       "   0: AnalogSignal with 1 channels of length 501; units uS; datatype float64 \n",
       "      name: 'gsyn_inh'\n",
       "      annotations: {'source_ids': array([0]), 'source_population': 'cell0'}\n",
       "      sampling rate: 1.0 1/ms\n",
       "      time: 0.0 ms to 501.0 ms\n",
       "   1: AnalogSignal with 1 channels of length 501; units uS; datatype float64 \n",
       "      name: 'gsyn_exc'\n",
       "      annotations: {'source_ids': array([0]), 'source_population': 'cell0'}\n",
       "      sampling rate: 1.0 1/ms\n",
       "      time: 0.0 ms to 501.0 ms\n",
       "   2: AnalogSignal with 1 channels of length 501; units mV; datatype float64 \n",
       "      name: 'v'\n",
       "      annotations: {'source_ids': array([0]), 'source_population': 'cell0'}\n",
       "      sampling rate: 1.0 1/ms\n",
       "      time: 0.0 ms to 501.0 ms"
      ]
     },
     "execution_count": 8,
     "metadata": {},
     "output_type": "execute_result"
    }
   ],
   "source": [
    "cell0.get_data()"
   ]
  },
  {
   "cell_type": "code",
   "execution_count": 9,
   "id": "2070c046-e22a-4a79-882c-82e7f00d2609",
   "metadata": {},
   "outputs": [],
   "source": [
    "v0=cell0.get_data(variables=['v']).segments[0].analogsignals[0]\n",
    "ge0=cell0.get_data(variables=['gsyn_exc']).segments[0].analogsignals[0]\n",
    "gi0=cell0.get_data(variables=['gsyn_inh']).segments[0].analogsignals[0]\n",
    "spikes0=cell0.get_data(variables=['spikes']).segments[0].spiketrains[0]\n",
    "i=pulse.get_data()"
   ]
  },
  {
   "cell_type": "code",
   "execution_count": 10,
   "id": "cc24169c-8604-42a4-8bdc-78aa7d56e63e",
   "metadata": {},
   "outputs": [],
   "source": [
    "PARS['v-mean']=v0.magnitude.mean()\n",
    "PARS['gsyn_exc-mean']=ge0.magnitude.mean()\n",
    "PARS['gsyn_inh-mean']=gi0.magnitude.mean()\n",
    "PARS['fr-mean']=cell0.get_spike_counts()"
   ]
  },
  {
   "cell_type": "code",
   "execution_count": 11,
   "id": "3152e2c2-2c39-4c16-9947-661fc1574807",
   "metadata": {},
   "outputs": [
    {
     "data": {
      "text/plain": [
       "{'dt': 1,\n",
       " 'min_delay': 1,\n",
       " 'max_delay': 100,\n",
       " 'simtime': 500,\n",
       " 'AC-start': 100,\n",
       " 'AC-stop': 400,\n",
       " 'AC-amplitude': 10,\n",
       " 'AC-frequency': 10,\n",
       " 'v-mean': -94.41487643560124,\n",
       " 'gsyn_exc-mean': 0.0,\n",
       " 'gsyn_inh-mean': 0.0,\n",
       " 'fr-mean': {0: 16},\n",
       " 'v_rest': -65.0,\n",
       " 'v_thresh': -37.0,\n",
       " 'v_reset': -80.0,\n",
       " 'cm': 1.0,\n",
       " 'tau_m': 20.0,\n",
       " 'tau_refrac': 0.1,\n",
       " 'tau_syn_E': 5.0,\n",
       " 'tau_syn_I': 5.0,\n",
       " 'e_rev_E': 0.0,\n",
       " 'e_rev_I': -70.0,\n",
       " 'i_offset': 0.0}"
      ]
     },
     "execution_count": 11,
     "metadata": {},
     "output_type": "execute_result"
    }
   ],
   "source": [
    "JSON=dict(**PARS,**netPars)\n",
    "with open(f'{saveName}.json', 'w') as json_file:\n",
    "    json.dump(JSON, json_file)\n",
    "JSON"
   ]
  },
  {
   "cell_type": "code",
   "execution_count": 24,
   "id": "c5c1d993-e435-456c-973d-b7a81936ef54",
   "metadata": {},
   "outputs": [
    {
     "name": "stdout",
     "output_type": "stream",
     "text": [
      "cell0 spikes: {0: 16}\n"
     ]
    },
    {
     "data": {
      "image/png": "[encoded data removed]",
      "text/plain": [
       "<Figure size 504x360 with 2 Axes>"
      ]
     },
     "metadata": {
      "needs_background": "light"
     },
     "output_type": "display_data"
    }
   ],
   "source": [
    "print(f'cell0 spikes: {cell0.get_spike_counts()}')\n",
    "\n",
    "fig, ax = plt.subplots(1,1, figsize=(7,5))\n",
    "#fig.tight_layout(pad=5)\n",
    "\n",
    "ax.plot(i, 'green', alpha=0.8, label='AC input')\n",
    "ax1=ax.twinx()\n",
    "ax1.plot(v0, label='membrane potential')\n",
    "\n",
    "ax1.axhline(y=cell0[0].v_thresh, color='k')\n",
    "ax2=ax1.inset_axes([0,1.15,1,0.25])\n",
    "ax2.set_xlim(0, simtime)\n",
    "ax2.eventplot(np.array(list(spikes0)).T, color='r', alpha=1, label='spikes')\n",
    "\n",
    "ax.set_ylabel('[nA]')\n",
    "ax.set_title('ACsource')\n",
    "ax1.set_title(f'membrane potential and # spikes {cell0.get_spike_counts()}')\n",
    "\n",
    "ax1.set_ylabel('[mV]')\n",
    "\n",
    "ax.set_xlim(0, simtime) \n",
    "ax.set_xlabel('[ms]') \n",
    "#ax1.set_yticklabels(' ')\n",
    "\n",
    "ax1.legend(loc='lower left') \n",
    "ax2.legend(loc='lower left') \n",
    "ax.legend(loc='center left') \n",
    "\n",
    "\n",
    "\n",
    "fig.savefig(f'{saveName}.jpeg', dpi=70, bbox_inches='tight', facecolor='white')\n",
    "\n",
    "\n"
   ]
  },
  {
   "cell_type": "code",
   "execution_count": null,
   "id": "874790ea-b195-44ce-bbc5-ef8614e46b6f",
   "metadata": {},
   "outputs": [],
   "source": []
  }
 ],
 "metadata": {
  "kernelspec": {
   "display_name": "Python 3",
   "language": "python",
   "name": "python3"
  },
  "language_info": {
   "codemirror_mode": {
    "name": "ipython",
    "version": 3
   },
   "file_extension": ".py",
   "mimetype": "text/x-python",
   "name": "python",
   "nbconvert_exporter": "python",
   "pygments_lexer": "ipython3",
   "version": "3.8.5"
  }
 },
 "nbformat": 4,
 "nbformat_minor": 5
}
