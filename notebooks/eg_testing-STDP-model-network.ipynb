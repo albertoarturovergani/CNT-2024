{
 "cells": [
  {
   "cell_type": "markdown",
   "metadata": {},
   "source": [
    "# 1D testing STDP model network\n",
    "\n",
    "http://www.scholarpedia.org/article/Spike-timing_dependent_plasticity\n",
    "\n",
    "STDP can be seen as a spike-based formulation of a Hebbian learning rule. "
   ]
  },
  {
   "cell_type": "markdown",
   "metadata": {},
   "source": [
    "Two thalamic inputs are sent to two cells (one for each) such that there's a small time gap between the two inputs.\n",
    "\n",
    "Two cells are excitatory and the synapse from the first cells to the second is modelled with STDP."
   ]
  },
  {
   "cell_type": "code",
   "execution_count": null,
   "metadata": {},
   "outputs": [],
   "source": [
    "# fileName\n",
    "\n",
    "fileName = 'eg_testing-STDP-model-network'\n",
    "savePath = f'../outputs/'\n",
    "saveName = savePath+fileName\n",
    "saveName"
   ]
  },
  {
   "cell_type": "code",
   "execution_count": null,
   "metadata": {},
   "outputs": [],
   "source": [
    "# libs\n",
    "\n",
    "try:\n",
    "    import pyNN.spiNNaker as sim\n",
    "\n",
    "except ModuleNotFoundError:\n",
    "    import pyNN.brian2 as sim\n",
    "    \n",
    "from pyNN import space \n",
    "import numpy as np\n",
    "import matplotlib.pyplot as plt\n",
    "import time"
   ]
  },
  {
   "cell_type": "code",
   "execution_count": null,
   "metadata": {},
   "outputs": [],
   "source": [
    "# simulation settings\n",
    "\n",
    "sim.setup(\n",
    "        timestep=1, # [ms]\n",
    "        min_delay=1, # [ms]\n",
    "        max_delay=100) # [ms]\n",
    "\n",
    "simtime = 125 # [ms+]\n",
    "\n"
   ]
  },
  {
   "cell_type": "markdown",
   "metadata": {},
   "source": [
    "## make the network"
   ]
  },
  {
   "cell_type": "code",
   "execution_count": null,
   "metadata": {},
   "outputs": [],
   "source": [
    "# define make_pop\n",
    "\n",
    "pops = {}\n",
    "\n",
    "pops['pre'] = sim.Population(\n",
    "                        1, # one cell in each cell model\n",
    "                        sim.IF_curr_exp,\n",
    "                        cellparams=sim.IF_curr_exp.default_initial_values, # std pars used\n",
    "                        structure = space.Line(dx=1.0, x0=0.0, y=0.0, z=0.0),\n",
    "                        initial_values=None,\n",
    "                        label='pre',\n",
    "                        )\n",
    "                        \n",
    "pops['post'] = sim.Population(\n",
    "                        1, # one cell in each cell model\n",
    "                        sim.IF_curr_exp,\n",
    "                        cellparams=sim.IF_curr_exp.default_initial_values, # std pars used\n",
    "                        structure = space.Line(dx=1.0, x0=0.0, y=0.0, z=0.0),\n",
    "                        initial_values=None,\n",
    "                        label='post',\n",
    "                        )\n",
    "\n",
    "pops['pre'].record(['spikes', 'v', 'gsyn_exc', 'gsyn_inh'])\n",
    "pops['post'].record(['spikes', 'v', 'gsyn_exc', 'gsyn_inh'])\n",
    "\n",
    "pops.keys()"
   ]
  },
  {
   "cell_type": "markdown",
   "metadata": {},
   "source": [
    "## make the thalamic input stimulus"
   ]
  },
  {
   "cell_type": "code",
   "execution_count": null,
   "metadata": {},
   "outputs": [],
   "source": [
    "pops['thalamus-pre'] = sim.Population(1, \n",
    "                            sim.SpikeSourceArray([30, 40, 50, 60, 70, 80, 90]),\n",
    "                            structure = space.Line(dx=1.0, x0=0.0, y=0.0, z=0.0),\n",
    "                            )    \n",
    "\n",
    "pops['thalamus-post'] = sim.Population(1, \n",
    "                             sim.SpikeSourceArray([32, 42, 52, 62, 72, 82, 92]),\n",
    "                             structure = space.Line(dx=1.0, x0=0.0, y=0.0, z=0.0))\n",
    "\n",
    "pops['thalamus-post'].record('spikes')\n",
    "pops['thalamus-pre'].record('spikes')\n",
    "\n",
    "\n",
    "pops.keys()"
   ]
  },
  {
   "cell_type": "markdown",
   "metadata": {},
   "source": [
    "## make learning rule between pre and post syn cells"
   ]
  },
  {
   "cell_type": "code",
   "execution_count": null,
   "metadata": {},
   "outputs": [],
   "source": [
    "timing = sim.SpikePairRule(tau_plus=10.0, \n",
    "                           tau_minus=1.0, \n",
    "                           A_plus=0.5, \n",
    "                           A_minus=0.5)\n",
    "\n",
    "weight = sim.AdditiveWeightDependence(w_max=5.0, w_min=0.0) # range of learnig #nA\n",
    "\n",
    "starting_weight = 0.1 # uS\n",
    "projs = {}\n",
    "projs['pre', 'post'] = sim.Projection(pops['pre'], pops['post'], \n",
    "                                      sim.OneToOneConnector(), \n",
    "                                      sim.STDPMechanism(\n",
    "                                          timing_dependence=timing, \n",
    "                                          weight_dependence=weight, \n",
    "                                          weight=starting_weight, \n",
    "                                          delay=5.0))\n",
    "\n",
    "projs.keys()"
   ]
  },
  {
   "cell_type": "markdown",
   "metadata": {},
   "source": [
    "## make the thalamic - pops projections"
   ]
  },
  {
   "cell_type": "code",
   "execution_count": null,
   "metadata": {},
   "outputs": [],
   "source": [
    "projs['thalamus-pre', 'pre'] = sim.Projection(\n",
    "                                    pops['thalamus-pre'],\n",
    "                                    pops['pre'],\n",
    "                                    sim.OneToOneConnector(),\n",
    "                                    synapse_type=sim.StaticSynapse(weight=5),#, delay=None),\n",
    "                                    receptor_type = 'excitatory',\n",
    "                                    space = space.Space(axes = 'x'),\n",
    "                                    label=None,\n",
    "                                )\n",
    "\n",
    "\n",
    "projs['thalamus-post', 'post'] = sim.Projection(\n",
    "                                    pops['thalamus-post'],\n",
    "                                    pops['post'],\n",
    "                                    sim.OneToOneConnector(),\n",
    "                                    synapse_type=sim.StaticSynapse(weight=5),#, delay=1.0),\n",
    "                                    receptor_type = 'excitatory',\n",
    "                                    space = space.Space(axes = 'x'),\n",
    "                                    label=None,\n",
    "                                )\n",
    "\n",
    "\n",
    "\n",
    "projs.keys()"
   ]
  },
  {
   "cell_type": "markdown",
   "metadata": {},
   "source": [
    "## run the simulation"
   ]
  },
  {
   "cell_type": "code",
   "execution_count": null,
   "metadata": {},
   "outputs": [],
   "source": [
    "# simulation run\n",
    "\n",
    "tic = time.time()\n",
    "sim.run(simtime)\n",
    "toc = time.time() - tic"
   ]
  },
  {
   "cell_type": "markdown",
   "metadata": {},
   "source": [
    "## save results"
   ]
  },
  {
   "cell_type": "code",
   "execution_count": null,
   "metadata": {},
   "outputs": [],
   "source": [
    "# save the results\n",
    "\n",
    "outputs = {}\n",
    "\n",
    "for syn in ['pre', 'post', 'thalamus-pre', 'thalamus-post']:\n",
    "    \n",
    "    outputs[syn] = pops[syn].get_data()\n",
    "    \n",
    "    for recording in ['v', 'gsyn_inh', 'gsyn_exc', 'spikes']:\n",
    "        pops[syn].write_data(fileName + '_' + str(recording) + '.pkl')\n"
   ]
  },
  {
   "cell_type": "markdown",
   "metadata": {},
   "source": [
    "## recover results"
   ]
  },
  {
   "cell_type": "code",
   "execution_count": null,
   "metadata": {},
   "outputs": [],
   "source": [
    "# make the recover results function\n",
    "def recover_results(outputs):\n",
    "    results = {}\n",
    "    for key in outputs.keys(): \n",
    "        \n",
    "        # to get voltage and conductances\n",
    "        for analogsignal in outputs[key].segments[0].analogsignals:\n",
    "            print(analogsignal.name)\n",
    "            results[key, analogsignal.name] = analogsignal\n",
    "\n",
    "        # to get spikes\n",
    "        results[key, 'spikes'] = outputs[key].segments[0].spiketrains\n",
    "    return results\n",
    "\n",
    "# recover results\n",
    "results = recover_results(outputs)\n",
    "results.keys()"
   ]
  },
  {
   "cell_type": "code",
   "execution_count": null,
   "metadata": {},
   "outputs": [],
   "source": [
    "SPIKES={}\n",
    "for feat in ['pre', 'post']:\n",
    "    VAR=results[feat, 'spikes']\n",
    "    for k in range(len(VAR)):\n",
    "        SPIKES[feat]=[]\n",
    "        SPIKES[feat].append(np.array(list(VAR[k])).T,)\n",
    "\n",
    "post=SPIKES['post'][0][0:len(SPIKES['pre'][0])],\n",
    "pre=SPIKES['pre'][0]\n",
    "\n",
    "x=np.sort(post-pre)\n",
    "A_plus=0.5\n",
    "A_minus=0.5\n",
    "tau_plus=10\n",
    "tau_minus=1\n",
    "W_x_plus = A_plus*np.exp(-x[x>0]/tau_plus)\n",
    "W_x_minus = - A_minus*np.exp(x[x<0]/tau_minus)\n",
    "\n",
    "plt.plot(np.sort(post-pre)[0], list(W_x_minus)+list(W_x_plus), ':+')\n",
    "\n",
    "plt.axhline(y=0)\n",
    "plt.axvline(x=0)"
   ]
  },
  {
   "cell_type": "code",
   "execution_count": null,
   "metadata": {},
   "outputs": [],
   "source": [
    "np.sort(post-pre)[0]"
   ]
  },
  {
   "cell_type": "code",
   "execution_count": null,
   "metadata": {},
   "outputs": [],
   "source": []
  },
  {
   "cell_type": "markdown",
   "metadata": {},
   "source": [
    "## check the spikes"
   ]
  },
  {
   "cell_type": "raw",
   "metadata": {},
   "source": [
    "fig, axes = plt.subplots(1,1)\n",
    "fig.tight_layout(pad=5)\n",
    "axes_list = fig.axes\n",
    "\n",
    "\n",
    "axes_list[0].eventplot(results['thalamus-pre', 'spikes'], label='thalamus-pre', color='r')\n",
    "axes_list[0].eventplot(results['thalamus-post', 'spikes'], label='thalamus-post', color='b')\n",
    "axes_list[0].set_title('thalamic spikes')\n",
    "axes_list[0].set_xlabel('[ms]')\n",
    "axes_list[0].set_ylabel('cells ID')\n",
    "axes_list[0].set_xlim(0,simtime)\n",
    "#axes_list[0].set_ylim(0,2)\n",
    "axes_list[0].legend()\n",
    "\n",
    "\n",
    "fig, axes = plt.subplots(1,1)\n",
    "fig.tight_layout(pad=5)\n",
    "axes_list = fig.axes\n",
    "axes_list[0].eventplot(results['pre', 'spikes'], label='pre', color='k')\n",
    "axes_list[0].eventplot(results['post', 'spikes'], label='post', color='g')\n",
    "axes_list[0].set_xlabel('[ms]')\n",
    "axes_list[0].set_title('cells spikes')\n",
    "axes_list[0].set_xlim(0,simtime)\n",
    "axes_list[0].legend()\n",
    "axes_list[0].set_xlabel('[ms]')\n",
    "axes_list[0].set_ylabel('cells ID')\n",
    "\n",
    "\n"
   ]
  },
  {
   "cell_type": "code",
   "execution_count": null,
   "metadata": {},
   "outputs": [],
   "source": []
  },
  {
   "cell_type": "markdown",
   "metadata": {},
   "source": [
    "## check the voltage signature"
   ]
  },
  {
   "cell_type": "code",
   "execution_count": null,
   "metadata": {},
   "outputs": [],
   "source": [
    "fig, axes = plt.subplots(2, 1, sharex=True, sharey=False)#, figsize=(11,7))\n",
    "fig.tight_layout(pad=3)\n",
    "fig.suptitle('voltage signature in pre and post synaptic cells')\n",
    "\n",
    "axes_list = fig.axes\n",
    "for idx, syn in enumerate(['pre', 'post']):\n",
    "    axes_list[idx].plot(results[syn, 'v'], label=str(syn))\n",
    "    axes_list[idx].legend()"
   ]
  },
  {
   "cell_type": "code",
   "execution_count": null,
   "metadata": {},
   "outputs": [],
   "source": [
    "fig, axes = plt.subplots(2, 1, sharex=True, sharey=False)#, figsize=(11,7))\n",
    "fig.tight_layout(pad=3)\n",
    "fig.suptitle('gsyn_exc signature in pre and post synaptic cells')\n",
    "\n",
    "axes_list = fig.axes\n",
    "idx = 0\n",
    "for idx, syn in enumerate(['pre', 'post']):\n",
    "    axes_list[idx].plot(results[syn, 'gsyn_exc'], label=str(syn))\n",
    "    axes_list[idx].legend()"
   ]
  },
  {
   "cell_type": "code",
   "execution_count": null,
   "metadata": {},
   "outputs": [],
   "source": [
    "fig, axes = plt.subplots(2, 1, sharex=True, sharey=False)#, figsize=(11,7))\n",
    "fig.tight_layout(pad=3)\n",
    "fig.suptitle('gsyn_inh signature in pre and post synaptic cells')\n",
    "\n",
    "axes_list = fig.axes\n",
    "idx = 0\n",
    "for idx, syn in enumerate(['pre', 'post']):\n",
    "    axes_list[idx].plot(results[syn, 'gsyn_inh'], label=str(syn))\n",
    "    axes_list[idx].legend()"
   ]
  },
  {
   "cell_type": "markdown",
   "metadata": {},
   "source": [
    "## check the STDP between pre and post cells"
   ]
  },
  {
   "cell_type": "code",
   "execution_count": null,
   "metadata": {},
   "outputs": [],
   "source": [
    "projs.keys()\n",
    "#projs['pre', 'post'].get(['source', 'target', 'weight', 'delay'], \"list\")\n",
    "print('starting weight pre stdp: ', starting_weight, ' [uS]')\n",
    "projs['pre', 'post'].getWeights()"
   ]
  },
  {
   "cell_type": "code",
   "execution_count": null,
   "metadata": {},
   "outputs": [],
   "source": [
    "print('final weight after stdp: ', projs['pre', 'post'].getWeights(), ' [uS]')\n",
    "\n",
    "# the weight between pre and post neuron was set to zero before the learning, now it's .."
   ]
  },
  {
   "cell_type": "markdown",
   "metadata": {},
   "source": [
    "## end the simulations"
   ]
  },
  {
   "cell_type": "code",
   "execution_count": null,
   "metadata": {},
   "outputs": [],
   "source": [
    "sim.end()"
   ]
  },
  {
   "cell_type": "markdown",
   "metadata": {},
   "source": [
    "# task1: on thalamus input spike times\n",
    "- test different interspike timing <br>\n",
    "  e.g., <br>\n",
    "    a=np.arange(0,100,10) for the thalamus-pre <br>\n",
    "    a+15 for the thalamus post <br>\n",
    "    \n",
    "- test only one spike source eliciting the pre synaptic cell<br>\n",
    "  remember to set the starting weight > 0, otherwise the post synaptic doesn't learn"
   ]
  },
  {
   "cell_type": "markdown",
   "metadata": {},
   "source": [
    "# task2: on STDP mechanism\n",
    "- try to change the parameter inside the SpikePairRule\n",
    "\n"
   ]
  },
  {
   "cell_type": "code",
   "execution_count": null,
   "metadata": {},
   "outputs": [],
   "source": []
  }
 ],
 "metadata": {
  "kernelspec": {
   "display_name": "Python 3",
   "language": "python",
   "name": "python3"
  },
  "language_info": {
   "codemirror_mode": {
    "name": "ipython",
    "version": 3
   },
   "file_extension": ".py",
   "mimetype": "text/x-python",
   "name": "python",
   "nbconvert_exporter": "python",
   "pygments_lexer": "ipython3",
   "version": "3.8.5"
  }
 },
 "nbformat": 4,
 "nbformat_minor": 4
}
