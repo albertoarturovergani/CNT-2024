{
 "cells": [
  {
   "cell_type": "markdown",
   "id": "138bcf09-78a2-4e5f-8ce9-3a2856695fe1",
   "metadata": {},
   "source": [
    "# HH 1952"
   ]
  },
  {
   "cell_type": "markdown",
   "id": "30e25c15-8497-4a3d-bfc2-f0111de12268",
   "metadata": {},
   "source": [
    "code source: https://brian2.readthedocs.io/en/stable/examples/IF_curve_Hodgkin_Huxley.html"
   ]
  },
  {
   "cell_type": "markdown",
   "id": "8fc0e4e2-cdbe-45ad-a43c-73d4ad7fb127",
   "metadata": {},
   "source": [
    "paper: https://www.ncbi.nlm.nih.gov/pmc/articles/PMC1392213/"
   ]
  },
  {
   "cell_type": "code",
   "execution_count": 1,
   "id": "0aff75b6-fa0c-41ca-a7e4-46f35a6057b8",
   "metadata": {},
   "outputs": [],
   "source": [
    "from brian2 import *\n",
    "\n",
    "def HH1952(integrator):\n",
    "    num_neurons = 100\n",
    "    duration = .5*second\n",
    "\n",
    "    # Parameters\n",
    "    area = 20000*umetre**2\n",
    "    Cm = 1*ufarad*cm**-2 * area\n",
    "    gl = 5e-5*siemens*cm**-2 * area\n",
    "    El = -65*mV\n",
    "    EK = -90*mV\n",
    "    ENa = 50*mV\n",
    "    g_na = 100*msiemens*cm**-2 * area\n",
    "    g_kd = 30*msiemens*cm**-2 * area\n",
    "    VT = -63*mV\n",
    "\n",
    "    # The model\n",
    "    eqs = Equations('''\n",
    "    dv/dt = (gl*(El-v) - g_na*(m*m*m)*h*(v-ENa) - g_kd*(n*n*n*n)*(v-EK) + I)/Cm : volt\n",
    "    dm/dt = 0.32*(mV**-1)*4*mV/exprel((13.*mV-v+VT)/(4*mV))/ms*(1-m)-0.28*(mV**-1)*5*mV/exprel((v-VT-40.*mV)/(5*mV))/ms*m : 1\n",
    "    dn/dt = 0.032*(mV**-1)*5*mV/exprel((15.*mV-v+VT)/(5*mV))/ms*(1.-n)-.5*exp((10.*mV-v+VT)/(40.*mV))/ms*n : 1\n",
    "    dh/dt = 0.128*exp((17.*mV-v+VT)/(18.*mV))/ms*(1.-h)-4./(1+exp((40.*mV-v+VT)/(5.*mV)))/ms*h : 1\n",
    "    I : amp\n",
    "    ''')\n",
    "    # Threshold and refractoriness are only used for spike counting\n",
    "    group = NeuronGroup(num_neurons, eqs,\n",
    "                        threshold='v > -40*mV',\n",
    "                        refractory='v > -40*mV',\n",
    "                        method='exponential_euler')\n",
    "    group.v = El\n",
    "    group.I = '0.7*nA * i / num_neurons'\n",
    "\n",
    "    monitor = SpikeMonitor(group)\n",
    "\n",
    "    run(duration)\n",
    "\n",
    "    plot(group.I/nA, monitor.count / duration)\n",
    "    xlabel('I (nA)')\n",
    "    ylabel('Firing rate (sp/s)')\n",
    "    show()\n",
    "\n"
   ]
  },
  {
   "cell_type": "raw",
   "id": "334bd840-c2f1-4b69-a42d-57527bc50829",
   "metadata": {},
   "source": [
    "'exact': exact integration for linear equations (alternative name: 'linear')\n",
    "'exponential_euler': exponential Euler integration for conditionally linear equations\n",
    "'euler': forward Euler integration (for additive stochastic differential equations using the Euler-Maruyama method)\n",
    "'rk2': second order Runge-Kutta method (midpoint method)\n",
    "'rk4': classical Runge-Kutta method (RK4)\n",
    "'heun': stochastic Heun method for solving Stratonovich stochastic differential equations with non-diagonal multiplicative noise.\n",
    "'milstein': derivative-free Milstein method for solving stochastic differential equations with diagonal multiplicative noise"
   ]
  },
  {
   "cell_type": "code",
   "execution_count": null,
   "id": "01c474b4-c474-4543-9b87-67d4f8a3f10c",
   "metadata": {},
   "outputs": [
    {
     "name": "stdout",
     "output_type": "stream",
     "text": [
      "exponential_euler\n"
     ]
    }
   ],
   "source": [
    "integrators=[#'exact', \n",
    "             'exponential_euler', \n",
    "             'euler', \n",
    "             'rk2', \n",
    "             'rk4', \n",
    "             'heun', \n",
    "             'milstein']\n",
    "\n",
    "for integrator in integrators:\n",
    "    print(integrator)\n",
    "    HH1952(integrator)"
   ]
  },
  {
   "cell_type": "code",
   "execution_count": null,
   "id": "8183832e-c0c0-431c-bfa6-a832102aeecd",
   "metadata": {},
   "outputs": [],
   "source": []
  },
  {
   "cell_type": "code",
   "execution_count": null,
   "id": "5b2cc20c-01db-4827-8240-6dcc6de56193",
   "metadata": {},
   "outputs": [],
   "source": []
  }
 ],
 "metadata": {
  "kernelspec": {
   "display_name": "Python 3 (ipykernel)",
   "language": "python",
   "name": "python3"
  },
  "language_info": {
   "codemirror_mode": {
    "name": "ipython",
    "version": 3
   },
   "file_extension": ".py",
   "mimetype": "text/x-python",
   "name": "python",
   "nbconvert_exporter": "python",
   "pygments_lexer": "ipython3",
   "version": "3.8.5"
  }
 },
 "nbformat": 4,
 "nbformat_minor": 5
}
