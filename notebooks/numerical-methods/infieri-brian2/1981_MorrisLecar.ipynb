{
 "cells": [
  {
   "cell_type": "markdown",
   "id": "138bcf09-78a2-4e5f-8ce9-3a2856695fe1",
   "metadata": {},
   "source": [
    "# Morris_Lecar_1981"
   ]
  },
  {
   "cell_type": "markdown",
   "id": "30e25c15-8497-4a3d-bfc2-f0111de12268",
   "metadata": {},
   "source": [
    "code source: https://brian2.readthedocs.io/en/stable/examples/frompapers.Morris_Lecar_1981.html"
   ]
  },
  {
   "cell_type": "markdown",
   "id": "8fc0e4e2-cdbe-45ad-a43c-73d4ad7fb127",
   "metadata": {},
   "source": [
    "paper: https://pubmed.ncbi.nlm.nih.gov/7260316/"
   ]
  },
  {
   "cell_type": "code",
   "execution_count": 5,
   "id": "0aff75b6-fa0c-41ca-a7e4-46f35a6057b8",
   "metadata": {},
   "outputs": [],
   "source": [
    "from brian2 import *\n",
    "\n",
    "def MorrisLecar1981(integrator):\n",
    "\n",
    "    set_device('cpp_standalone')\n",
    "    defaultclock.dt = 0.01*ms\n",
    "\n",
    "    g_L = 2*mS\n",
    "    g_Ca = 4*mS\n",
    "    g_K = 8*mS\n",
    "    V_L = -50*mV\n",
    "    V_Ca = 100*mV\n",
    "    V_K = -70*mV\n",
    "    lambda_n__max = 1.0/(15*ms)\n",
    "    V_1 = 10*mV\n",
    "    V_2 = 15*mV  # Note that Figure caption says -15 which seems to be a typo\n",
    "    V_3 = -1*mV\n",
    "    V_4 = 14.5*mV\n",
    "    C = 20*uF\n",
    "\n",
    "\n",
    "    # V,N-reduced system (Eq. 9 in article), note that the variables M and N (and lambda_N, etc.)\n",
    "    # have been renamed to m and n to better match the Hodgkin-Huxley convention, and because N has\n",
    "    # a reserved meaning in Brian (number of neurons)\n",
    "    eqs = '''\n",
    "    dV/dt = (-g_L*(V - V_L) - g_Ca*m_inf*(V - V_Ca) - g_K*n*(V - V_K) + I)/C : volt\n",
    "    dn/dt = lambda_n*(n_inf - n) : 1\n",
    "    m_inf = 0.5*(1 + tanh((V - V_1)/V_2)) : 1\n",
    "    n_inf = 0.5*(1 + tanh((V - V_3)/V_4)) : 1\n",
    "    lambda_n = lambda_n__max*cosh((V - V_3)/(2*V_4)) : Hz\n",
    "    I : amp\n",
    "    '''\n",
    "\n",
    "    neuron = NeuronGroup(17, eqs, method=integrator)\n",
    "    neuron.I = (np.arange(17)*25+100)*uA\n",
    "    neuron.V = V_L\n",
    "    neuron.n = 'n_inf'\n",
    "    mon = StateMonitor(neuron, ['V', 'n'], record=True)\n",
    "\n",
    "    run_time = 220*ms\n",
    "    run(run_time)\n",
    "    fig, (ax1, ax2) = plt.subplots(1, 2, gridspec_kw={'right': 0.95, 'bottom': 0.15},\n",
    "                                   figsize=(6.4, 3.2))\n",
    "    fig.subplots_adjust(wspace=0.4)\n",
    "    for line_no, idx in enumerate([0, 4, 12, 15]):\n",
    "        color = 'C%d' % line_no\n",
    "        ax1.plot(mon.t/ms, mon.V[idx]/mV, color=color)\n",
    "        ax1.text(225, mon.V[idx][-1]/mV, '%.0f' % (neuron.I[idx]/uA), color=color)\n",
    "    ax1.set(xlim=(0, 220), ylim=(-50, 50), xlabel='time (ms)')\n",
    "    ax1.set_ylabel('V (mV)', rotation=0)\n",
    "    ax1.spines['right'].set_visible(False)\n",
    "    ax1.spines['top'].set_visible(False)\n",
    "\n",
    "    # dV/dt nullclines\n",
    "    V = linspace(-50, 50, 100)*mV\n",
    "    for line_no, (idx, color) in enumerate([(0, 'C0'), (4, 'C1'), (8, 'C4'), (12, 'C2'), (16, 'C5')]):\n",
    "        n_null = (g_L*(V - V_L) + g_Ca*0.5*(1 + tanh((V - V_1)/V_2))*(V - V_Ca) - neuron.I[idx])/(-g_K*(V - V_K))\n",
    "        ax2.plot(V/mV, n_null, color=color)\n",
    "        ax2.text(V[20+5*line_no]/mV, n_null[20+5*line_no]+0.01, '%.0f' % (neuron.I[idx]/uA), color=color)\n",
    "    # dn/dt nullcline\n",
    "    n_null = 0.5*(1 + tanh((V - V_3)/V_4))\n",
    "    ax2.plot(V/mV, n_null, color='k')\n",
    "    ax2.set(xlim=(-50, 50), ylim=(0, 1), xlabel='V (mV)')\n",
    "    ax2.set_ylabel('n', rotation=0)\n",
    "    ax2.spines['right'].set_visible(False)\n",
    "    ax2.spines['top'].set_visible(False)\n",
    "    plt.show()\n",
    "    "
   ]
  },
  {
   "cell_type": "raw",
   "id": "334bd840-c2f1-4b69-a42d-57527bc50829",
   "metadata": {},
   "source": [
    "'exact': exact integration for linear equations (alternative name: 'linear')\n",
    "'exponential_euler': exponential Euler integration for conditionally linear equations\n",
    "'euler': forward Euler integration (for additive stochastic differential equations using the Euler-Maruyama method)\n",
    "'rk2': second order Runge-Kutta method (midpoint method)\n",
    "'rk4': classical Runge-Kutta method (RK4)\n",
    "'heun': stochastic Heun method for solving Stratonovich stochastic differential equations with non-diagonal multiplicative noise.\n",
    "'milstein': derivative-free Milstein method for solving stochastic differential equations with diagonal multiplicative noise"
   ]
  },
  {
   "cell_type": "code",
   "execution_count": 8,
   "id": "01c474b4-c474-4543-9b87-67d4f8a3f10c",
   "metadata": {},
   "outputs": [
    {
     "name": "stdout",
     "output_type": "stream",
     "text": [
      "exponential_euler\n"
     ]
    },
    {
     "ename": "RuntimeError",
     "evalue": "The network has already been built and run before. Use set_device with build_on_run=False and an explicit device.build call to use multiple run statements with this device.",
     "output_type": "error",
     "traceback": [
      "\u001b[0;31m---------------------------------------------------------------------------\u001b[0m",
      "\u001b[0;31mRuntimeError\u001b[0m                              Traceback (most recent call last)",
      "Cell \u001b[0;32mIn[8], line 10\u001b[0m\n\u001b[1;32m      8\u001b[0m \u001b[38;5;28;01mfor\u001b[39;00m integrator \u001b[38;5;129;01min\u001b[39;00m integrators:\n\u001b[1;32m      9\u001b[0m     \u001b[38;5;28mprint\u001b[39m(integrator)\n\u001b[0;32m---> 10\u001b[0m     \u001b[43mMorrisLecar1981\u001b[49m\u001b[43m(\u001b[49m\u001b[43mintegrator\u001b[49m\u001b[43m)\u001b[49m\n",
      "Cell \u001b[0;32mIn[5], line 41\u001b[0m, in \u001b[0;36mMorrisLecar1981\u001b[0;34m(integrator)\u001b[0m\n\u001b[1;32m     38\u001b[0m mon \u001b[38;5;241m=\u001b[39m StateMonitor(neuron, [\u001b[38;5;124m'\u001b[39m\u001b[38;5;124mV\u001b[39m\u001b[38;5;124m'\u001b[39m, \u001b[38;5;124m'\u001b[39m\u001b[38;5;124mn\u001b[39m\u001b[38;5;124m'\u001b[39m], record\u001b[38;5;241m=\u001b[39m\u001b[38;5;28;01mTrue\u001b[39;00m)\n\u001b[1;32m     40\u001b[0m run_time \u001b[38;5;241m=\u001b[39m \u001b[38;5;241m220\u001b[39m\u001b[38;5;241m*\u001b[39mms\n\u001b[0;32m---> 41\u001b[0m \u001b[43mrun\u001b[49m\u001b[43m(\u001b[49m\u001b[43mrun_time\u001b[49m\u001b[43m)\u001b[49m\n\u001b[1;32m     42\u001b[0m fig, (ax1, ax2) \u001b[38;5;241m=\u001b[39m plt\u001b[38;5;241m.\u001b[39msubplots(\u001b[38;5;241m1\u001b[39m, \u001b[38;5;241m2\u001b[39m, gridspec_kw\u001b[38;5;241m=\u001b[39m{\u001b[38;5;124m'\u001b[39m\u001b[38;5;124mright\u001b[39m\u001b[38;5;124m'\u001b[39m: \u001b[38;5;241m0.95\u001b[39m, \u001b[38;5;124m'\u001b[39m\u001b[38;5;124mbottom\u001b[39m\u001b[38;5;124m'\u001b[39m: \u001b[38;5;241m0.15\u001b[39m},\n\u001b[1;32m     43\u001b[0m                                figsize\u001b[38;5;241m=\u001b[39m(\u001b[38;5;241m6.4\u001b[39m, \u001b[38;5;241m3.2\u001b[39m))\n\u001b[1;32m     44\u001b[0m fig\u001b[38;5;241m.\u001b[39msubplots_adjust(wspace\u001b[38;5;241m=\u001b[39m\u001b[38;5;241m0.4\u001b[39m)\n",
      "File \u001b[0;32m~/.local/lib/python3.8/site-packages/brian2/units/fundamentalunits.py:2462\u001b[0m, in \u001b[0;36mcheck_units.<locals>.do_check_units.<locals>.new_f\u001b[0;34m(*args, **kwds)\u001b[0m\n\u001b[1;32m   2455\u001b[0m             error_message \u001b[38;5;241m=\u001b[39m (\u001b[38;5;124mf\u001b[39m\u001b[38;5;124m\"\u001b[39m\u001b[38;5;124mFunction \u001b[39m\u001b[38;5;124m'\u001b[39m\u001b[38;5;132;01m{\u001b[39;00mf\u001b[38;5;241m.\u001b[39m\u001b[38;5;18m__name__\u001b[39m\u001b[38;5;132;01m}\u001b[39;00m\u001b[38;5;124m'\u001b[39m\u001b[38;5;124m \u001b[39m\u001b[38;5;124m\"\u001b[39m\n\u001b[1;32m   2456\u001b[0m                              \u001b[38;5;124mf\u001b[39m\u001b[38;5;124m\"\u001b[39m\u001b[38;5;124mexpected a quantitity with unit \u001b[39m\u001b[38;5;124m\"\u001b[39m\n\u001b[1;32m   2457\u001b[0m                              \u001b[38;5;124mf\u001b[39m\u001b[38;5;124m\"\u001b[39m\u001b[38;5;132;01m{\u001b[39;00munit\u001b[38;5;132;01m}\u001b[39;00m\u001b[38;5;124m for argument \u001b[39m\u001b[38;5;124m'\u001b[39m\u001b[38;5;132;01m{\u001b[39;00mk\u001b[38;5;132;01m}\u001b[39;00m\u001b[38;5;124m'\u001b[39m\u001b[38;5;124m but got \u001b[39m\u001b[38;5;124m\"\u001b[39m\n\u001b[1;32m   2458\u001b[0m                              \u001b[38;5;124mf\u001b[39m\u001b[38;5;124m\"\u001b[39m\u001b[38;5;124m'\u001b[39m\u001b[38;5;132;01m{\u001b[39;00mvalue\u001b[38;5;132;01m}\u001b[39;00m\u001b[38;5;124m'\u001b[39m\u001b[38;5;124m\"\u001b[39m)\n\u001b[1;32m   2459\u001b[0m             \u001b[38;5;28;01mraise\u001b[39;00m DimensionMismatchError(error_message,\n\u001b[1;32m   2460\u001b[0m                                          get_dimensions(newkeyset[k]))\n\u001b[0;32m-> 2462\u001b[0m result \u001b[38;5;241m=\u001b[39m \u001b[43mf\u001b[49m\u001b[43m(\u001b[49m\u001b[38;5;241;43m*\u001b[39;49m\u001b[43margs\u001b[49m\u001b[43m,\u001b[49m\u001b[43m \u001b[49m\u001b[38;5;241;43m*\u001b[39;49m\u001b[38;5;241;43m*\u001b[39;49m\u001b[43mkwds\u001b[49m\u001b[43m)\u001b[49m\n\u001b[1;32m   2463\u001b[0m \u001b[38;5;28;01mif\u001b[39;00m \u001b[38;5;124m'\u001b[39m\u001b[38;5;124mresult\u001b[39m\u001b[38;5;124m'\u001b[39m \u001b[38;5;129;01min\u001b[39;00m au:\n\u001b[1;32m   2464\u001b[0m     \u001b[38;5;28;01mif\u001b[39;00m \u001b[38;5;28misinstance\u001b[39m(au[\u001b[38;5;124m'\u001b[39m\u001b[38;5;124mresult\u001b[39m\u001b[38;5;124m'\u001b[39m], Callable) \u001b[38;5;129;01mand\u001b[39;00m au[\u001b[38;5;124m'\u001b[39m\u001b[38;5;124mresult\u001b[39m\u001b[38;5;124m'\u001b[39m] \u001b[38;5;241m!=\u001b[39m \u001b[38;5;28mbool\u001b[39m:\n",
      "File \u001b[0;32m~/.local/lib/python3.8/site-packages/brian2/core/magic.py:377\u001b[0m, in \u001b[0;36mrun\u001b[0;34m(duration, report, report_period, namespace, profile, level)\u001b[0m\n\u001b[1;32m    310\u001b[0m \u001b[38;5;129m@check_units\u001b[39m(duration\u001b[38;5;241m=\u001b[39msecond, report_period\u001b[38;5;241m=\u001b[39msecond)\n\u001b[1;32m    311\u001b[0m \u001b[38;5;28;01mdef\u001b[39;00m \u001b[38;5;21mrun\u001b[39m(duration, report\u001b[38;5;241m=\u001b[39m\u001b[38;5;28;01mNone\u001b[39;00m, report_period\u001b[38;5;241m=\u001b[39m\u001b[38;5;241m10\u001b[39m\u001b[38;5;241m*\u001b[39msecond, namespace\u001b[38;5;241m=\u001b[39m\u001b[38;5;28;01mNone\u001b[39;00m,\n\u001b[1;32m    312\u001b[0m         profile\u001b[38;5;241m=\u001b[39m\u001b[38;5;28;01mNone\u001b[39;00m, level\u001b[38;5;241m=\u001b[39m\u001b[38;5;241m0\u001b[39m):\n\u001b[1;32m    313\u001b[0m     \u001b[38;5;124;03m\"\"\"\u001b[39;00m\n\u001b[1;32m    314\u001b[0m \u001b[38;5;124;03m    run(duration, report=None, report_period=10*second, namespace=None, level=0)\u001b[39;00m\n\u001b[1;32m    315\u001b[0m \u001b[38;5;124;03m    \u001b[39;00m\n\u001b[0;32m   (...)\u001b[0m\n\u001b[1;32m    375\u001b[0m \u001b[38;5;124;03m        intended use. See `MagicNetwork` for more details.\u001b[39;00m\n\u001b[1;32m    376\u001b[0m \u001b[38;5;124;03m    \"\"\"\u001b[39;00m\n\u001b[0;32m--> 377\u001b[0m     \u001b[38;5;28;01mreturn\u001b[39;00m \u001b[43mmagic_network\u001b[49m\u001b[38;5;241;43m.\u001b[39;49m\u001b[43mrun\u001b[49m\u001b[43m(\u001b[49m\u001b[43mduration\u001b[49m\u001b[43m,\u001b[49m\u001b[43m \u001b[49m\u001b[43mreport\u001b[49m\u001b[38;5;241;43m=\u001b[39;49m\u001b[43mreport\u001b[49m\u001b[43m,\u001b[49m\u001b[43m \u001b[49m\u001b[43mreport_period\u001b[49m\u001b[38;5;241;43m=\u001b[39;49m\u001b[43mreport_period\u001b[49m\u001b[43m,\u001b[49m\n\u001b[1;32m    378\u001b[0m \u001b[43m                             \u001b[49m\u001b[43mnamespace\u001b[49m\u001b[38;5;241;43m=\u001b[39;49m\u001b[43mnamespace\u001b[49m\u001b[43m,\u001b[49m\u001b[43m \u001b[49m\u001b[43mprofile\u001b[49m\u001b[38;5;241;43m=\u001b[39;49m\u001b[43mprofile\u001b[49m\u001b[43m,\u001b[49m\u001b[43m \u001b[49m\u001b[43mlevel\u001b[49m\u001b[38;5;241;43m=\u001b[39;49m\u001b[38;5;241;43m2\u001b[39;49m\u001b[38;5;241;43m+\u001b[39;49m\u001b[43mlevel\u001b[49m\u001b[43m)\u001b[49m\n",
      "File \u001b[0;32m~/.local/lib/python3.8/site-packages/brian2/core/magic.py:230\u001b[0m, in \u001b[0;36mMagicNetwork.run\u001b[0;34m(self, duration, report, report_period, namespace, profile, level)\u001b[0m\n\u001b[1;32m    227\u001b[0m \u001b[38;5;28;01mdef\u001b[39;00m \u001b[38;5;21mrun\u001b[39m(\u001b[38;5;28mself\u001b[39m, duration, report\u001b[38;5;241m=\u001b[39m\u001b[38;5;28;01mNone\u001b[39;00m, report_period\u001b[38;5;241m=\u001b[39m\u001b[38;5;241m10\u001b[39m\u001b[38;5;241m*\u001b[39msecond,\n\u001b[1;32m    228\u001b[0m         namespace\u001b[38;5;241m=\u001b[39m\u001b[38;5;28;01mNone\u001b[39;00m, profile\u001b[38;5;241m=\u001b[39m\u001b[38;5;28;01mNone\u001b[39;00m, level\u001b[38;5;241m=\u001b[39m\u001b[38;5;241m0\u001b[39m):\n\u001b[1;32m    229\u001b[0m     \u001b[38;5;28mself\u001b[39m\u001b[38;5;241m.\u001b[39m_update_magic_objects(level\u001b[38;5;241m=\u001b[39mlevel\u001b[38;5;241m+\u001b[39m\u001b[38;5;241m1\u001b[39m)\n\u001b[0;32m--> 230\u001b[0m     \u001b[43mNetwork\u001b[49m\u001b[38;5;241;43m.\u001b[39;49m\u001b[43mrun\u001b[49m\u001b[43m(\u001b[49m\u001b[38;5;28;43mself\u001b[39;49m\u001b[43m,\u001b[49m\u001b[43m \u001b[49m\u001b[43mduration\u001b[49m\u001b[43m,\u001b[49m\u001b[43m \u001b[49m\u001b[43mreport\u001b[49m\u001b[38;5;241;43m=\u001b[39;49m\u001b[43mreport\u001b[49m\u001b[43m,\u001b[49m\u001b[43m \u001b[49m\u001b[43mreport_period\u001b[49m\u001b[38;5;241;43m=\u001b[39;49m\u001b[43mreport_period\u001b[49m\u001b[43m,\u001b[49m\n\u001b[1;32m    231\u001b[0m \u001b[43m                \u001b[49m\u001b[43mnamespace\u001b[49m\u001b[38;5;241;43m=\u001b[39;49m\u001b[43mnamespace\u001b[49m\u001b[43m,\u001b[49m\u001b[43m \u001b[49m\u001b[43mprofile\u001b[49m\u001b[38;5;241;43m=\u001b[39;49m\u001b[43mprofile\u001b[49m\u001b[43m,\u001b[49m\u001b[43m \u001b[49m\u001b[43mlevel\u001b[49m\u001b[38;5;241;43m=\u001b[39;49m\u001b[43mlevel\u001b[49m\u001b[38;5;241;43m+\u001b[39;49m\u001b[38;5;241;43m1\u001b[39;49m\u001b[43m)\u001b[49m\n",
      "File \u001b[0;32m~/.local/lib/python3.8/site-packages/brian2/core/base.py:291\u001b[0m, in \u001b[0;36mdevice_override.<locals>.device_override_decorator.<locals>.device_override_decorated_function\u001b[0;34m(*args, **kwds)\u001b[0m\n\u001b[1;32m    289\u001b[0m curdev \u001b[38;5;241m=\u001b[39m get_device()\n\u001b[1;32m    290\u001b[0m \u001b[38;5;28;01mif\u001b[39;00m \u001b[38;5;28mhasattr\u001b[39m(curdev, name):\n\u001b[0;32m--> 291\u001b[0m     \u001b[38;5;28;01mreturn\u001b[39;00m \u001b[38;5;28;43mgetattr\u001b[39;49m\u001b[43m(\u001b[49m\u001b[43mcurdev\u001b[49m\u001b[43m,\u001b[49m\u001b[43m \u001b[49m\u001b[43mname\u001b[49m\u001b[43m)\u001b[49m\u001b[43m(\u001b[49m\u001b[38;5;241;43m*\u001b[39;49m\u001b[43margs\u001b[49m\u001b[43m,\u001b[49m\u001b[43m \u001b[49m\u001b[38;5;241;43m*\u001b[39;49m\u001b[38;5;241;43m*\u001b[39;49m\u001b[43mkwds\u001b[49m\u001b[43m)\u001b[49m\n\u001b[1;32m    292\u001b[0m \u001b[38;5;28;01melse\u001b[39;00m:\n\u001b[1;32m    293\u001b[0m     \u001b[38;5;28;01mreturn\u001b[39;00m func(\u001b[38;5;241m*\u001b[39margs, \u001b[38;5;241m*\u001b[39m\u001b[38;5;241m*\u001b[39mkwds)\n",
      "File \u001b[0;32m~/.local/lib/python3.8/site-packages/brian2/devices/cpp_standalone/device.py:1552\u001b[0m, in \u001b[0;36mCPPStandaloneDevice.network_run\u001b[0;34m(self, net, duration, report, report_period, namespace, profile, level, **kwds)\u001b[0m\n\u001b[1;32m   1550\u001b[0m \u001b[38;5;28;01mif\u001b[39;00m \u001b[38;5;28mself\u001b[39m\u001b[38;5;241m.\u001b[39mbuild_on_run:\n\u001b[1;32m   1551\u001b[0m     \u001b[38;5;28;01mif\u001b[39;00m \u001b[38;5;28mself\u001b[39m\u001b[38;5;241m.\u001b[39mhas_been_run:\n\u001b[0;32m-> 1552\u001b[0m         \u001b[38;5;28;01mraise\u001b[39;00m \u001b[38;5;167;01mRuntimeError\u001b[39;00m(\u001b[38;5;124m\"\u001b[39m\u001b[38;5;124mThe network has already been built and run \u001b[39m\u001b[38;5;124m\"\u001b[39m\n\u001b[1;32m   1553\u001b[0m                            \u001b[38;5;124m\"\u001b[39m\u001b[38;5;124mbefore. Use set_device with \u001b[39m\u001b[38;5;124m\"\u001b[39m\n\u001b[1;32m   1554\u001b[0m                            \u001b[38;5;124m\"\u001b[39m\u001b[38;5;124mbuild_on_run=False and an explicit \u001b[39m\u001b[38;5;124m\"\u001b[39m\n\u001b[1;32m   1555\u001b[0m                            \u001b[38;5;124m\"\u001b[39m\u001b[38;5;124mdevice.build call to use multiple run \u001b[39m\u001b[38;5;124m\"\u001b[39m\n\u001b[1;32m   1556\u001b[0m                            \u001b[38;5;124m\"\u001b[39m\u001b[38;5;124mstatements with this device.\u001b[39m\u001b[38;5;124m\"\u001b[39m)\n\u001b[1;32m   1557\u001b[0m     \u001b[38;5;28mself\u001b[39m\u001b[38;5;241m.\u001b[39mbuild(direct_call\u001b[38;5;241m=\u001b[39m\u001b[38;5;28;01mFalse\u001b[39;00m, \u001b[38;5;241m*\u001b[39m\u001b[38;5;241m*\u001b[39m\u001b[38;5;28mself\u001b[39m\u001b[38;5;241m.\u001b[39mbuild_options)\n",
      "\u001b[0;31mRuntimeError\u001b[0m: The network has already been built and run before. Use set_device with build_on_run=False and an explicit device.build call to use multiple run statements with this device."
     ]
    }
   ],
   "source": [
    "integrators=[#'exact', \n",
    "             'exponential_euler', \n",
    "             'euler', \n",
    "             'rk2', \n",
    "             'rk4', \n",
    "             'heun', \n",
    "             'milstein']\n",
    "for integrator in integrators:\n",
    "    print(integrator)\n",
    "    MorrisLecar1981(integrator)"
   ]
  },
  {
   "cell_type": "code",
   "execution_count": null,
   "id": "8183832e-c0c0-431c-bfa6-a832102aeecd",
   "metadata": {},
   "outputs": [],
   "source": []
  }
 ],
 "metadata": {
  "kernelspec": {
   "display_name": "Python 3 (ipykernel)",
   "language": "python",
   "name": "python3"
  },
  "language_info": {
   "codemirror_mode": {
    "name": "ipython",
    "version": 3
   },
   "file_extension": ".py",
   "mimetype": "text/x-python",
   "name": "python",
   "nbconvert_exporter": "python",
   "pygments_lexer": "ipython3",
   "version": "3.8.5"
  }
 },
 "nbformat": 4,
 "nbformat_minor": 5
}
