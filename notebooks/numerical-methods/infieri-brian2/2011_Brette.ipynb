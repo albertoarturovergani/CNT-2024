{
 "cells": [
  {
   "cell_type": "markdown",
   "id": "138bcf09-78a2-4e5f-8ce9-3a2856695fe1",
   "metadata": {},
   "source": [
    "# Brette_et_al_2007"
   ]
  },
  {
   "cell_type": "markdown",
   "id": "30e25c15-8497-4a3d-bfc2-f0111de12268",
   "metadata": {},
   "source": [
    "code source: https://brian2.readthedocs.io/en/stable/examples/CUBA.html"
   ]
  },
  {
   "cell_type": "markdown",
   "id": "8fc0e4e2-cdbe-45ad-a43c-73d4ad7fb127",
   "metadata": {},
   "source": [
    "paper: https://link.springer.com/article/10.1007/s10827-007-0038-6"
   ]
  },
  {
   "cell_type": "code",
   "execution_count": 1,
   "id": "0aff75b6-fa0c-41ca-a7e4-46f35a6057b8",
   "metadata": {},
   "outputs": [
    {
     "ename": "ModuleNotFoundError",
     "evalue": "No module named 'brian2'",
     "output_type": "error",
     "traceback": [
      "\u001b[0;31m---------------------------------------------------------------------------\u001b[0m",
      "\u001b[0;31mModuleNotFoundError\u001b[0m                       Traceback (most recent call last)",
      "\u001b[0;32m<ipython-input-1-43b45d31830d>\u001b[0m in \u001b[0;36m<module>\u001b[0;34m\u001b[0m\n\u001b[0;32m----> 1\u001b[0;31m \u001b[0;32mfrom\u001b[0m \u001b[0mbrian2\u001b[0m \u001b[0;32mimport\u001b[0m \u001b[0;34m*\u001b[0m\u001b[0;34m\u001b[0m\u001b[0;34m\u001b[0m\u001b[0m\n\u001b[0m\u001b[1;32m      2\u001b[0m \u001b[0;34m\u001b[0m\u001b[0m\n\u001b[1;32m      3\u001b[0m \u001b[0;32mdef\u001b[0m \u001b[0mVogels2011\u001b[0m\u001b[0;34m(\u001b[0m\u001b[0mintegrator\u001b[0m\u001b[0;34m)\u001b[0m\u001b[0;34m:\u001b[0m\u001b[0;34m\u001b[0m\u001b[0;34m\u001b[0m\u001b[0m\n\u001b[1;32m      4\u001b[0m \u001b[0;34m\u001b[0m\u001b[0m\n\u001b[1;32m      5\u001b[0m     \u001b[0;31m# ###########################################\u001b[0m\u001b[0;34m\u001b[0m\u001b[0;34m\u001b[0m\u001b[0;34m\u001b[0m\u001b[0m\n",
      "\u001b[0;31mModuleNotFoundError\u001b[0m: No module named 'brian2'"
     ]
    }
   ],
   "source": [
    "from brian2 import *\n",
    "\n",
    "def Brette2007(integrator):\n",
    "\n",
    "    taum = 20*ms\n",
    "    taue = 5*ms\n",
    "    taui = 10*ms\n",
    "    Vt = -50*mV\n",
    "    Vr = -60*mV\n",
    "    El = -49*mV\n",
    "\n",
    "    eqs = '''\n",
    "    dv/dt  = (ge+gi-(v-El))/taum : volt (unless refractory)\n",
    "    dge/dt = -ge/taue : volt\n",
    "    dgi/dt = -gi/taui : volt\n",
    "    '''\n",
    "\n",
    "    P = NeuronGroup(4000, eqs, threshold='v>Vt', reset='v = Vr', refractory=5*ms,\n",
    "    method='exact')\n",
    "    P.v = 'Vr + rand() * (Vt - Vr)'\n",
    "    P.ge = 0*mV\n",
    "    P.gi = 0*mV\n",
    "\n",
    "    we = (60*0.27/10)*mV # excitatory synaptic weight (voltage)\n",
    "    wi = (-20*4.5/10)*mV # inhibitory synaptic weight\n",
    "    Ce = Synapses(P, P, on_pre='ge += we')\n",
    "    Ci = Synapses(P, P, on_pre='gi += wi')\n",
    "    Ce.connect('i<3200', p=0.02)\n",
    "    Ci.connect('i>=3200', p=0.02)\n",
    "\n",
    "    s_mon = SpikeMonitor(P)\n",
    "\n",
    "    run(1 * second)\n",
    "\n",
    "    plot(s_mon.t/ms, s_mon.i, ',k')\n",
    "    xlabel('Time (ms)')\n",
    "    ylabel('Neuron index')\n",
    "    show()\n",
    "    \n",
    "    "
   ]
  },
  {
   "cell_type": "raw",
   "id": "334bd840-c2f1-4b69-a42d-57527bc50829",
   "metadata": {},
   "source": [
    "'exact': exact integration for linear equations (alternative name: 'linear')\n",
    "'exponential_euler': exponential Euler integration for conditionally linear equations\n",
    "'euler': forward Euler integration (for additive stochastic differential equations using the Euler-Maruyama method)\n",
    "'rk2': second order Runge-Kutta method (midpoint method)\n",
    "'rk4': classical Runge-Kutta method (RK4)\n",
    "'heun': stochastic Heun method for solving Stratonovich stochastic differential equations with non-diagonal multiplicative noise.\n",
    "'milstein': derivative-free Milstein method for solving stochastic differential equations with diagonal multiplicative noise"
   ]
  },
  {
   "cell_type": "code",
   "execution_count": null,
   "id": "01c474b4-c474-4543-9b87-67d4f8a3f10c",
   "metadata": {},
   "outputs": [],
   "source": [
    "integrators=['exact', 'exponential_euler', 'euler', 'rk2', 'rk4', 'heun', 'milstein']\n",
    "for integrator in integrators:\n",
    "    print(integrator)\n",
    "    Vogels2011(integrator)"
   ]
  },
  {
   "cell_type": "code",
   "execution_count": null,
   "id": "8183832e-c0c0-431c-bfa6-a832102aeecd",
   "metadata": {},
   "outputs": [],
   "source": []
  },
  {
   "cell_type": "code",
   "execution_count": null,
   "id": "5b2cc20c-01db-4827-8240-6dcc6de56193",
   "metadata": {},
   "outputs": [],
   "source": []
  }
 ],
 "metadata": {
  "kernelspec": {
   "display_name": "Python 3 (ipykernel)",
   "language": "python",
   "name": "python3"
  },
  "language_info": {
   "codemirror_mode": {
    "name": "ipython",
    "version": 3
   },
   "file_extension": ".py",
   "mimetype": "text/x-python",
   "name": "python",
   "nbconvert_exporter": "python",
   "pygments_lexer": "ipython3",
   "version": "3.12.3"
  }
 },
 "nbformat": 4,
 "nbformat_minor": 5
}
