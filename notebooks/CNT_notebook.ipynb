{
 "cells": [
  {
   "cell_type": "markdown",
   "metadata": {},
   "source": [
    "# EBRAINS Neuromorphic services and HBP\n",
    "\n",
    "- Ebrains https://ebrains.eu/ and the The Human Brain Project https://www.humanbrainproject.eu/en/\n",
    "- In particular, see https://ebrains.eu/service/neuromorphic-computing/\n",
    "\n",
    "- Digital computation / Simulation / SpiNNaker / neurons are software\n",
    "- Analog computation / Emulation / BrainScales / neurons are hardware\n",
    "    "
   ]
  },
  {
   "cell_type": "markdown",
   "metadata": {},
   "source": [
    "## machine resources"
   ]
  },
  {
   "cell_type": "markdown",
   "metadata": {},
   "source": [
    "- BrainScaleS\n",
    "     - Kirchhoff Institut Für Physik, Heidelberg University, DE\n",
    "     - physical (analogue or mixed-signal) emulations of neuron, synapse and plasticity models \n",
    "     - digital connectivity\n",
    "     - ten thousand times faster than real time\n",
    "     - access with https://wiki.ebrains.eu/bin/view/Collabs/neuromorphic/BrainScaleS/\n",
    "\n",
    "<img align=\"center\"      \n",
    "     src=\"https://electronicvisions.github.io/hbp-sp9-guidebook/_images/6D_0073294_Racks_19WaferSystemsInstalled_30March2016_cropped_1000px.jpg\" width=\"500\" height=\"500\" />\n",
    "\n",
    "- SpiNNaker \n",
    "    - School of Computer Science, University of Manchester, UK\n",
    "    - SpiNNaker (Spiking Neural Network Architecture) is a massively parallel manycore supercomputer \n",
    "    - numerical models running in real time on custom digital multicore chips\n",
    "    - using the ARM architecture https://www.youtube.com/watch?v=EhPpxsK2Ia0\n",
    "    - access with https://wiki.ebrains.eu/bin/view/Collabs/neuromorphic/SpiNNaker/\n",
    "\n",
    "<img align=\"center\"        \n",
    " src=\"https://www.zdnet.fr/i/edit/ne/2019/01/spinnaker-at-univ-manchester.jpg\" width=\"500\" height=\"500\" />\n"
   ]
  },
  {
   "cell_type": "markdown",
   "metadata": {},
   "source": [
    "# More info about SpiNNaker\n",
    "\n",
    "- Jupyter Lab login at https://spinn-20.cs.man.ac.uk/hub/home\n",
    "\n",
    "- It's composed of 57,600 processing nodes, each with 18 ARM9 processors and 128 MB of mobile DDR SDRAM, totalling 1,036,800 cores and over 7 TB of RAM\n",
    "\n",
    "- The completed design is housed in 10 19-inch racks, with each rack holding over 100,000 cores\n",
    "\n",
    "- Each core simulates 1,000 neurons (the goal is to simulate up to a billion neurons in real time)\n",
    "\n",
    "- SpiNNaker requires about 100 kW from a 240 V supply and an air-conditioned environment\n",
    "\n",
    "- SpiNNaker the hardware http://apt.cs.manchester.ac.uk/projects/SpiNNaker/\n",
    "\n",
    "- sPyNNaker the software https://www.frontiersin.org/articles/10.3389/fnins.2018.00816/full\n",
    "\n",
    "- Supported features http://spinnakermanchester.github.io/spynnaker/4.0.0/SPyNNakerLimitations.html\n",
    "    \n",
    "- PDF document https://spynnaker.readthedocs.io/_/downloads/en/latest/pdf/\n",
    "\n",
    "- PDF short induction http://spinnakermanchester.github.io/spynnaker/4.0.0/RunningPyNNSimulationsonSpiNNaker-LabManual.pdf\n",
    "\n",
    "- SpiNNaker mailing list google https://groups.google.com/g/spinnakerusers?pli=1\n",
    "\n",
    "- Youtube video https://www.youtube.com/watch?v=V3MlOAru6Qk\n",
    "\n",
    "- comparison among SpiNNaker and NEST with HPC,  van Albada et al 2018 https://www.frontiersin.org/articles/10.3389/fnins.2018.00291/full\n",
    "\n",
    "> With approximately 80, 000 neurons and 0.3 billion synapses, this model is the largest simulated on SpiNNaker to date. (...) Comparison with simulations using the NEST software on a high-performance cluster shows that both simulators can reach a similar accuracy, despite the fixed-point arithmetic of SpiNNaker, demonstrating the usability of SpiNNaker for computational neuroscience applications with biological time scales and large network size."
   ]
  },
  {
   "cell_type": "markdown",
   "metadata": {},
   "source": [
    "# Info about PyNN \n",
    "\n",
    "![](https://neuralensemble.org/static/photos/pynn_logo.png)\n",
    "\n",
    "- A Python package for simulator-independent specification of neuronal network models\n",
    "\n",
    "- PyNN works with multiple simulators (SpiNNaker, NEST, Brain, Neuron, etc)\n",
    "\n",
    "- If you want to install install PyNN on your local machine, see info http://neuralensemble.org/docs/PyNN/installation.html\n",
    "\n",
    "- Paper https://www.ncbi.nlm.nih.gov/pmc/articles/PMC2634533/\n",
    "\n",
    "- PyNN website http://neuralensemble.org/docs/PyNN/index.html\n",
    "\n",
    "- PyNN mailing list https://groups.google.com/g/neuralensemble\n",
    "\n"
   ]
  },
  {
   "cell_type": "markdown",
   "metadata": {},
   "source": [
    "# Goal of this tutorial on PyNN\n",
    "\n",
    "- Learn code elements to run a Spiking Neural Networks (SNNs) by using PyNN on the SpiNNaker neuromorphic system.\n"
   ]
  },
  {
   "cell_type": "markdown",
   "metadata": {},
   "source": [
    "## knowledge assumptions: \n",
    "\n",
    "- basis of spiking neural network theory (https://neuronaldynamics.epfl.ch/online/index.html)\n",
    "- familiarity with physical quatities related to electric circuits (e.g., voltages, conductances, currents, capacitances, etc)\n",
    "- basic python coding (numpy, work with dictionaries, some matplotlib tools, etc)"
   ]
  },
  {
   "cell_type": "markdown",
   "metadata": {},
   "source": [
    "# Content:\n",
    "\n",
    "## network building and running \n",
    "1. neurons\n",
    "    - cell types\n",
    "    - populations\n",
    "    - recording variables\n",
    "    \n",
    "2. connections\n",
    "    - synapse types\n",
    "    - connections types\n",
    "    - projections\n",
    "\n",
    "3. simulation managing\n",
    "    - computational settings\n",
    "    - save and load outputs\n",
    "    - visualization tools"
   ]
  },
  {
   "cell_type": "markdown",
   "metadata": {},
   "source": [
    "## expected take-home-points:\n",
    "\n",
    "0. import the simulator\n",
    "1. setup the simulator\n",
    "2. decide the cell types \n",
    "3. design the populations\n",
    "4. define the synapse types\n",
    "5. select the connection algorithm\n",
    "6. make the projections \n",
    "7. idealize the stimulus\n",
    "8. run the simulation\n",
    "9. save the results\n",
    "10. recover the results\n",
    "11. postprocessing (visualization or statistics, etc)\n",
    "12. close the simulations"
   ]
  },
  {
   "cell_type": "markdown",
   "metadata": {},
   "source": [
    "# step0: import the simulator"
   ]
  },
  {
   "cell_type": "code",
   "execution_count": 1,
   "metadata": {},
   "outputs": [],
   "source": [
    "# fileName\n",
    "\n",
    "fileName = 'CNT_notebook' "
   ]
  },
  {
   "cell_type": "code",
   "execution_count": 4,
   "metadata": {},
   "outputs": [
    {
     "name": "stdout",
     "output_type": "stream",
     "text": [
      "../outputs/CNT_notebook-2023-11-29T09:27:40.208221\n"
     ]
    }
   ],
   "source": [
    "try:\n",
    "    import pyNN.spiNNaker as sim\n",
    "except ModuleNotFoundError:\n",
    "    import pyNN.brian2 as sim\n",
    "    \n",
    "from pyNN import space \n",
    "import numpy as np\n",
    "import matplotlib.pyplot as plt\n",
    "import numpy as np\n",
    "import matplotlib.pyplot as plt\n",
    "import scipy\n",
    "import pickle\n",
    "import pandas as pd\n",
    "import seaborn as sns\n",
    "import time\n",
    "import datetime\n",
    "import json\n",
    "import warnings\n",
    "warnings.filterwarnings('ignore')\n",
    "import python_utils as pu\n",
    "%matplotlib inline\n",
    "\n",
    "savePath = f'../outputs/' # remember to create the folder if not already present (mkdir ./notebooks/outputs)\n",
    "dt_string = datetime.datetime.today().isoformat() # ISO8601 ! :-)\n",
    "tag = dt_string \n",
    "saveName = f'{savePath}{fileName}-{tag}'\n",
    "print(saveName)\n",
    "PARS={}\n",
    "\n",
    "# note that if you use nest/brian2 import pyNN.nest as sim / import pyNN.brian2 as sim (see http://neuralensemble.org/docs/PyNN/backends.html)"
   ]
  },
  {
   "cell_type": "code",
   "execution_count": 3,
   "metadata": {},
   "outputs": [],
   "source": [
    "# sim + tab key to explore PyNN features (classes, modules, functions, instances)\n",
    "\n",
    "# have a try...\n",
    "# sim."
   ]
  },
  {
   "cell_type": "raw",
   "metadata": {},
   "source": []
  },
  {
   "cell_type": "markdown",
   "metadata": {},
   "source": [
    "# step1: setup the simulator"
   ]
  },
  {
   "cell_type": "code",
   "execution_count": 6,
   "metadata": {},
   "outputs": [
    {
     "name": "stderr",
     "output_type": "stream",
     "text": [
      "2023-11-29 09:28:27 WARNING: Calling setup a second time causes the previous simulator to be stopped and cleared.\n",
      "2023-11-29 09:28:27 INFO: Resetting\n",
      "2023-11-29 09:28:27 WARNING: /home/bbpnrsoa/CNT-2024/notebooks/reports has 10 old reports that have not been closed\n",
      "2023-11-29 09:28:27 INFO: Read cfg files: /home/bbpnrsoa/sPyNNaker/lib/python3.8/site-packages/spinn_front_end_common/interface/spinnaker.cfg, /home/bbpnrsoa/sPyNNaker/lib/python3.8/site-packages/spynnaker/pyNN/spynnaker.cfg, /home/bbpnrsoa/.spynnaker.cfg\n",
      "2023-11-29 09:28:27 INFO: Will search these locations for binaries: /home/bbpnrsoa/sPyNNaker/lib/python3.8/site-packages/spinn_front_end_common/common_model_binaries : /home/bbpnrsoa/sPyNNaker/lib/python3.8/site-packages/spynnaker/pyNN/model_binaries\n",
      "2023-11-29 09:28:27 WARNING: /home/bbpnrsoa/CNT-2024/notebooks/reports has 10 old reports that have not been closed\n",
      "2023-11-29 09:28:27 INFO: Setting time scale factor to 10.\n",
      "2023-11-29 09:28:27 INFO: Setting machine time step to 1000 micro-seconds.\n"
     ]
    },
    {
     "name": "stdout",
     "output_type": "stream",
     "text": [
      "['/home/bbpnrsoa/sPyNNaker/lib/python3.8/site-packages/spinn_front_end_common/interface/spinnaker.cfg', '/home/bbpnrsoa/sPyNNaker/lib/python3.8/site-packages/spynnaker/pyNN/spynnaker.cfg', '/home/bbpnrsoa/.spynnaker.cfg']\n"
     ]
    },
    {
     "data": {
      "text/plain": [
       "0"
      ]
     },
     "execution_count": 6,
     "metadata": {},
     "output_type": "execute_result"
    }
   ],
   "source": [
    "timestep=1 #[ms]\n",
    "sim.setup(\n",
    "    timestep=timestep, # [ms]\n",
    "    min_delay=timestep, # [ms]\n",
    "    max_delay=timestep*144) # [ms] # not that the max_delay supported by SpiNNaker is timestep * 144\n"
   ]
  },
  {
   "cell_type": "markdown",
   "metadata": {},
   "source": [
    "# step2: the cell types "
   ]
  },
  {
   "cell_type": "markdown",
   "metadata": {},
   "source": [
    "- cell models and source models\n",
    "- point neuron (mono-compartment model)\n",
    "- http://neuralensemble.org/docs/PyNN/standardmodels.html"
   ]
  },
  {
   "cell_type": "code",
   "execution_count": 7,
   "metadata": {},
   "outputs": [
    {
     "data": {
      "text/plain": [
       "['AbstractPyNNModel',\n",
       " 'IF_cond_exp',\n",
       " 'IF_curr_exp',\n",
       " 'IF_curr_alpha',\n",
       " 'IF_curr_delta',\n",
       " 'Izhikevich',\n",
       " 'SpikeSourceArray',\n",
       " 'SpikeSourcePoisson']"
      ]
     },
     "execution_count": 7,
     "metadata": {},
     "output_type": "execute_result"
    }
   ],
   "source": [
    "sim.list_standard_models()"
   ]
  },
  {
   "cell_type": "code",
   "execution_count": 8,
   "metadata": {},
   "outputs": [
    {
     "data": {
      "text/plain": [
       "spynnaker.pyNN.models.neuron.builds.izk_cond_exp_base.IzkCondExpBase"
      ]
     },
     "execution_count": 8,
     "metadata": {},
     "output_type": "execute_result"
    }
   ],
   "source": [
    "# otherwise see sim.extra_models\n",
    "\n",
    "sim.extra_models\n",
    "\n",
    "sim.extra_models.IF_curr_dual_exp\n",
    "sim.extra_models.IF_curr_exp_sEMD\n",
    "sim.extra_models.IFCondExpStoc\n",
    "sim.extra_models.IFCurDelta\n",
    "sim.extra_models.IFCurrExpCa2Adaptive\n",
    "sim.extra_models.Izhikevich_cond"
   ]
  },
  {
   "cell_type": "markdown",
   "metadata": {},
   "source": [
    "- example of the different cell spike traces in [testing cell models network](eg_testing-cell-models-network.ipynb)\n"
   ]
  },
  {
   "cell_type": "markdown",
   "metadata": {},
   "source": [
    "## e.g., with sim.IF_cond_exp \n",
    "\n",
    "- Leaky integrate and fire model with fixed threshold and decaying-exponential post-synaptic conductance.\n",
    "- as used in this bump model: https://arxiv.org/pdf/2003.13365.pdf\n",
    "- good model ref: https://pubmed.ncbi.nlm.nih.gov/17629781/"
   ]
  },
  {
   "cell_type": "code",
   "execution_count": 9,
   "metadata": {},
   "outputs": [
    {
     "data": {
      "text/plain": [
       "dict_keys(['tau_m', 'cm', 'v_rest', 'v_reset', 'v_thresh', 'tau_syn_E', 'tau_syn_I', 'tau_refrac', 'i_offset', 'e_rev_E', 'e_rev_I'])"
      ]
     },
     "execution_count": 9,
     "metadata": {},
     "output_type": "execute_result"
    }
   ],
   "source": [
    "# parameter names\n",
    "\n",
    "sim.IF_cond_exp.get_parameter_names()"
   ]
  },
  {
   "cell_type": "code",
   "execution_count": 10,
   "metadata": {},
   "outputs": [
    {
     "data": {
      "text/plain": [
       "{'tau_m': 20.0,\n",
       " 'cm': 1.0,\n",
       " 'v_rest': -65.0,\n",
       " 'v_reset': -65.0,\n",
       " 'v_thresh': -50.0,\n",
       " 'tau_syn_E': 5.0,\n",
       " 'tau_syn_I': 5.0,\n",
       " 'tau_refrac': 0.1,\n",
       " 'i_offset': 0.0,\n",
       " 'e_rev_E': 0.0,\n",
       " 'e_rev_I': -70.0}"
      ]
     },
     "execution_count": 10,
     "metadata": {},
     "output_type": "execute_result"
    }
   ],
   "source": [
    "# default parameters\n",
    "\n",
    "standard_pars = sim.IF_cond_exp.default_parameters\n",
    "\n",
    "standard_pars\n",
    "\n",
    "# see parameters of the models http://neuralensemble.org/docs/PyNN/standardmodels.html"
   ]
  },
  {
   "cell_type": "code",
   "execution_count": 11,
   "metadata": {},
   "outputs": [],
   "source": [
    "# define your own pars, \n",
    "\n",
    "testing_pars = {'tau_m': 20, \n",
    "                'cm': 1.0, \n",
    "                'v_rest': -60.0, \n",
    "                'v_reset': -60.0, \n",
    "                'v_thresh': -50.0, \n",
    "                'tau_syn_E': 5.0, \n",
    "                'tau_syn_I': 10.0, \n",
    "                'tau_refrac': 5, \n",
    "                'i_offset': 0.0, \n",
    "                'e_rev_E': 0.0, \n",
    "                'e_rev_I': -80.0}"
   ]
  },
  {
   "cell_type": "code",
   "execution_count": 12,
   "metadata": {},
   "outputs": [
    {
     "data": {
      "text/plain": [
       "{'v': -65.0, 'isyn_exc': 0.0, 'isyn_inh': 0.0}"
      ]
     },
     "execution_count": 12,
     "metadata": {},
     "output_type": "execute_result"
    }
   ],
   "source": [
    "# initial values\n",
    "\n",
    "sim.IF_cond_exp().default_initial_values"
   ]
  },
  {
   "cell_type": "markdown",
   "metadata": {},
   "source": [
    "# step3: making cell populations\n"
   ]
  },
  {
   "cell_type": "code",
   "execution_count": 13,
   "metadata": {},
   "outputs": [],
   "source": [
    "# define dictionaries and settings\n",
    "\n",
    "pops = {} # populations of exc and inh cells\n",
    "n_cells = {} # specific number of exc or inh cells in pops\n",
    "neuron_Model = {} # model of neuron adopted for the simulation\n",
    "neuron_ModelPars = {} # model parameters \n",
    "initial_Values = {} # initial values of state variables (membrane potential and conductances)"
   ]
  },
  {
   "cell_type": "code",
   "execution_count": 14,
   "metadata": {},
   "outputs": [
    {
     "name": "stdout",
     "output_type": "stream",
     "text": [
      "the total number of excitatory cells is:  800\n"
     ]
    }
   ],
   "source": [
    "# define the popolation of excitatory neurons \n",
    "\n",
    "popName = 'exc'\n",
    "\n",
    "n_cells[popName] = 800\n",
    "neuron_Model[popName] = sim.IF_cond_exp\n",
    "neuron_ModelPars[popName] = testing_pars # or standard_pars or testing_pars\n",
    "initial_Values[popName] = sim.IF_cond_exp.default_initial_values\n",
    "\n",
    "pops[popName] = sim.Population(n_cells[popName], \n",
    "                               neuron_Model[popName],\n",
    "                               neuron_ModelPars[popName],\n",
    "                               structure = space.Line(dx=1.0, x0=0.0, y=0.0, z=0.0), \n",
    "                               initial_values=None, # e.g, initial_values={'v': sim.RandomDistribution('uniform', (-70.0, -60.0))},\n",
    "                               label = popName)\n",
    "\n",
    "pops[popName].record(['spikes','v','gsyn_exc','gsyn_inh'])   \n",
    "\n",
    "print('the total number of excitatory cells is: ', pops['exc'].size)"
   ]
  },
  {
   "cell_type": "code",
   "execution_count": 15,
   "metadata": {},
   "outputs": [
    {
     "name": "stdout",
     "output_type": "stream",
     "text": [
      "the total number of inhibitory cells is:  200\n"
     ]
    }
   ],
   "source": [
    "# define a popolation of inhibitory neurons in 1D\n",
    "\n",
    "popName = 'inh'\n",
    "\n",
    "n_cells[popName] = 200  # number of inhibitory cells\n",
    "neuron_Model[popName] = sim.IF_cond_exp\n",
    "neuron_ModelPars[popName] = testing_pars # or standard_pars or testing_pars\n",
    "initial_Values[popName] = sim.IF_cond_exp.default_initial_values\n",
    "\n",
    "pops[popName] = sim.Population(n_cells[popName], \n",
    "                               neuron_Model[popName],\n",
    "                               neuron_ModelPars[popName],\n",
    "                               structure = space.Line(dx=1.0, x0=0.0, y=0.0, z=0.0), \n",
    "                               initial_values=None, # e.g, initial_values={'v': sim.RandomDistribution('uniform', (-70.0, -60.0))},\n",
    "                               label = popName)\n",
    "\n",
    "pops[popName].record(['spikes','v','gsyn_exc','gsyn_inh']) \n",
    "\n",
    "print('the total number of inhibitory cells is: ', pops['inh'].size)"
   ]
  },
  {
   "cell_type": "code",
   "execution_count": 16,
   "metadata": {},
   "outputs": [
    {
     "data": {
      "text/plain": [
       "{'exc': <spynnaker.pyNN.models.populations.population.Population at 0x7f2ec1e23a90>,\n",
       " 'inh': <spynnaker.pyNN.models.populations.population.Population at 0x7f2ec1e23b40>}"
      ]
     },
     "execution_count": 16,
     "metadata": {},
     "output_type": "execute_result"
    }
   ],
   "source": [
    "# the population dictionary\n",
    "\n",
    "pops"
   ]
  },
  {
   "cell_type": "code",
   "execution_count": 17,
   "metadata": {},
   "outputs": [],
   "source": [
    "# eventually defined random subsets of cells from the the population \n",
    "\n",
    "do_run = False\n",
    "if do_run:\n",
    "    pops['subsetA'] = pops['exc'].sample(75) \n",
    "    pops['subsetB'] = pops['inh'].sample(25) \n",
    "\n",
    "    pops['subsetA'].record(['spikes','v','gsyn_exc','gsyn_inh'])\n",
    "    pops['subsetB'].record(['spikes','v','gsyn_exc','gsyn_inh'])"
   ]
  },
  {
   "cell_type": "code",
   "execution_count": null,
   "metadata": {},
   "outputs": [],
   "source": []
  },
  {
   "cell_type": "code",
   "execution_count": 18,
   "metadata": {},
   "outputs": [
    {
     "data": {
      "text/plain": [
       "{'v': [-65.0, -65.0, -65.0, -65.0, -65.0, -65.0, -65.0, -65.0, -65.0, -65.0, -65.0, -65.0, -65.0, -65.0, -65.0, -65.0, -65.0, -65.0, -65.0, -65.0, -65.0, -65.0, -65.0, -65.0, -65.0, -65.0, -65.0, -65.0, -65.0, -65.0, -65.0, -65.0, -65.0, -65.0, -65.0, -65.0, -65.0, -65.0, -65.0, -65.0, -65.0, -65.0, -65.0, -65.0, -65.0, -65.0, -65.0, -65.0, -65.0, -65.0, -65.0, -65.0, -65.0, -65.0, -65.0, -65.0, -65.0, -65.0, -65.0, -65.0, -65.0, -65.0, -65.0, -65.0, -65.0, -65.0, -65.0, -65.0, -65.0, -65.0, -65.0, -65.0, -65.0, -65.0, -65.0, -65.0, -65.0, -65.0, -65.0, -65.0, -65.0, -65.0, -65.0, -65.0, -65.0, -65.0, -65.0, -65.0, -65.0, -65.0, -65.0, -65.0, -65.0, -65.0, -65.0, -65.0, -65.0, -65.0, -65.0, -65.0, -65.0, -65.0, -65.0, -65.0, -65.0, -65.0, -65.0, -65.0, -65.0, -65.0, -65.0, -65.0, -65.0, -65.0, -65.0, -65.0, -65.0, -65.0, -65.0, -65.0, -65.0, -65.0, -65.0, -65.0, -65.0, -65.0, -65.0, -65.0, -65.0, -65.0, -65.0, -65.0, -65.0, -65.0, -65.0, -65.0, -65.0, -65.0, -65.0, -65.0, -65.0, -65.0, -65.0, -65.0, -65.0, -65.0, -65.0, -65.0, -65.0, -65.0, -65.0, -65.0, -65.0, -65.0, -65.0, -65.0, -65.0, -65.0, -65.0, -65.0, -65.0, -65.0, -65.0, -65.0, -65.0, -65.0, -65.0, -65.0, -65.0, -65.0, -65.0, -65.0, -65.0, -65.0, -65.0, -65.0, -65.0, -65.0, -65.0, -65.0, -65.0, -65.0, -65.0, -65.0, -65.0, -65.0, -65.0, -65.0, -65.0, -65.0, -65.0, -65.0, -65.0, -65.0, -65.0, -65.0, -65.0, -65.0, -65.0, -65.0, -65.0, -65.0, -65.0, -65.0, -65.0, -65.0, -65.0, -65.0, -65.0, -65.0, -65.0, -65.0, -65.0, -65.0, -65.0, -65.0, -65.0, -65.0, -65.0, -65.0, -65.0, -65.0, -65.0, -65.0, -65.0, -65.0, -65.0, -65.0, -65.0, -65.0, -65.0, -65.0, -65.0, -65.0, -65.0, -65.0, -65.0, -65.0, -65.0, -65.0, -65.0, -65.0, -65.0, -65.0, -65.0, -65.0, -65.0, -65.0, -65.0, -65.0, -65.0, -65.0, -65.0, -65.0, -65.0, -65.0, -65.0, -65.0, -65.0, -65.0, -65.0, -65.0, -65.0, -65.0, -65.0, -65.0, -65.0, -65.0, -65.0, -65.0, -65.0, -65.0, -65.0, -65.0, -65.0, -65.0, -65.0, -65.0, -65.0, -65.0, -65.0, -65.0, -65.0, -65.0, -65.0, -65.0, -65.0, -65.0, -65.0, -65.0, -65.0, -65.0, -65.0, -65.0, -65.0, -65.0, -65.0, -65.0, -65.0, -65.0, -65.0, -65.0, -65.0, -65.0, -65.0, -65.0, -65.0, -65.0, -65.0, -65.0, -65.0, -65.0, -65.0, -65.0, -65.0, -65.0, -65.0, -65.0, -65.0, -65.0, -65.0, -65.0, -65.0, -65.0, -65.0, -65.0, -65.0, -65.0, -65.0, -65.0, -65.0, -65.0, -65.0, -65.0, -65.0, -65.0, -65.0, -65.0, -65.0, -65.0, -65.0, -65.0, -65.0, -65.0, -65.0, -65.0, -65.0, -65.0, -65.0, -65.0, -65.0, -65.0, -65.0, -65.0, -65.0, -65.0, -65.0, -65.0, -65.0, -65.0, -65.0, -65.0, -65.0, -65.0, -65.0, -65.0, -65.0, -65.0, -65.0, -65.0, -65.0, -65.0, -65.0, -65.0, -65.0, -65.0, -65.0, -65.0, -65.0, -65.0, -65.0, -65.0, -65.0, -65.0, -65.0, -65.0, -65.0, -65.0, -65.0, -65.0, -65.0, -65.0, -65.0, -65.0, -65.0, -65.0, -65.0, -65.0, -65.0, -65.0, -65.0, -65.0, -65.0, -65.0, -65.0, -65.0, -65.0, -65.0, -65.0, -65.0, -65.0, -65.0, -65.0, -65.0, -65.0, -65.0, -65.0, -65.0, -65.0, -65.0, -65.0, -65.0, -65.0, -65.0, -65.0, -65.0, -65.0, -65.0, -65.0, -65.0, -65.0, -65.0, -65.0, -65.0, -65.0, -65.0, -65.0, -65.0, -65.0, -65.0, -65.0, -65.0, -65.0, -65.0, -65.0, -65.0, -65.0, -65.0, -65.0, -65.0, -65.0, -65.0, -65.0, -65.0, -65.0, -65.0, -65.0, -65.0, -65.0, -65.0, -65.0, -65.0, -65.0, -65.0, -65.0, -65.0, -65.0, -65.0, -65.0, -65.0, -65.0, -65.0, -65.0, -65.0, -65.0, -65.0, -65.0, -65.0, -65.0, -65.0, -65.0, -65.0, -65.0, -65.0, -65.0, -65.0, -65.0, -65.0, -65.0, -65.0, -65.0, -65.0, -65.0, -65.0, -65.0, -65.0, -65.0, -65.0, -65.0, -65.0, -65.0, -65.0, -65.0, -65.0, -65.0, -65.0, -65.0, -65.0, -65.0, -65.0, -65.0, -65.0, -65.0, -65.0, -65.0, -65.0, -65.0, -65.0, -65.0, -65.0, -65.0, -65.0, -65.0, -65.0, -65.0, -65.0, -65.0, -65.0, -65.0, -65.0, -65.0, -65.0, -65.0, -65.0, -65.0, -65.0, -65.0, -65.0, -65.0, -65.0, -65.0, -65.0, -65.0, -65.0, -65.0, -65.0, -65.0, -65.0, -65.0, -65.0, -65.0, -65.0, -65.0, -65.0, -65.0, -65.0, -65.0, -65.0, -65.0, -65.0, -65.0, -65.0, -65.0, -65.0, -65.0, -65.0, -65.0, -65.0, -65.0, -65.0, -65.0, -65.0, -65.0, -65.0, -65.0, -65.0, -65.0, -65.0, -65.0, -65.0, -65.0, -65.0, -65.0, -65.0, -65.0, -65.0, -65.0, -65.0, -65.0, -65.0, -65.0, -65.0, -65.0, -65.0, -65.0, -65.0, -65.0, -65.0, -65.0, -65.0, -65.0, -65.0, -65.0, -65.0, -65.0, -65.0, -65.0, -65.0, -65.0, -65.0, -65.0, -65.0, -65.0, -65.0, -65.0, -65.0, -65.0, -65.0, -65.0, -65.0, -65.0, -65.0, -65.0, -65.0, -65.0, -65.0, -65.0, -65.0, -65.0, -65.0, -65.0, -65.0, -65.0, -65.0, -65.0, -65.0, -65.0, -65.0, -65.0, -65.0, -65.0, -65.0, -65.0, -65.0, -65.0, -65.0, -65.0, -65.0, -65.0, -65.0, -65.0, -65.0, -65.0, -65.0, -65.0, -65.0, -65.0, -65.0, -65.0, -65.0, -65.0, -65.0, -65.0, -65.0, -65.0, -65.0, -65.0, -65.0, -65.0, -65.0, -65.0, -65.0, -65.0, -65.0, -65.0, -65.0, -65.0, -65.0, -65.0, -65.0, -65.0, -65.0, -65.0, -65.0, -65.0, -65.0, -65.0, -65.0, -65.0, -65.0, -65.0, -65.0, -65.0, -65.0, -65.0, -65.0, -65.0, -65.0, -65.0, -65.0, -65.0, -65.0, -65.0, -65.0, -65.0, -65.0, -65.0, -65.0, -65.0, -65.0, -65.0, -65.0, -65.0, -65.0, -65.0, -65.0, -65.0, -65.0, -65.0, -65.0, -65.0, -65.0, -65.0, -65.0, -65.0, -65.0, -65.0, -65.0, -65.0, -65.0, -65.0, -65.0, -65.0, -65.0, -65.0, -65.0, -65.0, -65.0, -65.0, -65.0, -65.0, -65.0, -65.0, -65.0, -65.0, -65.0, -65.0, -65.0, -65.0, -65.0, -65.0, -65.0, -65.0, -65.0, -65.0, -65.0, -65.0, -65.0, -65.0, -65.0, -65.0, -65.0, -65.0, -65.0, -65.0, -65.0, -65.0, -65.0, -65.0, -65.0, -65.0, -65.0, -65.0, -65.0, -65.0, -65.0, -65.0, -65.0, -65.0, -65.0, -65.0, -65.0, -65.0, -65.0, -65.0, -65.0, -65.0, -65.0, -65.0, -65.0, -65.0, -65.0, -65.0, -65.0, -65.0, -65.0, -65.0, -65.0, -65.0, -65.0],\n",
       " 'isyn_exc': [0.0, 0.0, 0.0, 0.0, 0.0, 0.0, 0.0, 0.0, 0.0, 0.0, 0.0, 0.0, 0.0, 0.0, 0.0, 0.0, 0.0, 0.0, 0.0, 0.0, 0.0, 0.0, 0.0, 0.0, 0.0, 0.0, 0.0, 0.0, 0.0, 0.0, 0.0, 0.0, 0.0, 0.0, 0.0, 0.0, 0.0, 0.0, 0.0, 0.0, 0.0, 0.0, 0.0, 0.0, 0.0, 0.0, 0.0, 0.0, 0.0, 0.0, 0.0, 0.0, 0.0, 0.0, 0.0, 0.0, 0.0, 0.0, 0.0, 0.0, 0.0, 0.0, 0.0, 0.0, 0.0, 0.0, 0.0, 0.0, 0.0, 0.0, 0.0, 0.0, 0.0, 0.0, 0.0, 0.0, 0.0, 0.0, 0.0, 0.0, 0.0, 0.0, 0.0, 0.0, 0.0, 0.0, 0.0, 0.0, 0.0, 0.0, 0.0, 0.0, 0.0, 0.0, 0.0, 0.0, 0.0, 0.0, 0.0, 0.0, 0.0, 0.0, 0.0, 0.0, 0.0, 0.0, 0.0, 0.0, 0.0, 0.0, 0.0, 0.0, 0.0, 0.0, 0.0, 0.0, 0.0, 0.0, 0.0, 0.0, 0.0, 0.0, 0.0, 0.0, 0.0, 0.0, 0.0, 0.0, 0.0, 0.0, 0.0, 0.0, 0.0, 0.0, 0.0, 0.0, 0.0, 0.0, 0.0, 0.0, 0.0, 0.0, 0.0, 0.0, 0.0, 0.0, 0.0, 0.0, 0.0, 0.0, 0.0, 0.0, 0.0, 0.0, 0.0, 0.0, 0.0, 0.0, 0.0, 0.0, 0.0, 0.0, 0.0, 0.0, 0.0, 0.0, 0.0, 0.0, 0.0, 0.0, 0.0, 0.0, 0.0, 0.0, 0.0, 0.0, 0.0, 0.0, 0.0, 0.0, 0.0, 0.0, 0.0, 0.0, 0.0, 0.0, 0.0, 0.0, 0.0, 0.0, 0.0, 0.0, 0.0, 0.0, 0.0, 0.0, 0.0, 0.0, 0.0, 0.0, 0.0, 0.0, 0.0, 0.0, 0.0, 0.0, 0.0, 0.0, 0.0, 0.0, 0.0, 0.0, 0.0, 0.0, 0.0, 0.0, 0.0, 0.0, 0.0, 0.0, 0.0, 0.0, 0.0, 0.0, 0.0, 0.0, 0.0, 0.0, 0.0, 0.0, 0.0, 0.0, 0.0, 0.0, 0.0, 0.0, 0.0, 0.0, 0.0, 0.0, 0.0, 0.0, 0.0, 0.0, 0.0, 0.0, 0.0, 0.0, 0.0, 0.0, 0.0, 0.0, 0.0, 0.0, 0.0, 0.0, 0.0, 0.0, 0.0, 0.0, 0.0, 0.0, 0.0, 0.0, 0.0, 0.0, 0.0, 0.0, 0.0, 0.0, 0.0, 0.0, 0.0, 0.0, 0.0, 0.0, 0.0, 0.0, 0.0, 0.0, 0.0, 0.0, 0.0, 0.0, 0.0, 0.0, 0.0, 0.0, 0.0, 0.0, 0.0, 0.0, 0.0, 0.0, 0.0, 0.0, 0.0, 0.0, 0.0, 0.0, 0.0, 0.0, 0.0, 0.0, 0.0, 0.0, 0.0, 0.0, 0.0, 0.0, 0.0, 0.0, 0.0, 0.0, 0.0, 0.0, 0.0, 0.0, 0.0, 0.0, 0.0, 0.0, 0.0, 0.0, 0.0, 0.0, 0.0, 0.0, 0.0, 0.0, 0.0, 0.0, 0.0, 0.0, 0.0, 0.0, 0.0, 0.0, 0.0, 0.0, 0.0, 0.0, 0.0, 0.0, 0.0, 0.0, 0.0, 0.0, 0.0, 0.0, 0.0, 0.0, 0.0, 0.0, 0.0, 0.0, 0.0, 0.0, 0.0, 0.0, 0.0, 0.0, 0.0, 0.0, 0.0, 0.0, 0.0, 0.0, 0.0, 0.0, 0.0, 0.0, 0.0, 0.0, 0.0, 0.0, 0.0, 0.0, 0.0, 0.0, 0.0, 0.0, 0.0, 0.0, 0.0, 0.0, 0.0, 0.0, 0.0, 0.0, 0.0, 0.0, 0.0, 0.0, 0.0, 0.0, 0.0, 0.0, 0.0, 0.0, 0.0, 0.0, 0.0, 0.0, 0.0, 0.0, 0.0, 0.0, 0.0, 0.0, 0.0, 0.0, 0.0, 0.0, 0.0, 0.0, 0.0, 0.0, 0.0, 0.0, 0.0, 0.0, 0.0, 0.0, 0.0, 0.0, 0.0, 0.0, 0.0, 0.0, 0.0, 0.0, 0.0, 0.0, 0.0, 0.0, 0.0, 0.0, 0.0, 0.0, 0.0, 0.0, 0.0, 0.0, 0.0, 0.0, 0.0, 0.0, 0.0, 0.0, 0.0, 0.0, 0.0, 0.0, 0.0, 0.0, 0.0, 0.0, 0.0, 0.0, 0.0, 0.0, 0.0, 0.0, 0.0, 0.0, 0.0, 0.0, 0.0, 0.0, 0.0, 0.0, 0.0, 0.0, 0.0, 0.0, 0.0, 0.0, 0.0, 0.0, 0.0, 0.0, 0.0, 0.0, 0.0, 0.0, 0.0, 0.0, 0.0, 0.0, 0.0, 0.0, 0.0, 0.0, 0.0, 0.0, 0.0, 0.0, 0.0, 0.0, 0.0, 0.0, 0.0, 0.0, 0.0, 0.0, 0.0, 0.0, 0.0, 0.0, 0.0, 0.0, 0.0, 0.0, 0.0, 0.0, 0.0, 0.0, 0.0, 0.0, 0.0, 0.0, 0.0, 0.0, 0.0, 0.0, 0.0, 0.0, 0.0, 0.0, 0.0, 0.0, 0.0, 0.0, 0.0, 0.0, 0.0, 0.0, 0.0, 0.0, 0.0, 0.0, 0.0, 0.0, 0.0, 0.0, 0.0, 0.0, 0.0, 0.0, 0.0, 0.0, 0.0, 0.0, 0.0, 0.0, 0.0, 0.0, 0.0, 0.0, 0.0, 0.0, 0.0, 0.0, 0.0, 0.0, 0.0, 0.0, 0.0, 0.0, 0.0, 0.0, 0.0, 0.0, 0.0, 0.0, 0.0, 0.0, 0.0, 0.0, 0.0, 0.0, 0.0, 0.0, 0.0, 0.0, 0.0, 0.0, 0.0, 0.0, 0.0, 0.0, 0.0, 0.0, 0.0, 0.0, 0.0, 0.0, 0.0, 0.0, 0.0, 0.0, 0.0, 0.0, 0.0, 0.0, 0.0, 0.0, 0.0, 0.0, 0.0, 0.0, 0.0, 0.0, 0.0, 0.0, 0.0, 0.0, 0.0, 0.0, 0.0, 0.0, 0.0, 0.0, 0.0, 0.0, 0.0, 0.0, 0.0, 0.0, 0.0, 0.0, 0.0, 0.0, 0.0, 0.0, 0.0, 0.0, 0.0, 0.0, 0.0, 0.0, 0.0, 0.0, 0.0, 0.0, 0.0, 0.0, 0.0, 0.0, 0.0, 0.0, 0.0, 0.0, 0.0, 0.0, 0.0, 0.0, 0.0, 0.0, 0.0, 0.0, 0.0, 0.0, 0.0, 0.0, 0.0, 0.0, 0.0, 0.0, 0.0, 0.0, 0.0, 0.0, 0.0, 0.0, 0.0, 0.0, 0.0, 0.0, 0.0, 0.0, 0.0, 0.0, 0.0, 0.0, 0.0, 0.0, 0.0, 0.0, 0.0, 0.0, 0.0, 0.0, 0.0, 0.0, 0.0, 0.0, 0.0, 0.0, 0.0, 0.0, 0.0, 0.0, 0.0, 0.0, 0.0, 0.0, 0.0, 0.0, 0.0, 0.0, 0.0, 0.0, 0.0, 0.0, 0.0, 0.0, 0.0, 0.0, 0.0, 0.0, 0.0, 0.0, 0.0, 0.0, 0.0, 0.0, 0.0, 0.0, 0.0, 0.0, 0.0, 0.0, 0.0, 0.0, 0.0, 0.0, 0.0, 0.0, 0.0, 0.0, 0.0, 0.0, 0.0, 0.0, 0.0, 0.0, 0.0, 0.0, 0.0, 0.0, 0.0, 0.0, 0.0, 0.0, 0.0, 0.0, 0.0, 0.0, 0.0, 0.0, 0.0, 0.0, 0.0, 0.0, 0.0, 0.0, 0.0, 0.0, 0.0, 0.0, 0.0, 0.0, 0.0, 0.0, 0.0, 0.0, 0.0, 0.0, 0.0, 0.0, 0.0, 0.0, 0.0, 0.0, 0.0, 0.0, 0.0, 0.0, 0.0, 0.0, 0.0, 0.0, 0.0, 0.0, 0.0, 0.0, 0.0, 0.0],\n",
       " 'isyn_inh': [0.0, 0.0, 0.0, 0.0, 0.0, 0.0, 0.0, 0.0, 0.0, 0.0, 0.0, 0.0, 0.0, 0.0, 0.0, 0.0, 0.0, 0.0, 0.0, 0.0, 0.0, 0.0, 0.0, 0.0, 0.0, 0.0, 0.0, 0.0, 0.0, 0.0, 0.0, 0.0, 0.0, 0.0, 0.0, 0.0, 0.0, 0.0, 0.0, 0.0, 0.0, 0.0, 0.0, 0.0, 0.0, 0.0, 0.0, 0.0, 0.0, 0.0, 0.0, 0.0, 0.0, 0.0, 0.0, 0.0, 0.0, 0.0, 0.0, 0.0, 0.0, 0.0, 0.0, 0.0, 0.0, 0.0, 0.0, 0.0, 0.0, 0.0, 0.0, 0.0, 0.0, 0.0, 0.0, 0.0, 0.0, 0.0, 0.0, 0.0, 0.0, 0.0, 0.0, 0.0, 0.0, 0.0, 0.0, 0.0, 0.0, 0.0, 0.0, 0.0, 0.0, 0.0, 0.0, 0.0, 0.0, 0.0, 0.0, 0.0, 0.0, 0.0, 0.0, 0.0, 0.0, 0.0, 0.0, 0.0, 0.0, 0.0, 0.0, 0.0, 0.0, 0.0, 0.0, 0.0, 0.0, 0.0, 0.0, 0.0, 0.0, 0.0, 0.0, 0.0, 0.0, 0.0, 0.0, 0.0, 0.0, 0.0, 0.0, 0.0, 0.0, 0.0, 0.0, 0.0, 0.0, 0.0, 0.0, 0.0, 0.0, 0.0, 0.0, 0.0, 0.0, 0.0, 0.0, 0.0, 0.0, 0.0, 0.0, 0.0, 0.0, 0.0, 0.0, 0.0, 0.0, 0.0, 0.0, 0.0, 0.0, 0.0, 0.0, 0.0, 0.0, 0.0, 0.0, 0.0, 0.0, 0.0, 0.0, 0.0, 0.0, 0.0, 0.0, 0.0, 0.0, 0.0, 0.0, 0.0, 0.0, 0.0, 0.0, 0.0, 0.0, 0.0, 0.0, 0.0, 0.0, 0.0, 0.0, 0.0, 0.0, 0.0, 0.0, 0.0, 0.0, 0.0, 0.0, 0.0, 0.0, 0.0, 0.0, 0.0, 0.0, 0.0, 0.0, 0.0, 0.0, 0.0, 0.0, 0.0, 0.0, 0.0, 0.0, 0.0, 0.0, 0.0, 0.0, 0.0, 0.0, 0.0, 0.0, 0.0, 0.0, 0.0, 0.0, 0.0, 0.0, 0.0, 0.0, 0.0, 0.0, 0.0, 0.0, 0.0, 0.0, 0.0, 0.0, 0.0, 0.0, 0.0, 0.0, 0.0, 0.0, 0.0, 0.0, 0.0, 0.0, 0.0, 0.0, 0.0, 0.0, 0.0, 0.0, 0.0, 0.0, 0.0, 0.0, 0.0, 0.0, 0.0, 0.0, 0.0, 0.0, 0.0, 0.0, 0.0, 0.0, 0.0, 0.0, 0.0, 0.0, 0.0, 0.0, 0.0, 0.0, 0.0, 0.0, 0.0, 0.0, 0.0, 0.0, 0.0, 0.0, 0.0, 0.0, 0.0, 0.0, 0.0, 0.0, 0.0, 0.0, 0.0, 0.0, 0.0, 0.0, 0.0, 0.0, 0.0, 0.0, 0.0, 0.0, 0.0, 0.0, 0.0, 0.0, 0.0, 0.0, 0.0, 0.0, 0.0, 0.0, 0.0, 0.0, 0.0, 0.0, 0.0, 0.0, 0.0, 0.0, 0.0, 0.0, 0.0, 0.0, 0.0, 0.0, 0.0, 0.0, 0.0, 0.0, 0.0, 0.0, 0.0, 0.0, 0.0, 0.0, 0.0, 0.0, 0.0, 0.0, 0.0, 0.0, 0.0, 0.0, 0.0, 0.0, 0.0, 0.0, 0.0, 0.0, 0.0, 0.0, 0.0, 0.0, 0.0, 0.0, 0.0, 0.0, 0.0, 0.0, 0.0, 0.0, 0.0, 0.0, 0.0, 0.0, 0.0, 0.0, 0.0, 0.0, 0.0, 0.0, 0.0, 0.0, 0.0, 0.0, 0.0, 0.0, 0.0, 0.0, 0.0, 0.0, 0.0, 0.0, 0.0, 0.0, 0.0, 0.0, 0.0, 0.0, 0.0, 0.0, 0.0, 0.0, 0.0, 0.0, 0.0, 0.0, 0.0, 0.0, 0.0, 0.0, 0.0, 0.0, 0.0, 0.0, 0.0, 0.0, 0.0, 0.0, 0.0, 0.0, 0.0, 0.0, 0.0, 0.0, 0.0, 0.0, 0.0, 0.0, 0.0, 0.0, 0.0, 0.0, 0.0, 0.0, 0.0, 0.0, 0.0, 0.0, 0.0, 0.0, 0.0, 0.0, 0.0, 0.0, 0.0, 0.0, 0.0, 0.0, 0.0, 0.0, 0.0, 0.0, 0.0, 0.0, 0.0, 0.0, 0.0, 0.0, 0.0, 0.0, 0.0, 0.0, 0.0, 0.0, 0.0, 0.0, 0.0, 0.0, 0.0, 0.0, 0.0, 0.0, 0.0, 0.0, 0.0, 0.0, 0.0, 0.0, 0.0, 0.0, 0.0, 0.0, 0.0, 0.0, 0.0, 0.0, 0.0, 0.0, 0.0, 0.0, 0.0, 0.0, 0.0, 0.0, 0.0, 0.0, 0.0, 0.0, 0.0, 0.0, 0.0, 0.0, 0.0, 0.0, 0.0, 0.0, 0.0, 0.0, 0.0, 0.0, 0.0, 0.0, 0.0, 0.0, 0.0, 0.0, 0.0, 0.0, 0.0, 0.0, 0.0, 0.0, 0.0, 0.0, 0.0, 0.0, 0.0, 0.0, 0.0, 0.0, 0.0, 0.0, 0.0, 0.0, 0.0, 0.0, 0.0, 0.0, 0.0, 0.0, 0.0, 0.0, 0.0, 0.0, 0.0, 0.0, 0.0, 0.0, 0.0, 0.0, 0.0, 0.0, 0.0, 0.0, 0.0, 0.0, 0.0, 0.0, 0.0, 0.0, 0.0, 0.0, 0.0, 0.0, 0.0, 0.0, 0.0, 0.0, 0.0, 0.0, 0.0, 0.0, 0.0, 0.0, 0.0, 0.0, 0.0, 0.0, 0.0, 0.0, 0.0, 0.0, 0.0, 0.0, 0.0, 0.0, 0.0, 0.0, 0.0, 0.0, 0.0, 0.0, 0.0, 0.0, 0.0, 0.0, 0.0, 0.0, 0.0, 0.0, 0.0, 0.0, 0.0, 0.0, 0.0, 0.0, 0.0, 0.0, 0.0, 0.0, 0.0, 0.0, 0.0, 0.0, 0.0, 0.0, 0.0, 0.0, 0.0, 0.0, 0.0, 0.0, 0.0, 0.0, 0.0, 0.0, 0.0, 0.0, 0.0, 0.0, 0.0, 0.0, 0.0, 0.0, 0.0, 0.0, 0.0, 0.0, 0.0, 0.0, 0.0, 0.0, 0.0, 0.0, 0.0, 0.0, 0.0, 0.0, 0.0, 0.0, 0.0, 0.0, 0.0, 0.0, 0.0, 0.0, 0.0, 0.0, 0.0, 0.0, 0.0, 0.0, 0.0, 0.0, 0.0, 0.0, 0.0, 0.0, 0.0, 0.0, 0.0, 0.0, 0.0, 0.0, 0.0, 0.0, 0.0, 0.0, 0.0, 0.0, 0.0, 0.0, 0.0, 0.0, 0.0, 0.0, 0.0, 0.0, 0.0, 0.0, 0.0, 0.0, 0.0, 0.0, 0.0, 0.0, 0.0, 0.0, 0.0, 0.0, 0.0, 0.0, 0.0, 0.0, 0.0, 0.0, 0.0, 0.0, 0.0, 0.0, 0.0, 0.0, 0.0, 0.0, 0.0, 0.0, 0.0, 0.0, 0.0, 0.0, 0.0, 0.0, 0.0, 0.0, 0.0, 0.0, 0.0, 0.0, 0.0, 0.0, 0.0, 0.0, 0.0, 0.0, 0.0, 0.0, 0.0, 0.0, 0.0, 0.0, 0.0, 0.0, 0.0, 0.0, 0.0, 0.0, 0.0, 0.0, 0.0, 0.0, 0.0, 0.0, 0.0, 0.0, 0.0, 0.0, 0.0, 0.0, 0.0, 0.0, 0.0, 0.0, 0.0, 0.0, 0.0, 0.0, 0.0, 0.0, 0.0, 0.0, 0.0, 0.0, 0.0, 0.0, 0.0, 0.0, 0.0, 0.0, 0.0, 0.0, 0.0, 0.0, 0.0, 0.0, 0.0, 0.0, 0.0, 0.0, 0.0, 0.0, 0.0, 0.0, 0.0, 0.0, 0.0, 0.0, 0.0, 0.0, 0.0, 0.0, 0.0, 0.0, 0.0, 0.0, 0.0, 0.0, 0.0]}"
      ]
     },
     "execution_count": 18,
     "metadata": {},
     "output_type": "execute_result"
    }
   ],
   "source": [
    "# check initial values\n",
    "\n",
    "pops['exc'].initial_values"
   ]
  },
  {
   "cell_type": "code",
   "execution_count": 19,
   "metadata": {},
   "outputs": [
    {
     "name": "stdout",
     "output_type": "stream",
     "text": [
      "the total number of excitatory cells is:  800\n"
     ]
    },
    {
     "data": {
      "image/png": "[encoded data removed]",
      "text/plain": [
       "<Figure size 432x288 with 1 Axes>"
      ]
     },
     "metadata": {
      "needs_background": "light"
     },
     "output_type": "display_data"
    }
   ],
   "source": [
    "pops['exc'].initial_values['v'] # voltage\n",
    "\n",
    "%matplotlib inline\n",
    "plt.hist(pops['exc'].initial_values['v'], 10)\n",
    "print('the total number of excitatory cells is: ', pops['exc'].size)"
   ]
  },
  {
   "cell_type": "code",
   "execution_count": 20,
   "metadata": {},
   "outputs": [
    {
     "data": {
      "text/plain": [
       "[0.0, 0.0, 0.0, 0.0, 0.0, 0.0, 0.0, 0.0, 0.0, 0.0, 0.0, 0.0, 0.0, 0.0, 0.0, 0.0, 0.0, 0.0, 0.0, 0.0, 0.0, 0.0, 0.0, 0.0, 0.0, 0.0, 0.0, 0.0, 0.0, 0.0, 0.0, 0.0, 0.0, 0.0, 0.0, 0.0, 0.0, 0.0, 0.0, 0.0, 0.0, 0.0, 0.0, 0.0, 0.0, 0.0, 0.0, 0.0, 0.0, 0.0, 0.0, 0.0, 0.0, 0.0, 0.0, 0.0, 0.0, 0.0, 0.0, 0.0, 0.0, 0.0, 0.0, 0.0, 0.0, 0.0, 0.0, 0.0, 0.0, 0.0, 0.0, 0.0, 0.0, 0.0, 0.0, 0.0, 0.0, 0.0, 0.0, 0.0, 0.0, 0.0, 0.0, 0.0, 0.0, 0.0, 0.0, 0.0, 0.0, 0.0, 0.0, 0.0, 0.0, 0.0, 0.0, 0.0, 0.0, 0.0, 0.0, 0.0, 0.0, 0.0, 0.0, 0.0, 0.0, 0.0, 0.0, 0.0, 0.0, 0.0, 0.0, 0.0, 0.0, 0.0, 0.0, 0.0, 0.0, 0.0, 0.0, 0.0, 0.0, 0.0, 0.0, 0.0, 0.0, 0.0, 0.0, 0.0, 0.0, 0.0, 0.0, 0.0, 0.0, 0.0, 0.0, 0.0, 0.0, 0.0, 0.0, 0.0, 0.0, 0.0, 0.0, 0.0, 0.0, 0.0, 0.0, 0.0, 0.0, 0.0, 0.0, 0.0, 0.0, 0.0, 0.0, 0.0, 0.0, 0.0, 0.0, 0.0, 0.0, 0.0, 0.0, 0.0, 0.0, 0.0, 0.0, 0.0, 0.0, 0.0, 0.0, 0.0, 0.0, 0.0, 0.0, 0.0, 0.0, 0.0, 0.0, 0.0, 0.0, 0.0, 0.0, 0.0, 0.0, 0.0, 0.0, 0.0, 0.0, 0.0, 0.0, 0.0, 0.0, 0.0, 0.0, 0.0, 0.0, 0.0, 0.0, 0.0, 0.0, 0.0, 0.0, 0.0, 0.0, 0.0, 0.0, 0.0, 0.0, 0.0, 0.0, 0.0, 0.0, 0.0, 0.0, 0.0, 0.0, 0.0, 0.0, 0.0, 0.0, 0.0, 0.0, 0.0, 0.0, 0.0, 0.0, 0.0, 0.0, 0.0, 0.0, 0.0, 0.0, 0.0, 0.0, 0.0, 0.0, 0.0, 0.0, 0.0, 0.0, 0.0, 0.0, 0.0, 0.0, 0.0, 0.0, 0.0, 0.0, 0.0, 0.0, 0.0, 0.0, 0.0, 0.0, 0.0, 0.0, 0.0, 0.0, 0.0, 0.0, 0.0, 0.0, 0.0, 0.0, 0.0, 0.0, 0.0, 0.0, 0.0, 0.0, 0.0, 0.0, 0.0, 0.0, 0.0, 0.0, 0.0, 0.0, 0.0, 0.0, 0.0, 0.0, 0.0, 0.0, 0.0, 0.0, 0.0, 0.0, 0.0, 0.0, 0.0, 0.0, 0.0, 0.0, 0.0, 0.0, 0.0, 0.0, 0.0, 0.0, 0.0, 0.0, 0.0, 0.0, 0.0, 0.0, 0.0, 0.0, 0.0, 0.0, 0.0, 0.0, 0.0, 0.0, 0.0, 0.0, 0.0, 0.0, 0.0, 0.0, 0.0, 0.0, 0.0, 0.0, 0.0, 0.0, 0.0, 0.0, 0.0, 0.0, 0.0, 0.0, 0.0, 0.0, 0.0, 0.0, 0.0, 0.0, 0.0, 0.0, 0.0, 0.0, 0.0, 0.0, 0.0, 0.0, 0.0, 0.0, 0.0, 0.0, 0.0, 0.0, 0.0, 0.0, 0.0, 0.0, 0.0, 0.0, 0.0, 0.0, 0.0, 0.0, 0.0, 0.0, 0.0, 0.0, 0.0, 0.0, 0.0, 0.0, 0.0, 0.0, 0.0, 0.0, 0.0, 0.0, 0.0, 0.0, 0.0, 0.0, 0.0, 0.0, 0.0, 0.0, 0.0, 0.0, 0.0, 0.0, 0.0, 0.0, 0.0, 0.0, 0.0, 0.0, 0.0, 0.0, 0.0, 0.0, 0.0, 0.0, 0.0, 0.0, 0.0, 0.0, 0.0, 0.0, 0.0, 0.0, 0.0, 0.0, 0.0, 0.0, 0.0, 0.0, 0.0, 0.0, 0.0, 0.0, 0.0, 0.0, 0.0, 0.0, 0.0, 0.0, 0.0, 0.0, 0.0, 0.0, 0.0, 0.0, 0.0, 0.0, 0.0, 0.0, 0.0, 0.0, 0.0, 0.0, 0.0, 0.0, 0.0, 0.0, 0.0, 0.0, 0.0, 0.0, 0.0, 0.0, 0.0, 0.0, 0.0, 0.0, 0.0, 0.0, 0.0, 0.0, 0.0, 0.0, 0.0, 0.0, 0.0, 0.0, 0.0, 0.0, 0.0, 0.0, 0.0, 0.0, 0.0, 0.0, 0.0, 0.0, 0.0, 0.0, 0.0, 0.0, 0.0, 0.0, 0.0, 0.0, 0.0, 0.0, 0.0, 0.0, 0.0, 0.0, 0.0, 0.0, 0.0, 0.0, 0.0, 0.0, 0.0, 0.0, 0.0, 0.0, 0.0, 0.0, 0.0, 0.0, 0.0, 0.0, 0.0, 0.0, 0.0, 0.0, 0.0, 0.0, 0.0, 0.0, 0.0, 0.0, 0.0, 0.0, 0.0, 0.0, 0.0, 0.0, 0.0, 0.0, 0.0, 0.0, 0.0, 0.0, 0.0, 0.0, 0.0, 0.0, 0.0, 0.0, 0.0, 0.0, 0.0, 0.0, 0.0, 0.0, 0.0, 0.0, 0.0, 0.0, 0.0, 0.0, 0.0, 0.0, 0.0, 0.0, 0.0, 0.0, 0.0, 0.0, 0.0, 0.0, 0.0, 0.0, 0.0, 0.0, 0.0, 0.0, 0.0, 0.0, 0.0, 0.0, 0.0, 0.0, 0.0, 0.0, 0.0, 0.0, 0.0, 0.0, 0.0, 0.0, 0.0, 0.0, 0.0, 0.0, 0.0, 0.0, 0.0, 0.0, 0.0, 0.0, 0.0, 0.0, 0.0, 0.0, 0.0, 0.0, 0.0, 0.0, 0.0, 0.0, 0.0, 0.0, 0.0, 0.0, 0.0, 0.0, 0.0, 0.0, 0.0, 0.0, 0.0, 0.0, 0.0, 0.0, 0.0, 0.0, 0.0, 0.0, 0.0, 0.0, 0.0, 0.0, 0.0, 0.0, 0.0, 0.0, 0.0, 0.0, 0.0, 0.0, 0.0, 0.0, 0.0, 0.0, 0.0, 0.0, 0.0, 0.0, 0.0, 0.0, 0.0, 0.0, 0.0, 0.0, 0.0, 0.0, 0.0, 0.0, 0.0, 0.0, 0.0, 0.0, 0.0, 0.0, 0.0, 0.0, 0.0, 0.0, 0.0, 0.0, 0.0, 0.0, 0.0, 0.0, 0.0, 0.0, 0.0, 0.0, 0.0, 0.0, 0.0, 0.0, 0.0, 0.0, 0.0, 0.0, 0.0, 0.0, 0.0, 0.0, 0.0, 0.0, 0.0, 0.0, 0.0, 0.0, 0.0, 0.0, 0.0, 0.0, 0.0, 0.0, 0.0, 0.0, 0.0, 0.0, 0.0, 0.0, 0.0, 0.0, 0.0, 0.0, 0.0, 0.0, 0.0, 0.0, 0.0, 0.0, 0.0, 0.0, 0.0, 0.0, 0.0, 0.0, 0.0, 0.0, 0.0, 0.0, 0.0, 0.0, 0.0, 0.0, 0.0, 0.0, 0.0, 0.0, 0.0, 0.0, 0.0, 0.0, 0.0, 0.0, 0.0, 0.0, 0.0, 0.0, 0.0, 0.0, 0.0, 0.0, 0.0, 0.0, 0.0, 0.0, 0.0, 0.0, 0.0, 0.0, 0.0, 0.0, 0.0, 0.0, 0.0, 0.0, 0.0, 0.0, 0.0, 0.0, 0.0, 0.0, 0.0, 0.0, 0.0, 0.0, 0.0, 0.0, 0.0, 0.0, 0.0, 0.0, 0.0, 0.0, 0.0, 0.0, 0.0, 0.0, 0.0, 0.0, 0.0, 0.0, 0.0, 0.0, 0.0, 0.0, 0.0, 0.0, 0.0, 0.0, 0.0, 0.0, 0.0, 0.0, 0.0, 0.0, 0.0, 0.0, 0.0, 0.0, 0.0, 0.0, 0.0, 0.0, 0.0, 0.0, 0.0, 0.0, 0.0]"
      ]
     },
     "execution_count": 20,
     "metadata": {},
     "output_type": "execute_result"
    }
   ],
   "source": [
    "pops['exc'].initial_values['isyn_exc'] # excitatory conductance\n"
   ]
  },
  {
   "cell_type": "code",
   "execution_count": 21,
   "metadata": {},
   "outputs": [
    {
     "data": {
      "text/plain": [
       "[0.0, 0.0, 0.0, 0.0, 0.0, 0.0, 0.0, 0.0, 0.0, 0.0, 0.0, 0.0, 0.0, 0.0, 0.0, 0.0, 0.0, 0.0, 0.0, 0.0, 0.0, 0.0, 0.0, 0.0, 0.0, 0.0, 0.0, 0.0, 0.0, 0.0, 0.0, 0.0, 0.0, 0.0, 0.0, 0.0, 0.0, 0.0, 0.0, 0.0, 0.0, 0.0, 0.0, 0.0, 0.0, 0.0, 0.0, 0.0, 0.0, 0.0, 0.0, 0.0, 0.0, 0.0, 0.0, 0.0, 0.0, 0.0, 0.0, 0.0, 0.0, 0.0, 0.0, 0.0, 0.0, 0.0, 0.0, 0.0, 0.0, 0.0, 0.0, 0.0, 0.0, 0.0, 0.0, 0.0, 0.0, 0.0, 0.0, 0.0, 0.0, 0.0, 0.0, 0.0, 0.0, 0.0, 0.0, 0.0, 0.0, 0.0, 0.0, 0.0, 0.0, 0.0, 0.0, 0.0, 0.0, 0.0, 0.0, 0.0, 0.0, 0.0, 0.0, 0.0, 0.0, 0.0, 0.0, 0.0, 0.0, 0.0, 0.0, 0.0, 0.0, 0.0, 0.0, 0.0, 0.0, 0.0, 0.0, 0.0, 0.0, 0.0, 0.0, 0.0, 0.0, 0.0, 0.0, 0.0, 0.0, 0.0, 0.0, 0.0, 0.0, 0.0, 0.0, 0.0, 0.0, 0.0, 0.0, 0.0, 0.0, 0.0, 0.0, 0.0, 0.0, 0.0, 0.0, 0.0, 0.0, 0.0, 0.0, 0.0, 0.0, 0.0, 0.0, 0.0, 0.0, 0.0, 0.0, 0.0, 0.0, 0.0, 0.0, 0.0, 0.0, 0.0, 0.0, 0.0, 0.0, 0.0, 0.0, 0.0, 0.0, 0.0, 0.0, 0.0, 0.0, 0.0, 0.0, 0.0, 0.0, 0.0, 0.0, 0.0, 0.0, 0.0, 0.0, 0.0, 0.0, 0.0, 0.0, 0.0, 0.0, 0.0, 0.0, 0.0, 0.0, 0.0, 0.0, 0.0, 0.0, 0.0, 0.0, 0.0, 0.0, 0.0, 0.0, 0.0, 0.0, 0.0, 0.0, 0.0, 0.0, 0.0, 0.0, 0.0, 0.0, 0.0, 0.0, 0.0, 0.0, 0.0, 0.0, 0.0, 0.0, 0.0, 0.0, 0.0, 0.0, 0.0, 0.0, 0.0, 0.0, 0.0, 0.0, 0.0, 0.0, 0.0, 0.0, 0.0, 0.0, 0.0, 0.0, 0.0, 0.0, 0.0, 0.0, 0.0, 0.0, 0.0, 0.0, 0.0, 0.0, 0.0, 0.0, 0.0, 0.0, 0.0, 0.0, 0.0, 0.0, 0.0, 0.0, 0.0, 0.0, 0.0, 0.0, 0.0, 0.0, 0.0, 0.0, 0.0, 0.0, 0.0, 0.0, 0.0, 0.0, 0.0, 0.0, 0.0, 0.0, 0.0, 0.0, 0.0, 0.0, 0.0, 0.0, 0.0, 0.0, 0.0, 0.0, 0.0, 0.0, 0.0, 0.0, 0.0, 0.0, 0.0, 0.0, 0.0, 0.0, 0.0, 0.0, 0.0, 0.0, 0.0, 0.0, 0.0, 0.0, 0.0, 0.0, 0.0, 0.0, 0.0, 0.0, 0.0, 0.0, 0.0, 0.0, 0.0, 0.0, 0.0, 0.0, 0.0, 0.0, 0.0, 0.0, 0.0, 0.0, 0.0, 0.0, 0.0, 0.0, 0.0, 0.0, 0.0, 0.0, 0.0, 0.0, 0.0, 0.0, 0.0, 0.0, 0.0, 0.0, 0.0, 0.0, 0.0, 0.0, 0.0, 0.0, 0.0, 0.0, 0.0, 0.0, 0.0, 0.0, 0.0, 0.0, 0.0, 0.0, 0.0, 0.0, 0.0, 0.0, 0.0, 0.0, 0.0, 0.0, 0.0, 0.0, 0.0, 0.0, 0.0, 0.0, 0.0, 0.0, 0.0, 0.0, 0.0, 0.0, 0.0, 0.0, 0.0, 0.0, 0.0, 0.0, 0.0, 0.0, 0.0, 0.0, 0.0, 0.0, 0.0, 0.0, 0.0, 0.0, 0.0, 0.0, 0.0, 0.0, 0.0, 0.0, 0.0, 0.0, 0.0, 0.0, 0.0, 0.0, 0.0, 0.0, 0.0, 0.0, 0.0, 0.0, 0.0, 0.0, 0.0, 0.0, 0.0, 0.0, 0.0, 0.0, 0.0, 0.0, 0.0, 0.0, 0.0, 0.0, 0.0, 0.0, 0.0, 0.0, 0.0, 0.0, 0.0, 0.0, 0.0, 0.0, 0.0, 0.0, 0.0, 0.0, 0.0, 0.0, 0.0, 0.0, 0.0, 0.0, 0.0, 0.0, 0.0, 0.0, 0.0, 0.0, 0.0, 0.0, 0.0, 0.0, 0.0, 0.0, 0.0, 0.0, 0.0, 0.0, 0.0, 0.0, 0.0, 0.0, 0.0, 0.0, 0.0, 0.0, 0.0, 0.0, 0.0, 0.0, 0.0, 0.0, 0.0, 0.0, 0.0, 0.0, 0.0, 0.0, 0.0, 0.0, 0.0, 0.0, 0.0, 0.0, 0.0, 0.0, 0.0, 0.0, 0.0, 0.0, 0.0, 0.0, 0.0, 0.0, 0.0, 0.0, 0.0, 0.0, 0.0, 0.0, 0.0, 0.0, 0.0, 0.0, 0.0, 0.0, 0.0, 0.0, 0.0, 0.0, 0.0, 0.0, 0.0, 0.0, 0.0, 0.0, 0.0, 0.0, 0.0, 0.0, 0.0, 0.0, 0.0, 0.0, 0.0, 0.0, 0.0, 0.0, 0.0, 0.0, 0.0, 0.0, 0.0, 0.0, 0.0, 0.0, 0.0, 0.0, 0.0, 0.0, 0.0, 0.0, 0.0, 0.0, 0.0, 0.0, 0.0, 0.0, 0.0, 0.0, 0.0, 0.0, 0.0, 0.0, 0.0, 0.0, 0.0, 0.0, 0.0, 0.0, 0.0, 0.0, 0.0, 0.0, 0.0, 0.0, 0.0, 0.0, 0.0, 0.0, 0.0, 0.0, 0.0, 0.0, 0.0, 0.0, 0.0, 0.0, 0.0, 0.0, 0.0, 0.0, 0.0, 0.0, 0.0, 0.0, 0.0, 0.0, 0.0, 0.0, 0.0, 0.0, 0.0, 0.0, 0.0, 0.0, 0.0, 0.0, 0.0, 0.0, 0.0, 0.0, 0.0, 0.0, 0.0, 0.0, 0.0, 0.0, 0.0, 0.0, 0.0, 0.0, 0.0, 0.0, 0.0, 0.0, 0.0, 0.0, 0.0, 0.0, 0.0, 0.0, 0.0, 0.0, 0.0, 0.0, 0.0, 0.0, 0.0, 0.0, 0.0, 0.0, 0.0, 0.0, 0.0, 0.0, 0.0, 0.0, 0.0, 0.0, 0.0, 0.0, 0.0, 0.0, 0.0, 0.0, 0.0, 0.0, 0.0, 0.0, 0.0, 0.0, 0.0, 0.0, 0.0, 0.0, 0.0, 0.0, 0.0, 0.0, 0.0, 0.0, 0.0, 0.0, 0.0, 0.0, 0.0, 0.0, 0.0, 0.0, 0.0, 0.0, 0.0, 0.0, 0.0, 0.0, 0.0, 0.0, 0.0, 0.0, 0.0, 0.0, 0.0, 0.0, 0.0, 0.0, 0.0, 0.0, 0.0, 0.0, 0.0, 0.0, 0.0, 0.0, 0.0, 0.0, 0.0, 0.0, 0.0, 0.0, 0.0, 0.0, 0.0, 0.0, 0.0, 0.0, 0.0, 0.0, 0.0, 0.0, 0.0, 0.0, 0.0, 0.0, 0.0, 0.0, 0.0, 0.0, 0.0, 0.0, 0.0, 0.0, 0.0, 0.0, 0.0, 0.0, 0.0, 0.0, 0.0, 0.0, 0.0, 0.0, 0.0, 0.0, 0.0, 0.0, 0.0, 0.0, 0.0, 0.0, 0.0, 0.0, 0.0, 0.0, 0.0, 0.0, 0.0, 0.0, 0.0, 0.0, 0.0, 0.0, 0.0, 0.0, 0.0, 0.0, 0.0, 0.0, 0.0, 0.0, 0.0, 0.0, 0.0, 0.0, 0.0, 0.0, 0.0, 0.0, 0.0, 0.0, 0.0, 0.0, 0.0, 0.0, 0.0, 0.0, 0.0, 0.0, 0.0, 0.0, 0.0, 0.0, 0.0, 0.0, 0.0, 0.0, 0.0, 0.0, 0.0, 0.0, 0.0, 0.0, 0.0]"
      ]
     },
     "execution_count": 21,
     "metadata": {},
     "output_type": "execute_result"
    }
   ],
   "source": [
    "pops['exc'].initial_values['isyn_inh'] # inhibitory conductance"
   ]
  },
  {
   "cell_type": "code",
   "execution_count": 22,
   "metadata": {},
   "outputs": [
    {
     "data": {
      "text/plain": [
       "Text(0.5, 1.0, 'discrete PDF of voltage [mV]')"
      ]
     },
     "execution_count": 22,
     "metadata": {},
     "output_type": "execute_result"
    },
    {
     "data": {
      "image/png": "[encoded data removed]",
      "text/plain": [
       "<Figure size 504x360 with 2 Axes>"
      ]
     },
     "metadata": {
      "needs_background": "light"
     },
     "output_type": "display_data"
    }
   ],
   "source": [
    "# change initial values, e.g., voltage\n",
    "\n",
    "pops['exc'].initialize(v = sim.RandomDistribution('normal', (-65.0, 2.0)))\n",
    "pops['exc'].initial_values['v'] # voltage\n",
    "\n",
    "# visual check of the custom voltage initial distribution\n",
    "\n",
    "fig, axes = plt.subplots(1,2, figsize=(7,5))\n",
    "axes_list = fig.axes\n",
    "\n",
    "axes_list[0].hist(np.asarray(pops['exc'].initial_values['v']),\n",
    "                  bins = 50,\n",
    "                  cumulative = True)\n",
    "\n",
    "axes_list[0].set_title('CDF of voltage [mV]')\n",
    "\n",
    "axes_list[1].hist(np.asarray(pops['exc'].initial_values['v']),\n",
    "                  density = True,\n",
    "                  bins = 50,\n",
    "                  cumulative = False)\n",
    "\n",
    "\n",
    "axes_list[1].set_title('discrete PDF of voltage [mV]')"
   ]
  },
  {
   "cell_type": "code",
   "execution_count": 25,
   "metadata": {},
   "outputs": [
    {
     "name": "stdout",
     "output_type": "stream",
     "text": [
      "the position of the 1st cell in a 3D structure is:  [array([-1109.57217598]), array([-4821.09080398]), array([4874.34989805])]\n"
     ]
    },
    {
     "data": {
      "image/png": "[encoded data removed]",
      "text/plain": [
       "<Figure size 792x360 with 2 Axes>"
      ]
     },
     "metadata": {
      "needs_background": "light"
     },
     "output_type": "display_data"
    }
   ],
   "source": [
    "# some info to define network with 1D or 2D or 3D structures \n",
    "# remember cells are point model in on a discretized line, surface or volume\n",
    "\n",
    "\"\"\"\n",
    "pops[popName] = sim.Population(n_cells[popName], \n",
    "                               neuron_Model[popName],\n",
    "                               neuron_ModelPars[popName],\n",
    "                               structure = space.Line(dx=1.0, x0=0.0, y=0.0, z=0.0), \n",
    "                               initial_values=None, # e.g, initial_values={'v': sim.RandomDistribution('uniform', (-70.0, -60.0))},\n",
    "                               label = popName)\n",
    "\"\"\"\n",
    "\n",
    "\n",
    "\n",
    "\n",
    "structure = {}\n",
    "\n",
    "structure['1D'] = space.Line(\n",
    "                              dx=1.0, \n",
    "                              x0=0.0, \n",
    "                              y=0.0, \n",
    "                              z=0.0),\n",
    "\n",
    "structure['2D'] = space.Grid2D(\n",
    "                                aspect_ratio=1.0,\n",
    "                                dx=1.0,\n",
    "                                dy=1.0,\n",
    "                                x0=0.0,\n",
    "                                y0=0.0,\n",
    "                                z=0,\n",
    "                                fill_order='sequential', #'random'\n",
    "                                rng=None,\n",
    "                                )\n",
    "\n",
    "structure['3D'] = space.Grid3D(\n",
    "                                aspect_ratioXY=1.0,\n",
    "                                aspect_ratioXZ=1.0,\n",
    "                                dx=1.0,\n",
    "                                dy=1.0,\n",
    "                                dz=1.0,\n",
    "                                x0=0.0,\n",
    "                                y0=0.0,\n",
    "                                z0=0.0,\n",
    "                                fill_order='sequential', # 'random'\n",
    "                                rng=None,\n",
    "                                )\n",
    "\n",
    "structure['Sphere'] = space.RandomStructure(\n",
    "                                            boundary=space.Sphere(radius=5000), \n",
    "                                            origin=(0.0, 0.0, 0.0), \n",
    "                                            rng=None)\n",
    "\n",
    "\n",
    "structure['Cuboid'] = space.RandomStructure(\n",
    "                                            boundary=space.Cuboid(\n",
    "                                                                width=10000, \n",
    "                                                                height=10000, \n",
    "                                                                depth=10000), \n",
    "                                                                origin=(0.0, 0.0, 0.0), \n",
    "                                                                rng=None)\n",
    "\n",
    "\n",
    "# to explore the actual position of the cells:\n",
    "print('the position of the 1st cell in a 3D structure is: ', list(structure['Cuboid'].generate_positions(n=1)))\n",
    "\n",
    "\n",
    "import matplotlib.pyplot as plt\n",
    "from mpl_toolkits.mplot3d import Axes3D\n",
    "fig = plt.figure(figsize=(11,5))\n",
    "ax = fig.add_subplot(121, projection='3d')\n",
    "x=structure['Sphere'].generate_positions(n=1000)[0]\n",
    "y=structure['Sphere'].generate_positions(n=1000)[1]\n",
    "z=structure['Sphere'].generate_positions(n=1000)[2]\n",
    "im=ax.scatter(x, y, z)\n",
    "im=ax.set_title('Sphere')\n",
    "im=ax.set_xlabel('width')\n",
    "im=ax.set_ylabel('height')\n",
    "im=ax.set_zlabel('depth')\n",
    "# check radius with 10,100,1000\n",
    "\n",
    "ax = fig.add_subplot(122, projection='3d')\n",
    "x=structure['Cuboid'].generate_positions(n=1000)[0]\n",
    "y=structure['Cuboid'].generate_positions(n=1000)[1]\n",
    "z=structure['Cuboid'].generate_positions(n=1000)[2]\n",
    "im=ax.scatter(x, y, z)\n",
    "im=ax.set_title('Cuboid')\n",
    "im=ax.set_xlabel('width')\n",
    "im=ax.set_ylabel('height')\n",
    "im=ax.set_zlabel('depth')\n",
    "# check resizing width, height and depth (special cases of 1D and 2D and 3D)\n",
    "\n",
    "#len(structure['Cuboid'].generate_positions(n=10)[0])\n",
    "#structure['Cuboid'].generate_positions(n=10)\n",
    "# The library has a representation of the [topology of the network](http://neuralensemble.org/docs/PyNN/reference/space.html) :"
   ]
  },
  {
   "cell_type": "markdown",
   "metadata": {},
   "source": [
    "# step4: synapses types "
   ]
  },
  {
   "cell_type": "code",
   "execution_count": 26,
   "metadata": {},
   "outputs": [],
   "source": [
    "# static synapse weight and delay\n",
    "\n",
    "weights = np.random.normal(loc=0.04, scale=0.01)\n",
    "static_synapse = sim.StaticSynapse(weight=weights, delay=0.5) # weights in [uS] and delay in [ms]\n",
    "\n",
    "# note1: if you use a model with current based synapses, the weights are in nA, \n",
    "# otherewise are uS for conductance based synapses models "
   ]
  },
  {
   "cell_type": "code",
   "execution_count": 27,
   "metadata": {},
   "outputs": [],
   "source": [
    "# long term / spike-timinig-dependend plasticity (STDP), i.e. learning\n",
    "\n",
    "stdp_synapse = sim.STDPMechanism(\n",
    "                                 timing_dependence=sim.SpikePairRule(tau_plus=20.0, tau_minus=20.0, A_plus=0.1, A_minus=0.1),\n",
    "                                 weight_dependence=sim.AdditiveWeightDependence(w_min=0.0, w_max=1.0),\n",
    "                                 voltage_dependence=None,\n",
    "                                 dendritic_delay_fraction=1.0,\n",
    "                                 weight = 0.05, # initial value\n",
    "                                 delay = \"0.5 + 0.01*d\", # distance based delay min_delay + f(distance)\n",
    "                                 )\n",
    "\n",
    "# see for details http://neuralensemble.org/docs/PyNN/connections.html#synapse-types"
   ]
  },
  {
   "cell_type": "markdown",
   "metadata": {},
   "source": [
    "- have a look to [testing STDP model network notebook](eg_testing-STDP-model-network.ipynb)"
   ]
  },
  {
   "cell_type": "code",
   "execution_count": null,
   "metadata": {},
   "outputs": [],
   "source": [
    "# other learning rules\n",
    "\n",
    "# sim.extra_models.SpikeNearestPair\n",
    "# sim.extra_models.PfisterSpikeTripletRule\n",
    "# sim.extra_models.Vogels2011Rule\n",
    "# sim.extra_models.RecurrentRule\n",
    "\n",
    "# info at http://spinnakermanchester.github.io/spynnaker/5.0.0/SPyNNakerModelsAndLimitations.html"
   ]
  },
  {
   "cell_type": "markdown",
   "metadata": {},
   "source": [
    "# step5: connectors types \n"
   ]
  },
  {
   "cell_type": "code",
   "execution_count": 28,
   "metadata": {},
   "outputs": [],
   "source": [
    "# all to all connections\n",
    "\n",
    "connector = sim.AllToAllConnector(allow_self_connections=True) # autapses=True"
   ]
  },
  {
   "cell_type": "code",
   "execution_count": 29,
   "metadata": {},
   "outputs": [],
   "source": [
    "# all to all connections with probability\n",
    "\n",
    "prob = 0.25 # point prob\n",
    "prob = np.random.normal(loc=0.5, scale=0.1) # distribution of prob\n",
    "connector = sim.FixedProbabilityConnector(p_connect=prob)"
   ]
  },
  {
   "cell_type": "code",
   "execution_count": 30,
   "metadata": {},
   "outputs": [],
   "source": [
    "# distance based probability connections\n",
    "\n",
    "d_rule = \"exp(-d)\" # or d_expression = \"d<5\"\n",
    "connector = sim.DistanceDependentProbabilityConnector(d_expression=d_rule)"
   ]
  },
  {
   "cell_type": "code",
   "execution_count": 31,
   "metadata": {},
   "outputs": [],
   "source": [
    "# one to one connections\n",
    "\n",
    "connector = sim.OneToOneConnector()"
   ]
  },
  {
   "cell_type": "code",
   "execution_count": 32,
   "metadata": {},
   "outputs": [],
   "source": [
    "# fixed number of pre synptic neurons randomly taken link to all pre syn neurons\n",
    "\n",
    "connector = sim.FixedNumberPreConnector(n = 50, allow_self_connections=True)"
   ]
  },
  {
   "cell_type": "code",
   "execution_count": 33,
   "metadata": {},
   "outputs": [],
   "source": [
    "# fixed number of post synptic neurons randomly taken link to all post syn neurons\n",
    "\n",
    "connector = sim.FixedNumberPostConnector(n = 50, allow_self_connections=True)"
   ]
  },
  {
   "cell_type": "code",
   "execution_count": 34,
   "metadata": {},
   "outputs": [],
   "source": [
    "# small-world connections\n",
    "\n",
    "do_run = False\n",
    "if do_run:\n",
    "    connector = sim.SmallWorldConnector(\n",
    "                                    degree, # the region length where nodes will be connected locally\n",
    "                                    rewiring, # the probability of rewiring each edge\n",
    "                                    allow_self_connections=True,\n",
    "                                    safe=True,\n",
    "                                    verbose=False,\n",
    "                                    n_connections=None, # if specified, the number of efferent synaptic connections per neuron\n",
    "                                    )\n"
   ]
  },
  {
   "cell_type": "markdown",
   "metadata": {},
   "source": [
    "see example [small-world network notebook](eg_small-world-network.ipynb)\n"
   ]
  },
  {
   "cell_type": "code",
   "execution_count": 35,
   "metadata": {},
   "outputs": [],
   "source": [
    "# CSA Connection Set Algebra constructor ( Djurfeldt 2012 https://pubmed.ncbi.nlm.nih.gov/22437992/)\n",
    "\n",
    "do_run = False\n",
    "if do_run:\n",
    "    #cset = a connection set object\n",
    "    connector = CSAConnector(cset, safe=True, callback=None)\n"
   ]
  },
  {
   "cell_type": "code",
   "execution_count": 36,
   "metadata": {},
   "outputs": [],
   "source": [
    "# from file to connector, i.e., [i, j, weight, delay]\n",
    "\n",
    "do_run = False\n",
    "if do_run:\n",
    "    file = 'yourFile.txt'\n",
    "    connector = sim.FromFileConnector(\n",
    "                                    file,\n",
    "                                    distributed=False,\n",
    "                                    safe=True,\n",
    "                                    callback=None,\n",
    "                                    verbose=False,\n",
    "                                )"
   ]
  },
  {
   "cell_type": "code",
   "execution_count": 37,
   "metadata": {},
   "outputs": [],
   "source": [
    "# list based connections, i.e., [i, j, weight, delay]\n",
    "\n",
    "# one-to-one like list\n",
    "#            [i, j,  w,   d]\n",
    "givenList = [[0, 0, 0.08, 1],\n",
    "             [1, 1, 0.08, 1],\n",
    "             [2, 2, 0.08, 1],\n",
    "             [3, 3, 0.08, 1],\n",
    "             [4, 4, 0.08, 1]]\n",
    "             #...\n",
    "\n",
    "connector = sim.FromListConnector(conn_list=givenList)\n",
    "\n",
    "# powerful tool to draw your own connectivity"
   ]
  },
  {
   "cell_type": "markdown",
   "metadata": {},
   "source": [
    "## Example of a function to compute a list for the FromListConnector"
   ]
  },
  {
   "cell_type": "markdown",
   "metadata": {},
   "source": [
    "## e.g., list of Distance based Probability Connections with Distance based Delay (DPCDD)"
   ]
  },
  {
   "cell_type": "code",
   "execution_count": 38,
   "metadata": {},
   "outputs": [],
   "source": [
    "def compute_DPCDD(n_cells_i, n_cells_j, weights, d_thresh, p_thresh, width): \n",
    "    \n",
    "    v_c = 0.35 # mm/ms\n",
    "    d0 = 1 # ms\n",
    "    scale = 1\n",
    "    \n",
    "    connections = {}\n",
    "    probabilities = {}\n",
    "    distances = {}\n",
    "\n",
    "    connections = []\n",
    "    probabilities = []\n",
    "    distances = []\n",
    "    for pre in range(n_cells_i):\n",
    "        for post in range(n_cells_j):\n",
    "            d_ij = np.sqrt((pre - post)**2)\n",
    "            delay = d0 + d_ij / v_c # i.e., v = s/t -> t = s/v\n",
    "            if d_ij > d_thresh: \n",
    "                distances.append(d_ij)\n",
    "                p_ij = scale*np.exp(-0.5 * (d_ij**2/width**2))\n",
    "                probabilities.append(p_ij)\n",
    "\n",
    "                if p_ij > p_thresh:\n",
    "                    connections.append([pre, post, weights, delay])#, [d_ij, p_ij]])\n",
    "\n",
    "    return connections, distances, probabilities"
   ]
  },
  {
   "cell_type": "markdown",
   "metadata": {},
   "source": [
    "## operative example: center-surround connections "
   ]
  },
  {
   "cell_type": "code",
   "execution_count": null,
   "metadata": {},
   "outputs": [],
   "source": [
    "# -> see https://link.springer.com/referenceworkentry/10.1007%2F978-1-4614-6675-8_569)\n",
    "# -> see http://www.scholarpedia.org/article/Neural_inhibition"
   ]
  },
  {
   "cell_type": "code",
   "execution_count": 39,
   "metadata": {},
   "outputs": [
    {
     "data": {
      "text/plain": [
       "Text(0.5, 1.0, 'histogram of delays')"
      ]
     },
     "execution_count": 39,
     "metadata": {},
     "output_type": "execute_result"
    },
    {
     "data": {
      "image/png": "[encoded data removed]",
      "text/plain": [
       "<Figure size 792x360 with 3 Axes>"
      ]
     },
     "metadata": {
      "needs_background": "light"
     },
     "output_type": "display_data"
    }
   ],
   "source": [
    "# define parameters\n",
    "\n",
    "n_cell = {'excitatory': pops['exc'].size, 'inhibitory': pops['inh'].size}\n",
    "weights = {'excitatory': 0.008, 'inhibitory': 0.008}\n",
    "d_thresh = {'excitatory': 0, 'inhibitory': 2} \n",
    "p_thresh = {'excitatory': 0.1, 'inhibitory': 0.1}\n",
    "width = {'excitatory': 1, 'inhibitory': 3}\n",
    "\n",
    "connections = {}\n",
    "distances = {}\n",
    "probabilities = {}\n",
    "\n",
    "for synapse_type in ['excitatory', 'inhibitory']:\n",
    "    connections[synapse_type], distances[synapse_type], probabilities[synapse_type] = compute_DPCDD(\n",
    "                                                                                                    n_cell[synapse_type], \n",
    "                                                                                                    n_cell[synapse_type], \n",
    "                                                                                                    weights[synapse_type], \n",
    "                                                                                                    d_thresh[synapse_type], \n",
    "                                                                                                    p_thresh[synapse_type],\n",
    "                                                                                                    width[synapse_type])\n",
    "\n",
    "#########################################################################################################################\n",
    "# visual check\n",
    "fig, ax = plt.subplots(1,3, figsize=(11,5))\n",
    "fig.tight_layout(pad=3)\n",
    "axes_list = fig.axes\n",
    "\n",
    "axes_list[0].plot(np.asarray(connections['excitatory']).T[0], np.asarray(connections['excitatory']).T[1],'go', label='excitatory cells')\n",
    "axes_list[0].plot(np.asarray(connections['inhibitory']).T[0], np.asarray(connections['inhibitory']).T[1],'r+', label='inhibitory cells')\n",
    "axes_list[0].grid()\n",
    "axes_list[0].legend()\n",
    "axes_list[0].set_title('scatter plot of connections')\n",
    "axes_list[0].set_xlabel('i cells')\n",
    "axes_list[0].set_ylabel('j cells')\n",
    "axes_list[0].set_xlim(20,40)\n",
    "axes_list[0].set_ylim(20,40)\n",
    "\n",
    "axes_list[1].plot(distances['excitatory'],probabilities['excitatory'],'g+')\n",
    "axes_list[1].plot(distances['inhibitory'],probabilities['inhibitory'],'r+') \n",
    "axes_list[1].plot(np.arange(0, 50), 1*np.exp(-0.5 * (np.arange(0, 50)**2/width['excitatory']**2)), 'g:')\n",
    "axes_list[1].plot(np.arange(0, 50), 1*np.exp(-0.5 * (np.arange(0, 50)**2/width['inhibitory']**2)), 'r:')\n",
    "axes_list[1].grid()\n",
    "axes_list[1].set_xlim(0,15)\n",
    "axes_list[1].set_ylim(0,1)\n",
    "axes_list[1].axhline(p_thresh['excitatory'], color='k', label='p_threshold', )\n",
    "axes_list[1].set_title('probability as function of distance')\n",
    "axes_list[1].set_xlabel('distance')\n",
    "axes_list[1].set_ylabel('probability')\n",
    "axes_list[1].legend()\n",
    "\n",
    "p=axes_list[2].hist(np.asarray(connections['excitatory']).T[3], bins=10, color='green', label='excitatory cells')\n",
    "p=axes_list[2].hist(np.asarray(connections['inhibitory']).T[3], bins=10, color='r', label='inhibitory cells')\n",
    "axes_list[2].set_xlabel('delay [ms]')\n",
    "axes_list[2].legend()\n",
    "axes_list[2].set_title('histogram of delays')\n",
    "# Plots show connections with 2 cells local excitation and 4 cells surrounding inhibition, no autapses"
   ]
  },
  {
   "cell_type": "code",
   "execution_count": 40,
   "metadata": {},
   "outputs": [
    {
     "data": {
      "text/plain": [
       "[[0, 1, 0.008, 3.857142857142857],\n",
       " [0, 2, 0.008, 6.714285714285714],\n",
       " [1, 0, 0.008, 3.857142857142857],\n",
       " [1, 2, 0.008, 3.857142857142857],\n",
       " [1, 3, 0.008, 6.714285714285714],\n",
       " [2, 0, 0.008, 6.714285714285714],\n",
       " [2, 1, 0.008, 3.857142857142857],\n",
       " [2, 3, 0.008, 3.857142857142857],\n",
       " [2, 4, 0.008, 6.714285714285714],\n",
       " [3, 1, 0.008, 6.714285714285714]]"
      ]
     },
     "execution_count": 40,
     "metadata": {},
     "output_type": "execute_result"
    }
   ],
   "source": [
    "# e.g., i, j, weights, delays\n",
    "\n",
    "connections['excitatory'][0:10]"
   ]
  },
  {
   "cell_type": "code",
   "execution_count": 41,
   "metadata": {},
   "outputs": [
    {
     "data": {
      "text/plain": [
       "[[0, 3, 0.008, 9.571428571428571],\n",
       " [0, 4, 0.008, 12.428571428571429],\n",
       " [0, 5, 0.008, 15.285714285714286],\n",
       " [0, 6, 0.008, 18.142857142857142],\n",
       " [1, 4, 0.008, 9.571428571428571],\n",
       " [1, 5, 0.008, 12.428571428571429],\n",
       " [1, 6, 0.008, 15.285714285714286],\n",
       " [1, 7, 0.008, 18.142857142857142],\n",
       " [2, 5, 0.008, 9.571428571428571],\n",
       " [2, 6, 0.008, 12.428571428571429]]"
      ]
     },
     "execution_count": 41,
     "metadata": {},
     "output_type": "execute_result"
    }
   ],
   "source": [
    "# e.g., i, j, weights, delays\n",
    "\n",
    "connections['inhibitory'][0:10]"
   ]
  },
  {
   "cell_type": "code",
   "execution_count": 42,
   "metadata": {},
   "outputs": [
    {
     "data": {
      "image/png": "[encoded data removed]",
      "text/plain": [
       "<Figure size 432x288 with 1 Axes>"
      ]
     },
     "metadata": {
      "needs_background": "light"
     },
     "output_type": "display_data"
    }
   ],
   "source": [
    "# check the linearity of the delay\n",
    "do_run = True\n",
    "\n",
    "if do_run:\n",
    "\n",
    "    %matplotlib inline\n",
    "    d0=1\n",
    "    v_c=0.3\n",
    "\n",
    "    d_ij=[]\n",
    "    delay_ij=[]\n",
    "    for pre in range(100):\n",
    "        for post in range(100):\n",
    "            d_ij_ = np.sqrt((pre - post)**2)\n",
    "            delay_ = d0 + d_ij_ / v_c # v = s/t -> t = s/v\n",
    "            d_ij += [d_ij_]\n",
    "            delay_ij += [delay_]\n",
    "\n",
    "    plt.plot(d_ij, delay_ij)\n",
    "    plt.xlabel('distance [au]')\n",
    "    plt.ylabel('delay [ms]')"
   ]
  },
  {
   "cell_type": "markdown",
   "metadata": {},
   "source": [
    "# step6: designing projections"
   ]
  },
  {
   "cell_type": "code",
   "execution_count": 43,
   "metadata": {},
   "outputs": [
    {
     "data": {
      "text/plain": [
       "{'e2e': projection from pre exc to post exc with connector FixedProbabilityConnector(0.02),\n",
       " 'e2i': projection from pre exc to post inh with connector FixedProbabilityConnector(0.02),\n",
       " 'i2e': projection from pre inh to post exc with connector FixedProbabilityConnector(0.02),\n",
       " 'i2i': projection from pre inh to post inh with connector FixedProbabilityConnector(0.02)}"
      ]
     },
     "execution_count": 43,
     "metadata": {},
     "output_type": "execute_result"
    }
   ],
   "source": [
    "# making general connections \n",
    "\n",
    "from pyNN.random import NumpyRNG, RandomDistribution\n",
    "\n",
    "pconn = 0.02\n",
    "rngseed = 98766987\n",
    "rng = NumpyRNG(seed=rngseed, parallel_safe=True)\n",
    "\n",
    "exc_cells = pops['exc']\n",
    "inh_cells = pops['inh']\n",
    "w_exc = 0.04 # uS\n",
    "w_inh = 0.51 # uS\n",
    "delay = 2 # ms\n",
    "\n",
    "exc_conn = sim.FixedProbabilityConnector(pconn, rng=rng)\n",
    "inh_conn = sim.FixedProbabilityConnector(pconn, rng=rng)\n",
    "\n",
    "connections = {\n",
    "    \n",
    "    'e2e': sim.Projection(\n",
    "        exc_cells, \n",
    "        exc_cells, \n",
    "        exc_conn, \n",
    "        #space=space,\n",
    "        receptor_type='excitatory',\n",
    "        synapse_type=sim.StaticSynapse(weight=w_exc, delay=delay)),\n",
    "    \n",
    "    'e2i': sim.Projection(\n",
    "        exc_cells, \n",
    "        inh_cells,\n",
    "        exc_conn,\n",
    "        #space=space,\n",
    "        receptor_type='excitatory',\n",
    "        synapse_type=sim.StaticSynapse(weight=w_exc, delay=delay)),\n",
    "    \n",
    "    'i2e': sim.Projection(\n",
    "        inh_cells,\n",
    "        exc_cells, \n",
    "        inh_conn, \n",
    "        #space=space,\n",
    "        receptor_type='inhibitory',\n",
    "        synapse_type=sim.StaticSynapse(weight=w_inh, delay=delay)),\n",
    "    \n",
    "    'i2i': sim.Projection(\n",
    "        inh_cells, \n",
    "        inh_cells, \n",
    "        inh_conn,\n",
    "        #space=space,\n",
    "        receptor_type='inhibitory',\n",
    "        synapse_type=sim.StaticSynapse(weight=w_inh, delay=delay))\n",
    "\n",
    "        }\n",
    "\n",
    "connections"
   ]
  },
  {
   "cell_type": "code",
   "execution_count": 44,
   "metadata": {},
   "outputs": [],
   "source": [
    "# note for the the space arg with 2 or 3 dimensions\n",
    "\n",
    "\"\"\"\n",
    "pops[popName] = sim.Population(n_cells[popName], \n",
    "                               neuron_Model[popName],\n",
    "                               neuron_ModelPars[popName],\n",
    "                               structure = space.Line(dx=1.0, x0=0.0, y=0.0, z=0.0), \n",
    "                               initial_values=None, # e.g, initial_values={'v': sim.RandomDistribution('uniform', (-70.0, -60.0))},\n",
    "                               label = popName)\n",
    "\n",
    "\"\"\"\n",
    "\n",
    "\n",
    "s = {}\n",
    "s['1D'] = space.Space(axes = 'x')\n",
    "s['2D'] = space.Space(axes = 'xy')\n",
    "s['3D'] = space.Space(axes = 'xyz')\n",
    "s['Sphere'] = space.Space(axes = 'xyz')\n",
    "s['Cuboid'] = space.Space(axes = 'xyz')\n"
   ]
  },
  {
   "cell_type": "markdown",
   "metadata": {},
   "source": [
    "# step7: setting the thalamic stimulus"
   ]
  },
  {
   "cell_type": "code",
   "execution_count": 45,
   "metadata": {},
   "outputs": [
    {
     "data": {
      "text/plain": [
       "(0.0, 1000.0)"
      ]
     },
     "execution_count": 45,
     "metadata": {},
     "output_type": "execute_result"
    },
    {
     "data": {
      "image/png": "[encoded data removed]",
      "text/plain": [
       "<Figure size 432x288 with 1 Axes>"
      ]
     },
     "metadata": {
      "needs_background": "light"
     },
     "output_type": "display_data"
    }
   ],
   "source": [
    "# manual function \n",
    "#\n",
    "# define the list of spike sources, e.g, with a gaussian input \n",
    "\n",
    "n_cells['thalamus' ] = n_cells['exc']\n",
    "spike_times = [[]]*n_cells['thalamus' ] #list of spike lists, where one spike list is related to one spike source\n",
    "\n",
    "# randomly select the id source\n",
    "random_sources_idx = [np.random.randint(n_cells['thalamus' ]*0.45, n_cells['thalamus' ]*0.65) for i in range(n_cells['thalamus' ])]\n",
    "\n",
    "# randomly assign for each id source a sequence of spike times, i.e., when the cell spikes\n",
    "for idx, sources in enumerate(random_sources_idx):\n",
    "    spike_times[sources] = np.sort([np.random.normal(loc=500, scale=100) for n in range(5)])\n",
    "\n",
    "spike_times\n",
    "%matplotlib inline\n",
    "a = plt.eventplot(spike_times)\n",
    "plt.xlabel('[ms]')\n",
    "plt.ylabel('Thalamic cells')\n",
    "plt.title('Raster plot of input spike sources')\n",
    "plt.xlim(0, 1000)\n",
    "\n",
    "#spike_times[400:600]\n",
    "# add plot spikes/sec"
   ]
  },
  {
   "cell_type": "code",
   "execution_count": 46,
   "metadata": {},
   "outputs": [],
   "source": [
    "# define the spike sources populations and projections\n",
    "\n",
    "do_run = False\n",
    "\n",
    "if do_run:\n",
    "    neuron_Model['thalamus' ] = sim.SpikeSourceArray(spike_times=spike_times)\n",
    "\n",
    "    pops['thalamus' ] = sim.Population(n_cells['thalamus' ], \n",
    "                                   neuron_Model['thalamus' ],\n",
    "                                   label = 'Thalamus' )\n",
    "                                  # add spatial constraint\n",
    "\n",
    "\n",
    "    connections['t2e'] = sim.Projection(pops['thalamus'], pops['exc'],\n",
    "                                               connector = sim.OneToOneConnector(),\n",
    "                                               synapse_type = sim.StaticSynapse(weight=0.08, delay=1),\n",
    "                                               receptor_type = 'excitatory',\n",
    "                                                #space=<pyNN.space.Space object at 0x7ff8f25a2110>,\n",
    "                                               label = 'thalamus-exc connections'\n",
    "                                                )\n",
    "    connections['t2i'] = sim.Projection(pops['thalamus'], pops['inh'],\n",
    "                                           connector = sim.OneToOneConnector(),\n",
    "                                           synapse_type = sim.StaticSynapse(weight=0.08, delay=1),\n",
    "                                           receptor_type = 'excitatory',\n",
    "                                            #space=<pyNN.space.Space object at 0x7ff8f25a2110>,\n",
    "                                           label = 'thalamus-inh connections'\n",
    "                                            )\n"
   ]
  },
  {
   "cell_type": "code",
   "execution_count": 47,
   "metadata": {},
   "outputs": [],
   "source": [
    "# otherwise define a spike sources from poisson process\n",
    "\n",
    "do_run = False\n",
    "\n",
    "if do_run:\n",
    "    stim_dur = 50.    # (ms) duration of random stimulation\n",
    "    rate = 100.       # (Hz) frequency of the random stimulation\n",
    "    \n",
    "    ext_stim = sim.Population(\n",
    "        20, \n",
    "        sim.SpikeSourcePoisson(rate=rate, duration=stim_dur),\n",
    "        label=\"expoisson\")\n",
    "    \n",
    "    rconn = 0.01\n",
    "    ext_conn = sim.FixedProbabilityConnector(rconn)\n",
    "    ext_stim.record(\"spikes\")\n",
    "\n",
    "    connections['ext2e'] = sim.Projection(\n",
    "        ext_stim, \n",
    "        exc_cells, \n",
    "        ext_conn,\n",
    "        receptor_type='excitatory',\n",
    "        synapse_type=sim.StaticSynapse(weight=0.1))\n",
    "    \n",
    "    connections['ext2i'] = sim.Projection(\n",
    "        ext_stim, \n",
    "        inh_cells,\n",
    "        ext_conn,\n",
    "        receptor_type='excitatory',\n",
    "        synapse_type=sim.StaticSynapse(weight=0.1))\n",
    "    \n",
    "#connections"
   ]
  },
  {
   "cell_type": "markdown",
   "metadata": {},
   "source": [
    "# step8: run simulation"
   ]
  },
  {
   "cell_type": "code",
   "execution_count": 48,
   "metadata": {},
   "outputs": [],
   "source": [
    "do_run = False\n",
    "if do_run:\n",
    "    simtime = 1000 #ms\n",
    "    sim.run(simtime) # time_bins=200 [ms]\n",
    "\n",
    "# wait some minuts and it prints several info about HW and SW..."
   ]
  },
  {
   "cell_type": "markdown",
   "metadata": {},
   "source": [
    "# step9: save results in a folder"
   ]
  },
  {
   "cell_type": "code",
   "execution_count": 49,
   "metadata": {},
   "outputs": [
    {
     "name": "stderr",
     "output_type": "stream",
     "text": [
      "2023-11-29 09:32:57 WARNING: The simulation has not yet run, therefore spikes cannot be retrieved, hence the list will be empty\n",
      "2023-11-29 09:32:57 WARNING: The simulation has not yet run, therefore v cannot be retrieved, hence the list will be empty\n",
      "2023-11-29 09:32:57 WARNING: Getting data on a whole population when selective recording is active will result in only the requested neurons being returned in numerical order and without repeats.\n",
      "2023-11-29 09:32:57 WARNING: The simulation has not yet run, therefore gsyn_exc cannot be retrieved, hence the list will be empty\n",
      "2023-11-29 09:32:57 WARNING: The simulation has not yet run, therefore gsyn_inh cannot be retrieved, hence the list will be empty\n",
      "2023-11-29 09:32:57 WARNING: The simulation has not yet run, therefore spikes cannot be retrieved, hence the list will be empty\n",
      "2023-11-29 09:32:57 WARNING: The simulation has not yet run, therefore v cannot be retrieved, hence the list will be empty\n",
      "2023-11-29 09:32:57 WARNING: The simulation has not yet run, therefore gsyn_exc cannot be retrieved, hence the list will be empty\n",
      "2023-11-29 09:32:57 WARNING: The simulation has not yet run, therefore gsyn_inh cannot be retrieved, hence the list will be empty\n",
      "2023-11-29 09:32:57 WARNING: The simulation has not yet run, therefore spikes cannot be retrieved, hence the list will be empty\n",
      "2023-11-29 09:32:57 WARNING: The simulation has not yet run, therefore v cannot be retrieved, hence the list will be empty\n",
      "2023-11-29 09:32:57 WARNING: The simulation has not yet run, therefore gsyn_exc cannot be retrieved, hence the list will be empty\n",
      "2023-11-29 09:32:57 WARNING: The simulation has not yet run, therefore gsyn_inh cannot be retrieved, hence the list will be empty\n",
      "2023-11-29 09:32:57 WARNING: The simulation has not yet run, therefore spikes cannot be retrieved, hence the list will be empty\n",
      "2023-11-29 09:32:57 WARNING: The simulation has not yet run, therefore v cannot be retrieved, hence the list will be empty\n",
      "2023-11-29 09:32:57 WARNING: The simulation has not yet run, therefore gsyn_exc cannot be retrieved, hence the list will be empty\n",
      "2023-11-29 09:32:57 WARNING: The simulation has not yet run, therefore gsyn_inh cannot be retrieved, hence the list will be empty\n",
      "2023-11-29 09:32:57 WARNING: The simulation has not yet run, therefore spikes cannot be retrieved, hence the list will be empty\n",
      "2023-11-29 09:32:57 WARNING: The simulation has not yet run, therefore v cannot be retrieved, hence the list will be empty\n",
      "2023-11-29 09:32:57 WARNING: The simulation has not yet run, therefore gsyn_exc cannot be retrieved, hence the list will be empty\n",
      "2023-11-29 09:32:57 WARNING: The simulation has not yet run, therefore gsyn_inh cannot be retrieved, hence the list will be empty\n",
      "2023-11-29 09:32:57 WARNING: The simulation has not yet run, therefore spikes cannot be retrieved, hence the list will be empty\n",
      "2023-11-29 09:32:57 WARNING: The simulation has not yet run, therefore v cannot be retrieved, hence the list will be empty\n",
      "2023-11-29 09:32:57 WARNING: The simulation has not yet run, therefore gsyn_exc cannot be retrieved, hence the list will be empty\n",
      "2023-11-29 09:32:57 WARNING: The simulation has not yet run, therefore gsyn_inh cannot be retrieved, hence the list will be empty\n",
      "2023-11-29 09:32:57 WARNING: The simulation has not yet run, therefore spikes cannot be retrieved, hence the list will be empty\n",
      "2023-11-29 09:32:58 WARNING: The simulation has not yet run, therefore v cannot be retrieved, hence the list will be empty\n",
      "2023-11-29 09:32:58 WARNING: The simulation has not yet run, therefore gsyn_exc cannot be retrieved, hence the list will be empty\n",
      "2023-11-29 09:32:58 WARNING: The simulation has not yet run, therefore gsyn_inh cannot be retrieved, hence the list will be empty\n",
      "2023-11-29 09:32:58 WARNING: The simulation has not yet run, therefore spikes cannot be retrieved, hence the list will be empty\n",
      "2023-11-29 09:32:58 WARNING: The simulation has not yet run, therefore v cannot be retrieved, hence the list will be empty\n",
      "2023-11-29 09:32:58 WARNING: The simulation has not yet run, therefore gsyn_exc cannot be retrieved, hence the list will be empty\n",
      "2023-11-29 09:32:58 WARNING: The simulation has not yet run, therefore gsyn_inh cannot be retrieved, hence the list will be empty\n",
      "2023-11-29 09:32:58 WARNING: The simulation has not yet run, therefore spikes cannot be retrieved, hence the list will be empty\n",
      "2023-11-29 09:32:58 WARNING: The simulation has not yet run, therefore v cannot be retrieved, hence the list will be empty\n",
      "2023-11-29 09:32:58 WARNING: The simulation has not yet run, therefore gsyn_exc cannot be retrieved, hence the list will be empty\n",
      "2023-11-29 09:32:58 WARNING: The simulation has not yet run, therefore gsyn_inh cannot be retrieved, hence the list will be empty\n",
      "2023-11-29 09:32:58 WARNING: The simulation has not yet run, therefore spikes cannot be retrieved, hence the list will be empty\n",
      "2023-11-29 09:32:58 WARNING: The simulation has not yet run, therefore v cannot be retrieved, hence the list will be empty\n",
      "2023-11-29 09:32:58 WARNING: The simulation has not yet run, therefore gsyn_exc cannot be retrieved, hence the list will be empty\n",
      "2023-11-29 09:32:58 WARNING: The simulation has not yet run, therefore gsyn_inh cannot be retrieved, hence the list will be empty\n",
      "2023-11-29 09:32:58 WARNING: The simulation has not yet run, therefore spikes cannot be retrieved, hence the list will be empty\n",
      "2023-11-29 09:32:58 WARNING: The simulation has not yet run, therefore v cannot be retrieved, hence the list will be empty\n",
      "2023-11-29 09:32:58 WARNING: The simulation has not yet run, therefore gsyn_exc cannot be retrieved, hence the list will be empty\n",
      "2023-11-29 09:32:58 WARNING: The simulation has not yet run, therefore gsyn_inh cannot be retrieved, hence the list will be empty\n",
      "2023-11-29 09:32:58 WARNING: The simulation has not yet run, therefore spikes cannot be retrieved, hence the list will be empty\n",
      "2023-11-29 09:32:58 WARNING: The simulation has not yet run, therefore v cannot be retrieved, hence the list will be empty\n",
      "2023-11-29 09:32:58 WARNING: The simulation has not yet run, therefore gsyn_exc cannot be retrieved, hence the list will be empty\n",
      "2023-11-29 09:32:58 WARNING: The simulation has not yet run, therefore gsyn_inh cannot be retrieved, hence the list will be empty\n",
      "2023-11-29 09:32:58 WARNING: The simulation has not yet run, therefore spikes cannot be retrieved, hence the list will be empty\n",
      "2023-11-29 09:32:58 WARNING: The simulation has not yet run, therefore v cannot be retrieved, hence the list will be empty\n",
      "2023-11-29 09:32:58 WARNING: The simulation has not yet run, therefore gsyn_exc cannot be retrieved, hence the list will be empty\n",
      "2023-11-29 09:32:58 WARNING: The simulation has not yet run, therefore gsyn_inh cannot be retrieved, hence the list will be empty\n",
      "2023-11-29 09:32:58 WARNING: The simulation has not yet run, therefore spikes cannot be retrieved, hence the list will be empty\n",
      "2023-11-29 09:32:58 WARNING: The simulation has not yet run, therefore v cannot be retrieved, hence the list will be empty\n",
      "2023-11-29 09:32:58 WARNING: The simulation has not yet run, therefore gsyn_exc cannot be retrieved, hence the list will be empty\n",
      "2023-11-29 09:32:58 WARNING: The simulation has not yet run, therefore gsyn_inh cannot be retrieved, hence the list will be empty\n",
      "2023-11-29 09:32:58 WARNING: The simulation has not yet run, therefore spikes cannot be retrieved, hence the list will be empty\n",
      "2023-11-29 09:32:58 WARNING: The simulation has not yet run, therefore v cannot be retrieved, hence the list will be empty\n",
      "2023-11-29 09:32:58 WARNING: The simulation has not yet run, therefore gsyn_exc cannot be retrieved, hence the list will be empty\n",
      "2023-11-29 09:32:58 WARNING: The simulation has not yet run, therefore gsyn_inh cannot be retrieved, hence the list will be empty\n",
      "2023-11-29 09:32:58 WARNING: The simulation has not yet run, therefore spikes cannot be retrieved, hence the list will be empty\n",
      "2023-11-29 09:32:58 WARNING: The simulation has not yet run, therefore v cannot be retrieved, hence the list will be empty\n",
      "2023-11-29 09:32:58 WARNING: The simulation has not yet run, therefore gsyn_exc cannot be retrieved, hence the list will be empty\n",
      "2023-11-29 09:32:58 WARNING: The simulation has not yet run, therefore gsyn_inh cannot be retrieved, hence the list will be empty\n"
     ]
    }
   ],
   "source": [
    "stateVars = {}\n",
    "for pop in pops.keys():\n",
    "    for recording in ['v', 'gsyn_inh', 'gsyn_exc', 'spikes']:\n",
    "        pops[pop].write_data(f'{saveName}-{recording}.pkl')\n",
    "        stateVars[pop]=pops[pop].get_data()\n",
    "        "
   ]
  },
  {
   "cell_type": "markdown",
   "metadata": {},
   "source": [
    "# step10: recover results"
   ]
  },
  {
   "cell_type": "code",
   "execution_count": 50,
   "metadata": {},
   "outputs": [
    {
     "name": "stdout",
     "output_type": "stream",
     "text": [
      "exc\n",
      "v\n",
      "gsyn_exc\n",
      "gsyn_inh\n",
      "inh\n",
      "v\n",
      "gsyn_exc\n",
      "gsyn_inh\n"
     ]
    },
    {
     "data": {
      "text/plain": [
       "dict_keys([('exc', 'v'), ('exc', 'gsyn_exc'), ('exc', 'gsyn_inh'), ('exc', 'spikes'), ('inh', 'v'), ('inh', 'gsyn_exc'), ('inh', 'gsyn_inh'), ('inh', 'spikes')])"
      ]
     },
     "execution_count": 50,
     "metadata": {},
     "output_type": "execute_result"
    }
   ],
   "source": [
    "stateVars.keys()\n",
    "results = pu.recover_results(stateVars)\n",
    "results.keys()"
   ]
  },
  {
   "cell_type": "markdown",
   "metadata": {},
   "source": [
    "# step11: postprocessing (looking the results)"
   ]
  },
  {
   "cell_type": "code",
   "execution_count": 51,
   "metadata": {},
   "outputs": [],
   "source": [
    "# eventually import pkl files or use matplolib tools (see examples to plot voltage, spikes, conductances, etc)\n",
    "\n",
    "do_run = False\n",
    "if do_run:\n",
    "    import pickle\n",
    "    \n",
    "    # e.g., \n",
    "    with open('Exc_v.pkl', 'rb') as f:\n",
    "            data = pickle.load(f)\n"
   ]
  },
  {
   "cell_type": "markdown",
   "metadata": {},
   "source": [
    "# step12: close simulation\n"
   ]
  },
  {
   "cell_type": "code",
   "execution_count": 52,
   "metadata": {},
   "outputs": [],
   "source": [
    "do_run = False\n",
    "if do_run:\n",
    "    sim.end()"
   ]
  },
  {
   "cell_type": "markdown",
   "metadata": {},
   "source": [
    "## learn-by-examples \n",
    "\n",
    "- [entry network](eg_entry-network.ipynb)\n",
    "- [single cell](eg_single-cell.ipynb)\n",
    "- [single clique](eg_single-clique.ipynb)\n",
    "- [decaying network](eg_decaying-network.ipynb)\n",
    "- [diverging network](eg_diverging-network.ipynb)\n",
    "- [persistent network](eg_persistent-network.ipynb)\n",
    "- [small-world network](eg_small-world-network.ipynb)\n",
    "- [testing cell models network](eg_testing-cell-models-network.ipynb)\n",
    "- [testing STDP model network](eg_testing-STDP-model-network.ipynb)\n",
    "- [VA_balance network](paper_balance-network.ipynb)\n",
    "\n"
   ]
  },
  {
   "cell_type": "markdown",
   "metadata": {},
   "source": [
    "# learn-with-exercices \n",
    "- [ex_network_A](ex_network_A.ipynb), i.e., a 1D network of 100 cells that receives a sequence of random thalamic inputs\n",
    "- [ex_network_B](ex_network_B.ipynb), i.e., a 2D network of 900 excitatory cells that receives a sequence of 2D geometric thalamic inputs\n"
   ]
  },
  {
   "cell_type": "markdown",
   "metadata": {},
   "source": [
    "# learn-from-scratch\n",
    "\n",
    "- create equivalent or extended PyNN functions by using numpy, e.g., specially for peculiar type of connectivities (use [FromListConnector](http://neuralensemble.org/docs/PyNN/reference/connectors.html#pyNN.connectors.FromListConnector))\n",
    "- explore boundary conditions in 1D by comparing open and close ring networks (define properly the list of connections)\n",
    "- compare two populations of different cell models and observe their difference on reacting to a stimulus\n",
    "- create a network to make a deep signal processing with statistics, data analysis, and exploration of the frequency domain (FFT, HHT)\n",
    "- design a set of stimuli with different onset timing and shape and test them on a simple network\n",
    "- take one [example](http://neuralensemble.org/docs/PyNN/examples.html) from the PyNN website made for NEST and adapt to run on SpiNNaker\n",
    "- take one example from the learn-by-examples section and extend it in 2D or 3D  \n",
    "- use the notebook called [eg_blank_network](eg_blank-network.ipynb) and start your personal simulations!\n"
   ]
  },
  {
   "cell_type": "code",
   "execution_count": null,
   "metadata": {},
   "outputs": [],
   "source": []
  }
 ],
 "metadata": {
  "kernelspec": {
   "display_name": "sPyNNaker",
   "language": "python",
   "name": "spynnaker"
  },
  "language_info": {
   "codemirror_mode": {
    "name": "ipython",
    "version": 3
   },
   "file_extension": ".py",
   "mimetype": "text/x-python",
   "name": "python",
   "nbconvert_exporter": "python",
   "pygments_lexer": "ipython3",
   "version": "3.8.5"
  }
 },
 "nbformat": 4,
 "nbformat_minor": 4
}
