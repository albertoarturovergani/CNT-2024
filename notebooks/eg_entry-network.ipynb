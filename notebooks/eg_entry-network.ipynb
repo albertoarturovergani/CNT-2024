{
 "cells": [
  {
   "cell_type": "markdown",
   "metadata": {},
   "source": [
    "# entry network\n",
    "\n",
    "- a network of 20 cells receiving 5 random thalamic inputs"
   ]
  },
  {
   "cell_type": "code",
   "execution_count": 1,
   "metadata": {},
   "outputs": [],
   "source": [
    "# set fileName\n",
    "\n",
    "fileName = \"eg_entry-network\""
   ]
  },
  {
   "cell_type": "code",
   "execution_count": 2,
   "metadata": {},
   "outputs": [
    {
     "name": "stdout",
     "output_type": "stream",
     "text": [
      "Detected PyNN version 0.9.4 and Neo version 0.6.1\n"
     ]
    }
   ],
   "source": [
    "# set libs\n",
    "try:\n",
    "    import pyNN.spiNNaker as sim\n",
    "\n",
    "except ModuleNotFoundError:\n",
    "    import pyNN.brian2 as sim\n",
    "    \n",
    "from pyNN import space \n",
    "import numpy as np\n",
    "import matplotlib.pyplot as plt\n",
    "import time"
   ]
  },
  {
   "cell_type": "code",
   "execution_count": 3,
   "metadata": {},
   "outputs": [
    {
     "name": "stderr",
     "output_type": "stream",
     "text": [
      "2022-10-06 09:53:24 INFO: Read cfg files: /home/spinnaker/sPyNNaker/lib/python3.6/site-packages/spinn_front_end_common/interface/spinnaker.cfg, /home/spinnaker/sPyNNaker/lib/python3.6/site-packages/spynnaker/pyNN/spynnaker.cfg, /home/spinnaker/.spynnaker.cfg\n",
      "2022-10-06 09:53:24 INFO: Will search these locations for binaries: /home/spinnaker/sPyNNaker/lib/python3.6/site-packages/spinn_front_end_common/common_model_binaries : /home/spinnaker/sPyNNaker/lib/python3.6/site-packages/spynnaker/pyNN/model_binaries\n",
      "2022-10-06 09:53:24 WARNING: /home/spinnaker/CNT-2022/SpiNNaker/reports has 23 old reports that have not been closed\n",
      "2022-10-06 09:53:24 WARNING: /home/spinnaker/CNT-2022/SpiNNaker/application_generated_data_files has 24 old reports that have not been closed\n",
      "2022-10-06 09:53:24 INFO: Setting time scale factor to 1.\n",
      "2022-10-06 09:53:24 INFO: Setting machine time step to 1000 micro-seconds.\n",
      "2022-10-06 09:53:24 WARNING: Extra params {'min_dealy': 1} have been applied to the setup command which we do not consider\n"
     ]
    },
    {
     "name": "stdout",
     "output_type": "stream",
     "text": [
      "['/home/spinnaker/sPyNNaker/lib/python3.6/site-packages/spinn_front_end_common/interface/spinnaker.cfg', '/home/spinnaker/sPyNNaker/lib/python3.6/site-packages/spynnaker/pyNN/spynnaker.cfg', '/home/spinnaker/.spynnaker.cfg']\n"
     ]
    },
    {
     "data": {
      "text/plain": [
       "0"
      ]
     },
     "execution_count": 3,
     "metadata": {},
     "output_type": "execute_result"
    }
   ],
   "source": [
    "# simulation setting\n",
    "\n",
    "dt         = 1 # ms\n",
    "min_delay = 1 # ms\n",
    "max_delay  = 1.0 # ms\n",
    "simtime    = 1000.0 # ms\n",
    "\n",
    "sim.setup(timestep = dt, \n",
    "          min_dealy = min_delay,\n",
    "          max_delay = max_delay)"
   ]
  },
  {
   "cell_type": "code",
   "execution_count": 4,
   "metadata": {},
   "outputs": [],
   "source": [
    "# network parameters\n",
    "\n",
    "n_pop = 20     # Number of cells\n",
    "weight = 0.05  # synaptic weight (µS)\n",
    "\n",
    "cell_params = {\n",
    "    'tau_m'      : 20.0,   # (ms)\n",
    "    'tau_syn_E'  : 2.0,    # (ms)\n",
    "    'tau_syn_I'  : 4.0,    # (ms)\n",
    "    'e_rev_E'    : 0.0,    # (mV)\n",
    "    'e_rev_I'    : -70.0,  # (mV)\n",
    "    'tau_refrac' : 2.0,    # (ms)\n",
    "    'v_rest'     : -60.0,  # (mV)\n",
    "    'v_reset'    : -70.0,  # (mV)\n",
    "    'v_thresh'   : -50.0,  # (mV)\n",
    "    'cm'         : 0.5}    # (nF)\n",
    "\n",
    "# see parameters meaning in http://neuralensemble.org/docs/PyNN/standardmodels.html"
   ]
  },
  {
   "cell_type": "code",
   "execution_count": 5,
   "metadata": {},
   "outputs": [],
   "source": [
    "# making the network\n",
    "pops = {}\n",
    "pops['cx'] = sim.Population(n_pop, # number of cells\n",
    "                       sim.IF_cond_exp, # cell model\n",
    "                       cell_params, # cell parameters\n",
    "                       label=\"cells\")\n",
    "\n",
    "# record state variables\n",
    "\n",
    "pops['cx'].record(['spikes'])\n",
    "pops['cx'].record(['v', 'gsyn_exc', 'gsyn_inh'])"
   ]
  },
  {
   "cell_type": "code",
   "execution_count": 6,
   "metadata": {},
   "outputs": [
    {
     "data": {
      "application/vnd.jupyter.widget-view+json": {
       "model_id": "dd5f6a419d39411badae4a9d0a0cbf81",
       "version_major": 2,
       "version_minor": 0
      },
      "text/plain": [
       "Canvas(toolbar=Toolbar(toolitems=[('Home', 'Reset original view', 'home', 'home'), ('Back', 'Back to previous …"
      ]
     },
     "metadata": {},
     "output_type": "display_data"
    },
    {
     "name": "stdout",
     "output_type": "stream",
     "text": [
      "selected random sources [13, 6, 7, 19, 15]\n"
     ]
    }
   ],
   "source": [
    "# designing the thalamic input\n",
    "\n",
    "spike_times = [[]]*n_pop #list of spike lists, where one spike list is related to one spike source\n",
    "random_sources_idx = [np.random.randint(0, n_pop) for i in range(5)]\n",
    "\n",
    "for idx, sources in enumerate(random_sources_idx):\n",
    "    #spike_times[sources] = [np.random.normal(loc=10, scale=0.1) for n in range(10)]\n",
    "    spike_times[sources] = np.sort(np.arange(200, 800, 50).tolist())\n",
    "\n",
    "    \n",
    "pops['thalamus'] = sim.Population(n_pop, sim.SpikeSourceArray(spike_times=spike_times))\n",
    "pops['thalamus'].record('spikes')\n",
    "\n",
    "input_conns = sim.Projection(pops['thalamus'], # from \n",
    "                             pops['cx'], # to\n",
    "                             connector = sim.FixedProbabilityConnector(0.5), \n",
    "                             synapse_type = sim.StaticSynapse(weight=weight, delay=min_delay),\n",
    "                             receptor_type = 'excitatory')\n",
    "\n",
    "fig, axes = plt.subplots(1,1)\n",
    "axes_list = fig.axes\n",
    "axes_list[0].eventplot(spike_times)\n",
    "axes_list[0].set_xlabel('[ms]')\n",
    "axes_list[0].set_ylabel('thalamic spike sources')\n",
    "axes_list[0].set_title('rasterplot')\n",
    "axes_list[0].set_xlim(0, simtime)\n",
    "print('selected random sources', random_sources_idx)\n"
   ]
  },
  {
   "cell_type": "code",
   "execution_count": 7,
   "metadata": {},
   "outputs": [
    {
     "name": "stderr",
     "output_type": "stream",
     "text": [
      "2022-10-06 09:53:41 INFO: Simulating for 1000 1.0ms timesteps using a hardware timestep of 1000us\n",
      "2022-10-06 09:53:41 INFO: Starting execution process\n",
      "2022-10-06 09:53:45 INFO: Time 0:00:03.264400 taken by SpallocMaxMachineGenerator\n",
      "Pre allocating resources for Extra Monitor support vertices\n",
      "|0%                          50%                         100%|\n",
      " ============================================================\n",
      "2022-10-06 09:53:54 INFO: Time 0:00:09.602189 taken by PreAllocateResourcesForExtraMonitorSupport\n",
      "Partitioning graph vertices\n",
      "|0%                          50%                         100%|\n",
      " ============================================================\n",
      "Partitioning graph edges\n",
      "|0%                          50%                         100%|\n",
      " ============================================================\n",
      "2022-10-06 09:53:59 INFO: Time 0:00:05.153454 taken by PartitionAndPlacePartitioner\n",
      "Created spalloc job 6767864\n",
      "2022-10-06 09:53:59 INFO: Created spalloc job 6767864\n",
      "Waiting for board power commands to complete.\n",
      "2022-10-06 09:53:59 INFO: Waiting for board power commands to complete.\n",
      "2022-10-06 09:54:04 INFO: Time 0:00:05.048217 taken by SpallocAllocator\n",
      "2022-10-06 09:54:04 INFO: Creating transceiver for 10.11.234.121\n",
      "2022-10-06 09:54:04 INFO: Working out if machine is booted\n",
      "2022-10-06 09:54:08 INFO: Attempting to boot machine\n",
      "2022-10-06 09:54:14 INFO: Found board with version [Version: SC&MP 3.2.5 at SpiNNaker:0:0:0 (built Thu Aug  1 08:15:06 2019)]\n",
      "2022-10-06 09:54:14 INFO: Machine communication successful\n",
      "2022-10-06 09:54:14 WARNING: Link 311 points to Chip (4, 2) but that is not included \n",
      "2022-10-06 09:54:14 WARNING: Link 412 points to Chip (4, 2) but that is not included \n",
      "2022-10-06 09:54:14 WARNING: Link 435 points to Chip (4, 2) but that is not included \n",
      "2022-10-06 09:54:14 WARNING: Link 523 points to Chip (4, 2) but that is not included \n",
      "2022-10-06 09:54:14 WARNING: Link 534 points to Chip (4, 2) but that is not included \n",
      "2022-10-06 09:54:14 INFO: Detected a machine on IP address 10.11.234.121 which has 803 cores and 106.0 links\n",
      "2022-10-06 09:54:14 INFO: Time 0:00:09.639704 taken by MachineGenerator\n",
      "Generating partitioner report\n",
      "|0%                          50%                         100%|\n",
      " ============================================================\n",
      "2022-10-06 09:54:14 INFO: Time 0:00:00.008285 taken by PartitionerReport\n",
      "2022-10-06 09:54:14 INFO: Time 0:00:00.000376 taken by NetworkSpecificationReport\n",
      "Allocating virtual identifiers\n",
      "|0%                          50%                         100%|\n",
      " ============================================================\n",
      "2022-10-06 09:54:14 INFO: Time 0:00:00.047730 taken by MallocBasedChipIDAllocator\n",
      "Inserting extra monitors into graphs\n",
      "|0%                          50%                         100%|\n",
      " ============================================================\n",
      "2022-10-06 09:54:14 INFO: Time 0:00:00.055542 taken by InsertExtraMonitorVerticesToGraphs\n",
      "Writing the board chip report\n",
      "|0%                          50%                         100%|\n",
      " ============================================================\n",
      "2022-10-06 09:54:14 INFO: Time 0:00:00.017428 taken by BoardChipReport\n",
      "Filtering edges\n",
      "|0%                          50%                         100%|\n",
      " ============================================================\n",
      "2022-10-06 09:54:14 INFO: Time 0:00:00.026684 taken by GraphEdgeFilter\n",
      "Placing graph vertices\n",
      "|0%                          50%                         100%|\n",
      " ============================================================\n",
      "2022-10-06 09:54:14 INFO: Time 0:00:00.032031 taken by OneToOnePlacer\n",
      "Inserting edges between vertices which require FR speed up functionality.\n",
      "|0%                          50%                         100%|\n",
      " ============================================================\n",
      "2022-10-06 09:54:14 INFO: Time 0:00:00.040479 taken by InsertEdgesToExtraMonitorFunctionality\n",
      "Generating routing tables for data in system processes\n",
      "|0%                          50%                         100%|\n",
      " ============================================================\n",
      "2022-10-06 09:54:14 INFO: Time 0:00:00.011632 taken by DataInMulticastRoutingGenerator\n",
      "Generating fixed router routes\n",
      "|0%                          50%                         100%|\n",
      " ============================================================\n",
      "2022-10-06 09:54:14 INFO: Time 0:00:00.004065 taken by FixedRouteRouter\n",
      "Generating placement report\n",
      "|0%                          50%                         100%|\n",
      " ============================================================\n",
      "Generating placement by core report\n",
      "|0%                          50%                         100%|\n",
      " ============================================================\n",
      "2022-10-06 09:54:14 INFO: Time 0:00:00.049952 taken by PlacerReportWithApplicationGraph\n",
      "Routing\n",
      "|0%                          50%                         100%|\n",
      " ============================================================\n",
      "\n",
      "2022-10-06 09:54:14 INFO: Time 0:00:00.021437 taken by NerRoute\n",
      "Discovering tags\n",
      "|0%                          50%                         100%|\n",
      " ============================================================\n",
      "Allocating tags\n",
      "|0%                          50%                         100%|\n",
      " ============================================================\n",
      "2022-10-06 09:54:14 INFO: Time 0:00:00.034818 taken by BasicTagAllocator\n",
      "Reporting Tags\n",
      "|0%                          50%                         100%|\n",
      " ============================================================\n",
      "2022-10-06 09:54:14 INFO: Time 0:00:00.019623 taken by TagReport\n",
      "Getting number of keys required by each edge using application graph\n",
      "|0%                          50%                         100%|\n",
      " ============================================================\n",
      "2022-10-06 09:54:14 INFO: Time 0:00:00.025483 taken by EdgeToNKeysMapper\n",
      "Getting constraints for application graph\n",
      "|0%                          50%                         100%|\n",
      " ============================================================\n",
      "2022-10-06 09:54:14 INFO: Time 0:00:00.031390 taken by ProcessPartitionConstraints\n",
      "Allocating routing keys\n",
      "|0%                          50%                         100%|\n",
      " ============================================================\n",
      "2022-10-06 09:54:14 INFO: Time 0:00:00.017020 taken by MallocBasedRoutingInfoAllocator\n",
      "Generating Routing info report\n",
      "|0%                          50%                         100%|\n",
      " ============================================================\n",
      "2022-10-06 09:54:14 INFO: Time 0:00:00.025218 taken by routingInfoReports\n",
      "Generating routing tables\n",
      "|0%                          50%                         100%|\n",
      " ============================================================\n",
      "2022-10-06 09:54:15 INFO: Time 0:00:00.032058 taken by BasicRoutingTableGenerator\n",
      "Finding executable start types\n",
      "|0%                          50%                         100%|\n",
      " ============================================================\n",
      "2022-10-06 09:54:15 INFO: Time 0:00:00.058955 taken by LocateExecutableStartType\n",
      "Initialising buffers\n",
      "|0%                          50%                         100%|\n",
      " ============================================================\n",
      "2022-10-06 09:54:15 INFO: Time 0:00:00.026262 taken by BufferManagerCreator\n",
      "Generating data specifications\n",
      "|0%                          50%                         100%|\n",
      " ============================================================\n",
      "2022-10-06 09:54:15 INFO: Time 0:00:00.078930 taken by SpynnakerDataSpecificationWriter\n",
      "Preparing Routing Tables\n",
      "|0%                          50%                         100%|\n",
      " ============================================================\n",
      "2022-10-06 09:54:15 INFO: Time 0:00:00.010255 taken by RoutingSetup\n",
      "Finding binaries\n",
      "|0%                          50%                         100%|\n",
      " ============================================================\n",
      "2022-10-06 09:54:15 INFO: Time 0:00:00.028364 taken by GraphBinaryGatherer\n",
      "Running routing table compression on chip\n",
      "|0%                          50%                         100%|\n",
      " ============================================================\n",
      "2022-10-06 09:54:19 INFO: Time 0:00:04.536792 taken by MundyOnChipRouterCompression\n",
      "Generating Router table report\n",
      "|0%                          50%                         100%|\n",
      " ============================================================\n",
      "2022-10-06 09:54:19 INFO: Time 0:00:00.008059 taken by unCompressedRoutingTableReports\n",
      "loading fixed routes\n",
      "|0%                          50%                         100%|\n",
      " ============================================================\n",
      "2022-10-06 09:54:19 INFO: Time 0:00:00.057764 taken by LoadFixedRoutes\n",
      "Executing data specifications and loading data for system vertices\n",
      "|0%                          50%                         100%|\n",
      " ============================================================\n",
      "2022-10-06 09:54:20 INFO: Time 0:00:00.150640 taken by HostExecuteSystemDataSpecification\n",
      "Loading system executables onto the machine\n",
      "|0%                          50%                         100%|\n",
      " ============================================================\n",
      "2022-10-06 09:54:25 INFO: Time 0:00:05.704036 taken by LoadSystemExecutableImages\n",
      "Clearing tags\n",
      "|0%                          50%                         100%|\n",
      " ============================================================\n",
      "Loading Tags\n",
      "|0%                          50%                         100%|\n",
      " ============================================================\n",
      "2022-10-06 09:54:25 INFO: Time 0:00:00.024443 taken by TagsLoader\n",
      "Writing data\n",
      "|0%                          50%                         100%|\n",
      " ============================================================\n",
      "2022-10-06 09:54:25 INFO: Time 0:00:00.048327 taken by WriteMemoryIOData\n",
      "Executing data specifications and loading data for application vertices\n",
      "|0%                          50%                         100%|\n",
      " ============================================================\n",
      "2022-10-06 09:54:25 INFO: Time 0:00:00.150516 taken by HostExecuteApplicationDataSpecification\n",
      "Expanding Synapses\n",
      "|0%                          50%                         100%|\n",
      " ============================================================\n",
      "2022-10-06 09:54:29 INFO: Time 0:00:03.757448 taken by SynapseExpander\n",
      "Writing fixed route report\n",
      "|0%                          50%                         100%|\n",
      " ============================================================\n",
      "2022-10-06 09:54:29 INFO: Time 0:00:00.041800 taken by FixedRouteFromMachineReport\n",
      "Loading executables onto the machine\n",
      "|0%                          50%                         100%|\n",
      " ============================================================\n",
      "2022-10-06 09:54:36 INFO: Time 0:00:06.775194 taken by LoadApplicationExecutableImages\n",
      "Reading Routing Tables from Machine\n",
      "|0%                          50%                         100%|\n",
      " ============================================================\n",
      "2022-10-06 09:54:36 INFO: Time 0:00:00.018873 taken by RoutingTableFromMachineReport\n",
      "Generating compressed router table report\n",
      "|0%                          50%                         100%|\n",
      " ============================================================\n",
      "2022-10-06 09:54:36 INFO: Time 0:00:00.014891 taken by compressedRoutingTableReports\n",
      "Generating comparison of router table report\n",
      "|0%                          50%                         100%|\n",
      " ============================================================\n",
      "2022-10-06 09:54:36 INFO: Time 0:00:00.013781 taken by comparisonOfRoutingTablesReport\n",
      "2022-10-06 09:54:36 INFO: Running for 1 steps for a total of 1000.0ms\n",
      "2022-10-06 09:54:36 INFO: Run 1 of 1\n",
      "Generating SDRAM usage report\n",
      "|0%                          50%                         100%|\n",
      " ============================================================\n",
      "2022-10-06 09:54:36 INFO: Time 0:00:00.099420 taken by SdramUsageReportPerChip\n",
      "Updating run time\n",
      "|0%                          50%                         100%|\n",
      " ============================================================\n",
      "2022-10-06 09:54:36 INFO: Time 0:00:00.031971 taken by ChipRuntimeUpdater\n",
      "2022-10-06 09:54:36 INFO: creating live event connection database in /home/spinnaker/CNT-2022/SpiNNaker/application_generated_data_files/2022-10-06-09-53-24-671850/run_1/input_output_database.db\n",
      "Creating graph description database\n",
      "|0%                          50%                         100%|\n",
      " ============================================================\n",
      "2022-10-06 09:54:36 INFO: Time 0:00:00.066514 taken by DatabaseInterface\n",
      "2022-10-06 09:54:36 INFO: ** Notifying external sources that the database is ready for reading **\n",
      "2022-10-06 09:54:36 INFO: Time 0:00:00.001191 taken by NotificationProtocol\n",
      "2022-10-06 09:54:36 INFO: *** Running simulation... *** \n",
      "Loading buffers\n",
      "|0%                          50%                         100%|\n",
      " ============================================================\n",
      "2022-10-06 09:54:36 INFO: ** Awaiting for a response from an external source to state its ready for the simulation to start **\n",
      "2022-10-06 09:54:36 INFO: ** Sending start / resume message to external sources to state the simulation has started or resumed. **\n",
      "2022-10-06 09:54:36 INFO: ** Awaiting for a response from an external source to state its ready for the simulation to start **\n",
      "2022-10-06 09:54:36 INFO: Application started; waiting 1.1s for it to stop\n",
      "2022-10-06 09:54:37 INFO: ** Sending pause / stop message to external sources to state the simulation has been paused or stopped. **\n",
      "2022-10-06 09:54:37 INFO: Time 0:00:01.195781 taken by ApplicationRunner\n",
      "Extracting buffers from the last run\n",
      "|0%                          50%                         100%|\n",
      " ============================================================\n",
      "2022-10-06 09:54:38 INFO: Time 0:00:00.161353 taken by BufferExtractor\n",
      "Getting provenance data from machine graph\n",
      "|0%                          50%                         100%|\n",
      " ============================================================\n",
      "Getting provenance data from application graph\n",
      "|0%                          50%                         100%|\n",
      " ============================================================\n",
      "2022-10-06 09:54:38 INFO: Time 0:00:00.083791 taken by GraphProvenanceGatherer\n",
      "Getting provenance data\n",
      "|0%                          50%                         100%|\n",
      " ============================================================\n",
      "2022-10-06 09:54:38 INFO: Time 0:00:00.023514 taken by PlacementsProvenanceGatherer\n",
      "Getting Router Provenance\n",
      "|0%                          50%                         100%|\n",
      " ============================================================\n",
      "2022-10-06 09:54:38 INFO: Time 0:00:00.054296 taken by RouterProvenanceGatherer\n",
      "Getting profile data\n",
      "|0%                          50%                         100%|\n",
      " ============================================================\n",
      "2022-10-06 09:54:38 INFO: Time 0:00:00.021336 taken by ProfileDataGatherer\n"
     ]
    },
    {
     "data": {
      "text/plain": [
       "'\\na network of 20 cells receiving 5 random thalamic inputs\\n\\n'"
      ]
     },
     "execution_count": 7,
     "metadata": {},
     "output_type": "execute_result"
    }
   ],
   "source": [
    "# simulation run\n",
    "\n",
    "tic = time.time()\n",
    "sim.run(simtime)\n",
    "toc = time.time() - tic\n",
    "\n",
    "\"\"\"\n",
    "a network of 20 cells receiving 5 random thalamic inputs\n",
    "\n",
    "\"\"\""
   ]
  },
  {
   "cell_type": "code",
   "execution_count": 8,
   "metadata": {},
   "outputs": [
    {
     "name": "stderr",
     "output_type": "stream",
     "text": [
      "Getting spikes for cells\n",
      "|0%                          50%                         100%|\n",
      " ============================================================\n",
      "Getting v for cells\n",
      "|0%                          50%                         100%|\n",
      " ============================================================\n",
      "Getting gsyn_exc for cells\n",
      "|0%                          50%                         100%|\n",
      " ============================================================\n",
      "Getting gsyn_inh for cells\n",
      "|0%                          50%                         100%|\n",
      " ============================================================\n",
      "Getting spikes for cells\n",
      "|0%                          50%                         100%|\n",
      " ============================================================\n",
      "Getting v for cells\n",
      "|0%                          50%                         100%|\n",
      " ============================================================\n",
      "Getting gsyn_exc for cells\n",
      "|0%                          50%                         100%|\n",
      " ============================================================\n",
      "Getting gsyn_inh for cells\n",
      "|0%                          50%                         100%|\n",
      " ============================================================\n",
      "Getting spikes for cells\n",
      "|0%                          50%                         100%|\n",
      " ============================================================\n",
      "Getting v for cells\n",
      "|0%                          50%                         100%|\n",
      " ============================================================\n",
      "Getting gsyn_exc for cells\n",
      "|0%                          50%                         100%|\n",
      " ============================================================\n",
      "Getting gsyn_inh for cells\n",
      "|0%                          50%                         100%|\n",
      " ============================================================\n",
      "Getting spikes for cells\n",
      "|0%                          50%                         100%|\n",
      " ============================================================\n",
      "Getting v for cells\n",
      "|0%                          50%                         100%|\n",
      " ============================================================\n",
      "Getting gsyn_exc for cells\n",
      "|0%                          50%                         100%|\n",
      " ============================================================\n",
      "Getting gsyn_inh for cells\n",
      "|0%                          50%                         100%|\n",
      " ============================================================\n",
      "Getting spikes for cells\n",
      "|0%                          50%                         100%|\n",
      " ============================================================\n",
      "Getting v for cells\n",
      "|0%                          50%                         100%|\n",
      " ============================================================\n",
      "Getting gsyn_exc for cells\n",
      "|0%                          50%                         100%|\n",
      " ============================================================\n",
      "Getting gsyn_inh for cells\n",
      "|0%                          50%                         100%|\n",
      " ============================================================\n",
      "Getting spikes for SpikeSourceArrayVertex_1\n",
      "|0%                          50%                         100%|\n",
      " ============================================================\n",
      "Getting spikes for SpikeSourceArrayVertex_1\n",
      "|0%                          50%                         100%|\n",
      " ============================================================\n"
     ]
    }
   ],
   "source": [
    "# save the results\n",
    "\n",
    "outputs = {}\n",
    "\n",
    "outputs['cx'] = pops['cx'].get_data()\n",
    "for recording in ['v', 'gsyn_inh', 'gsyn_exc', 'spikes']:\n",
    "    pops['cx'].write_data(fileName + '_' + str(recording) + '.pkl')\n",
    "\n",
    "outputs['thal'] = pops['thalamus'].get_data()\n",
    "for recording in ['spikes']:\n",
    "    pops['thalamus'].write_data(fileName + '_' + str(recording) + '.pkl')\n"
   ]
  },
  {
   "cell_type": "code",
   "execution_count": 10,
   "metadata": {},
   "outputs": [],
   "source": [
    "# recover results function\n",
    "\n",
    "def recover_results(outputs):\n",
    "    results = {}\n",
    "    for key in outputs.keys(): # to extract the name of the layer, e.g., Exc, Inh, Thalamus, etc  \n",
    "        \n",
    "        # to get voltage and conductances\n",
    "        for analogsignal in outputs[key].segments[0].analogsignals:\n",
    "            print(analogsignal.name)\n",
    "            results[key, analogsignal.name] = analogsignal\n",
    "\n",
    "        # to get spikes\n",
    "        results[key, 'spikes'] = outputs[key].segments[0].spiketrains\n",
    "    return results"
   ]
  },
  {
   "cell_type": "code",
   "execution_count": 11,
   "metadata": {},
   "outputs": [
    {
     "name": "stdout",
     "output_type": "stream",
     "text": [
      "v\n",
      "gsyn_exc\n",
      "gsyn_inh\n"
     ]
    },
    {
     "data": {
      "text/plain": [
       "dict_keys([('cx', 'v'), ('cx', 'gsyn_exc'), ('cx', 'gsyn_inh'), ('cx', 'spikes'), ('thal', 'spikes')])"
      ]
     },
     "execution_count": 11,
     "metadata": {},
     "output_type": "execute_result"
    }
   ],
   "source": [
    "# check results\n",
    "\n",
    "results = recover_results(outputs)\n",
    "results.keys()"
   ]
  },
  {
   "cell_type": "code",
   "execution_count": 11,
   "metadata": {},
   "outputs": [
    {
     "name": "stderr",
     "output_type": "stream",
     "text": [
      "Getting spikes for cells\n",
      "|0%                          50%                         100%|\n",
      " ============================================================\n",
      "Getting spikes for SpikeSourceArrayVertex_1\n",
      "|0%                          50%                         100%|\n",
      " ============================================================"
     ]
    },
    {
     "name": "stdout",
     "output_type": "stream",
     "text": [
      "CX Mean firing rate:  11.4 Hz\n",
      "TH Mean firing rate:  3.0 Hz\n"
     ]
    },
    {
     "name": "stderr",
     "output_type": "stream",
     "text": [
      "\n"
     ]
    }
   ],
   "source": [
    "# check the mean firing rate\n",
    "\n",
    "print(\"CX Mean firing rate: \", pops['cx'].mean_spike_count() * 1000.0 / simtime, \"Hz\")\n",
    "\n",
    "print(\"TH Mean firing rate: \", pops['thalamus'].mean_spike_count() * 1000.0 / simtime, \"Hz\")"
   ]
  },
  {
   "cell_type": "code",
   "execution_count": 14,
   "metadata": {},
   "outputs": [
    {
     "data": {
      "text/plain": [
       "(0.0, 1000.0)"
      ]
     },
     "execution_count": 14,
     "metadata": {},
     "output_type": "execute_result"
    },
    {
     "data": {
      "image/png": "[encoded data removed]",
      "text/plain": [
       "<Figure size 648x648 with 2 Axes>"
      ]
     },
     "metadata": {
      "needs_background": "light"
     },
     "output_type": "display_data"
    }
   ],
   "source": [
    "# check the spikes\n",
    "%matplotlib inline\n",
    "fig, axes = plt.subplots(2,1,figsize=(9,9))\n",
    "fig.tight_layout(pad=5)\n",
    "axes_list = fig.axes\n",
    "\n",
    "axes_list[0].eventplot(results['thal', 'spikes'], color='k', label='t')\n",
    "axes_list[0].set_title('rasterplot of thalamic cells')\n",
    "axes_list[1].set_title('rasterplot of cx cells')\n",
    "axes_list[1].eventplot(results['cx', 'spikes'], color='r', label='cx')\n",
    "\n",
    "\n",
    "axes_list[0].set_xlabel('[ms]')\n",
    "axes_list[0].set_ylabel('cells')\n",
    "axes_list[0].set_xlim(0, simtime)\n",
    "\n",
    "axes_list[1].set_xlabel('[ms]')\n",
    "axes_list[1].set_ylabel('cells')\n",
    "axes_list[1].set_xlim(0, simtime)\n",
    "\n"
   ]
  },
  {
   "cell_type": "code",
   "execution_count": 13,
   "metadata": {},
   "outputs": [
    {
     "data": {
      "text/plain": [
       "[1, 9, 8, 0, 12]"
      ]
     },
     "execution_count": 13,
     "metadata": {},
     "output_type": "execute_result"
    }
   ],
   "source": [
    "random_sources_idx"
   ]
  },
  {
   "cell_type": "code",
   "execution_count": 16,
   "metadata": {},
   "outputs": [
    {
     "data": {
      "text/plain": [
       "<matplotlib.legend.Legend at 0x7f86ded16160>"
      ]
     },
     "execution_count": 16,
     "metadata": {},
     "output_type": "execute_result"
    },
    {
     "data": {
      "image/png": "[encoded data removed]",
      "text/plain": [
       "<Figure size 792x360 with 1 Axes>"
      ]
     },
     "metadata": {
      "needs_background": "light"
     },
     "output_type": "display_data"
    }
   ],
   "source": [
    "# check the voltage\n",
    "\n",
    "pickedCell = random_sources_idx[1]\n",
    "\n",
    "fig, axes = plt.subplots(1, 1, figsize=(11,5))\n",
    "fig.tight_layout(pad=3)\n",
    "\n",
    "axes_list = fig.axes\n",
    "axes_list[0].plot(results['cx', 'v'].T[pickedCell], label='cell_' + str(pickedCell))\n",
    "\n",
    "axes_list[0].set_title('voltage of cells')\n",
    "axes_list[0].set_xlabel('time [ms]')\n",
    "axes_list[0].set_ylabel('[mV]')\n",
    "axes_list[0].legend()\n"
   ]
  },
  {
   "cell_type": "code",
   "execution_count": 18,
   "metadata": {},
   "outputs": [
    {
     "data": {
      "image/png": "[encoded data removed]",
      "text/plain": [
       "<Figure size 792x360 with 2 Axes>"
      ]
     },
     "metadata": {
      "needs_background": "light"
     },
     "output_type": "display_data"
    }
   ],
   "source": [
    "# check the conductance\n",
    "\n",
    "pickedCell = random_sources_idx[1]\n",
    "\n",
    "fig, axes = plt.subplots(2, 1, figsize=(11,5))\n",
    "fig.tight_layout(pad=5)\n",
    "\n",
    "axes_list = fig.axes\n",
    "\n",
    "for idx, conductance in enumerate(['gsyn_exc', 'gsyn_inh']):\n",
    "\n",
    "    fig.tight_layout(pad=3)\n",
    "    axes_list = fig.axes\n",
    "    axes_list[idx].plot(results['cx', conductance].T[pickedCell], label='cell_' + str(pickedCell))\n",
    "    axes_list[idx].set_title(conductance)\n",
    "    axes_list[idx].set_xlabel('time [ms]')\n",
    "    axes_list[idx].set_ylabel('[uS]')\n",
    "    axes_list[idx].legend()"
   ]
  },
  {
   "cell_type": "markdown",
   "metadata": {},
   "source": [
    "## task 1: on the state variables \n",
    "\n",
    "- why the gsyn_inh (conductance related to cell inhibition) is equal to zero?"
   ]
  },
  {
   "cell_type": "markdown",
   "metadata": {},
   "source": [
    "## task 2: on neuronal parameters\n",
    "\n",
    "- change the tau_m (membrane time constant) parameter and have a look at the changes on the voltage trace.\n",
    "\n",
    "- change other neuronal parameters and investigate their effect on the network behaviour\n",
    "\n",
    "- info about parameters http://neuralensemble.org/docs/PyNN/standardmodels.html"
   ]
  },
  {
   "cell_type": "markdown",
   "metadata": {},
   "source": [
    "## task 3: on neuronal model\n",
    "\n",
    "- test another cell type looking at `sim.list_standard_models()`\n"
   ]
  },
  {
   "cell_type": "markdown",
   "metadata": {},
   "source": [
    "\n"
   ]
  },
  {
   "cell_type": "code",
   "execution_count": null,
   "metadata": {},
   "outputs": [],
   "source": []
  },
  {
   "cell_type": "code",
   "execution_count": null,
   "metadata": {},
   "outputs": [],
   "source": []
  }
 ],
 "metadata": {
  "kernelspec": {
   "display_name": "sPyNNaker",
   "language": "python",
   "name": "spynnaker"
  },
  "language_info": {
   "codemirror_mode": {
    "name": "ipython",
    "version": 3
   },
   "file_extension": ".py",
   "mimetype": "text/x-python",
   "name": "python",
   "nbconvert_exporter": "python",
   "pygments_lexer": "ipython3",
   "version": "3.8.5"
  }
 },
 "nbformat": 4,
 "nbformat_minor": 4
}
