{
 "cells": [
  {
   "cell_type": "markdown",
   "metadata": {},
   "source": [
    "# 1D small world network\n",
    "\n",
    "http://www.scholarpedia.org/article/Small-world_network <br>\n",
    "https://en.wikipedia.org/wiki/Network_science"
   ]
  },
  {
   "cell_type": "code",
   "execution_count": 1,
   "metadata": {},
   "outputs": [],
   "source": [
    "# fileName\n",
    "\n",
    "fileName = 'eg_small-world_network'"
   ]
  },
  {
   "cell_type": "code",
   "execution_count": 2,
   "metadata": {},
   "outputs": [
    {
     "name": "stderr",
     "output_type": "stream",
     "text": [
      "/home/bbpnrsoa/sPyNNaker/lib/python3.8/site-packages/scipy/__init__.py:143: UserWarning: A NumPy version >=1.19.5 and <1.27.0 is required for this version of SciPy (detected version 1.19.0)\n",
      "  warnings.warn(f\"A NumPy version >={np_minversion} and <{np_maxversion}\"\n"
     ]
    },
    {
     "name": "stdout",
     "output_type": "stream",
     "text": [
      "../outputs/eg_small-world_network-2024-04-22T19:29:13.957455\n"
     ]
    }
   ],
   "source": [
    "try:\n",
    "    import pyNN.spiNNaker as sim\n",
    "except ModuleNotFoundError:\n",
    "    import pyNN.brian2 as sim\n",
    "    \n",
    "from pyNN import space \n",
    "import numpy as np\n",
    "import matplotlib.pyplot as plt\n",
    "import numpy as np\n",
    "import matplotlib.pyplot as plt\n",
    "import scipy\n",
    "import pickle\n",
    "import time\n",
    "import datetime\n",
    "import json\n",
    "import warnings\n",
    "warnings.filterwarnings('ignore')\n",
    "import python_utils as pu\n",
    "%matplotlib inline\n",
    "\n",
    "savePath = f'../outputs/' # remember to create the folder if not already present (mkdir ./notebooks/outputs)\n",
    "dt_string = datetime.datetime.today().isoformat() # ISO8601 ! :-)\n",
    "tag = dt_string \n",
    "saveName = f'{savePath}{fileName}-{tag}'\n",
    "print(saveName)\n",
    "PARS={}\n"
   ]
  },
  {
   "cell_type": "code",
   "execution_count": 3,
   "metadata": {},
   "outputs": [
    {
     "name": "stderr",
     "output_type": "stream",
     "text": [
      "2024-04-22 19:29:14 INFO: Read cfg files: /home/bbpnrsoa/sPyNNaker/lib/python3.8/site-packages/spinn_front_end_common/interface/spinnaker.cfg, /home/bbpnrsoa/sPyNNaker/lib/python3.8/site-packages/spynnaker/pyNN/spynnaker.cfg, /home/bbpnrsoa/.spynnaker.cfg\n",
      "2024-04-22 19:29:14 INFO: Will search these locations for binaries: /home/bbpnrsoa/sPyNNaker/lib/python3.8/site-packages/spinn_front_end_common/common_model_binaries : /home/bbpnrsoa/sPyNNaker/lib/python3.8/site-packages/spynnaker/pyNN/model_binaries\n",
      "2024-04-22 19:29:14 INFO: Setting time scale factor to 10.\n",
      "2024-04-22 19:29:14 INFO: Setting machine time step to 1000 micro-seconds.\n"
     ]
    },
    {
     "name": "stdout",
     "output_type": "stream",
     "text": [
      "['/home/bbpnrsoa/sPyNNaker/lib/python3.8/site-packages/spinn_front_end_common/interface/spinnaker.cfg', '/home/bbpnrsoa/sPyNNaker/lib/python3.8/site-packages/spynnaker/pyNN/spynnaker.cfg', '/home/bbpnrsoa/.spynnaker.cfg']\n"
     ]
    }
   ],
   "source": [
    "# simulation settings\n",
    "\n",
    "sim.setup(\n",
    "        timestep=1, # [ms]\n",
    "        min_delay=1, # [ms]\n",
    "        max_delay=100) # [ms]\n",
    "\n",
    "simtime = 250 # [ms]\n"
   ]
  },
  {
   "cell_type": "code",
   "execution_count": 4,
   "metadata": {},
   "outputs": [],
   "source": [
    "# make the network\n",
    "\n",
    "pops = {}\n",
    "n_pops = {}\n",
    "model_pops = {}\n",
    "\n",
    "model_pops['cx'] = sim.IF_cond_exp\n",
    "n_pops['cx'] = 100\n",
    "v_init = sim.RandomDistribution('normal', (-65, 2))\n",
    "\n",
    "pops['cx'] = sim.Population(\n",
    "                            n_pops['cx'],\n",
    "                            model_pops['cx'] ,\n",
    "                            cellparams=sim.IF_cond_exp.default_parameters,\n",
    "                            structure = space.Line(dx=1.0, x0=0.0, y=0.0, z=0.0),\n",
    "                            initial_values = {'v' : v_init},\n",
    "                            label=None,\n",
    "                            constraints=None,\n",
    "                            additional_parameters=None,\n",
    "                            )\n"
   ]
  },
  {
   "cell_type": "code",
   "execution_count": 5,
   "metadata": {},
   "outputs": [],
   "source": [
    "# make the connections \n",
    "\n",
    "# the region length where nodes will be connected locally.\n",
    "degree = {'exc': 1.5,\n",
    "          'inh': 1.5         \n",
    "         }\n",
    "\n",
    "# the probability of rewiring each edge.\n",
    "rewiring = {'exc': 0.01,\n",
    "            'inh': 0.01         \n",
    "           }\n",
    " \n",
    "# if specified, the number of efferent synaptic connections per neuron.\n",
    "n_connections = {'exc': None,\n",
    "                 'inh': None} \n",
    "\n",
    "conns = {}\n",
    "for value in ['exc', 'inh']:\n",
    "    conns['cx', 'cx', value] = sim.SmallWorldConnector(\n",
    "                                                degree[value], \n",
    "                                                rewiring[value], \n",
    "                                                allow_self_connections=True,\n",
    "                                                safe=True,\n",
    "                                                verbose=True,\n",
    "                                                n_connections = n_connections[value], \n",
    "                                                        )\n",
    "\n",
    "\n",
    "\n"
   ]
  },
  {
   "cell_type": "code",
   "execution_count": 6,
   "metadata": {},
   "outputs": [],
   "source": [
    "# make the synapses\n",
    "\n",
    "synapses = {}\n",
    "\n",
    "delay = sim.RandomDistribution(\"normal_clipped\", mu=1.5, sigma=1.75, low=0.1, high=100)\n",
    "\n",
    "synapses['cx', 'cx', 'exc'] = sim.StaticSynapse(weight=0.1, delay=delay)\n",
    "synapses['cx', 'cx', 'inh'] = sim.StaticSynapse(weight=0.5, delay=delay)\n",
    "synapses['thal', 'cx'] = sim.StaticSynapse(weight=0.1, delay=1)\n"
   ]
  },
  {
   "cell_type": "code",
   "execution_count": 7,
   "metadata": {},
   "outputs": [
    {
     "data": {
      "text/plain": [
       "array([40, 41, 42, 43, 44, 45, 46, 47, 48, 49, 50, 51, 52, 53, 54, 55, 56,\n",
       "       57, 58, 59])"
      ]
     },
     "execution_count": 7,
     "metadata": {},
     "output_type": "execute_result"
    },
    {
     "data": {
      "image/png": "[encoded data removed]",
      "text/plain": [
       "<Figure size 432x288 with 1 Axes>"
      ]
     },
     "metadata": {
      "needs_background": "light"
     },
     "output_type": "display_data"
    }
   ],
   "source": [
    "# make the thalamic input sources\n",
    "\n",
    "n_pops['thal'] = n_pops['cx']\n",
    "\n",
    "spike_times = [[]]*n_pops['thal'] #list of spike lists, where one spike list is related to one spike source\n",
    "\n",
    "random_sources_idx = np.arange(int(n_pops['thal']*0.40), int(n_pops['thal']*0.60)) #[0,1,2]\n",
    "\n",
    "for idx, sources in enumerate(random_sources_idx):\n",
    "    spike_times[sources] = np.sort([abs(np.random.normal(loc=50, scale=10)) for n in range(5)])\n",
    "\n",
    "model_pops['thal'] = sim.SpikeSourceArray(spike_times)\n",
    "\n",
    "pops['thal'] = sim.Population(n_pops['thal'], \n",
    "                              model_pops['thal'])\n",
    "\n",
    "\n",
    "fig, axes = plt.subplots(1,1)\n",
    "axes_list = fig.axes\n",
    "axes_list[0].eventplot(spike_times)\n",
    "axes_list[0].set_xlabel('[ms]')\n",
    "axes_list[0].set_ylabel('thalamic spike sources')\n",
    "axes_list[0].set_title('rasterplot of spike sources')\n",
    "axes_list[0].set_xlim(0, simtime)\n",
    "\n",
    "random_sources_idx"
   ]
  },
  {
   "cell_type": "code",
   "execution_count": 8,
   "metadata": {},
   "outputs": [],
   "source": [
    "# make the projections\n",
    "\n",
    "projs = {}\n",
    "\n",
    "projs['thal', 'cx'] = sim.Projection(pops['thal'], \n",
    "                                    pops['cx'],\n",
    "                                    connector = sim.OneToOneConnector(),\n",
    "                                    synapse_type = synapses['thal', 'cx'],\n",
    "                                    space = sim.Space(axes='x', periodic_boundaries=((0,500), None, None)),\n",
    "                                    receptor_type = 'excitatory')\n",
    "\n",
    "projs['cx', 'cx', 'exc'] = sim.Projection(pops['cx'], \n",
    "                                         pops['cx'],\n",
    "                                         connector = conns['cx', 'cx', 'exc'],\n",
    "                                         synapse_type = synapses['cx', 'cx', 'exc'],\n",
    "                                         space = sim.Space(axes='x', periodic_boundaries=((0,500), None, None)),\n",
    "                                         receptor_type = 'excitatory')\n",
    "\n",
    "projs['cx', 'cx', 'inh'] = sim.Projection(pops['cx'], \n",
    "                                         pops['cx'],\n",
    "                                         connector = conns['cx', 'cx', 'inh'],\n",
    "                                         synapse_type = synapses['cx', 'cx', 'inh'],\n",
    "                                         space = sim.Space(axes='x', periodic_boundaries=((0,500), None, None)),\n",
    "                                         receptor_type = 'inhibitory')"
   ]
  },
  {
   "cell_type": "code",
   "execution_count": 9,
   "metadata": {},
   "outputs": [],
   "source": [
    "# record state variables\n",
    "\n",
    "pops['cx'].record(['spikes','v','gsyn_exc','gsyn_inh'])   \n",
    "\n",
    "pops['thal'].record(['spikes'])\n"
   ]
  },
  {
   "cell_type": "code",
   "execution_count": 10,
   "metadata": {},
   "outputs": [
    {
     "name": "stderr",
     "output_type": "stream",
     "text": [
      "2024-04-22 19:29:14 INFO: Starting execution process\n",
      "2024-04-22 19:29:14 INFO: Simulating for 250 1.0ms timesteps using a hardware timestep of 10000us\n",
      "Adding Splitter selectors where appropriate\n",
      "|0%                          50%                         100%|\n",
      " ============================================================\n",
      "2024-04-22 19:29:14 INFO: Time 0:00:00.010850 taken by SpynnakerSplitterSelector\n",
      "Adding delay extensions as required\n",
      "|0%                          50%                         100%|\n",
      " ============================================================\n",
      "2024-04-22 19:29:14 INFO: Time 0:00:00.012305 taken by DelaySupportAdder\n",
      "2024-04-22 19:29:17 INFO: Time 0:00:03.253951 taken by SpallocMaxMachineGenerator\n",
      "Preallocating resources for Extra Monitor support vertices\n",
      "|0%                          50%                         100%|\n",
      " ============================================================\n",
      "2024-04-22 19:29:30 INFO: Time 0:00:12.415297 taken by PreAllocateResourcesForExtraMonitorSupport\n",
      "Partitioning graph vertices\n",
      "|0%                          50%                         100%|\n",
      " ============================================================\n",
      "Partitioning graph edges\n",
      "|0%                          50%                         100%|\n",
      " ============================================================\n",
      "2024-04-22 19:29:35 INFO: Time 0:00:05.351864 taken by SpYNNakerSplitterPartitioner\n",
      "Created spalloc job 437697\n",
      "2024-04-22 19:29:35 INFO: Created spalloc job 437697\n",
      "Job has been queued by the spalloc server.\n",
      "2024-04-22 19:29:35 INFO: Job has been queued by the spalloc server.\n",
      "Waiting for board power commands to complete.\n",
      "2024-04-22 19:29:38 INFO: Waiting for board power commands to complete.\n",
      "2024-04-22 19:29:47 INFO: Time 0:00:12.000983 taken by SpallocAllocator\n",
      "2024-04-22 19:29:47 INFO: Creating transceiver for 10.11.207.129\n",
      "2024-04-22 19:29:47 INFO: Working out if machine is booted\n",
      "2024-04-22 19:29:51 INFO: Attempting to boot machine\n",
      "2024-04-22 19:29:57 INFO: Found board with version [Version: SC&MP 3.4.1 at SpiNNaker:0:0:0 (built Thu Feb 11 15:36:44 2021)]\n",
      "2024-04-22 19:29:57 INFO: Machine communication successful\n",
      "2024-04-22 19:29:57 INFO: Detected a machine on IP address 10.11.207.129 which has 852 cores and 120.0 links\n",
      "2024-04-22 19:29:57 INFO: Time 0:00:09.935563 taken by MachineGenerator\n",
      "Generating partitioner report\n",
      "|0%                          50%                         100%|\n",
      " ============================================================\n",
      "2024-04-22 19:29:57 INFO: Time 0:00:00.013292 taken by PartitionerReport\n",
      "2024-04-22 19:29:57 INFO: Time 0:00:00.000468 taken by NetworkSpecificationReport\n",
      "Allocating virtual identifiers\n",
      "|0%                          50%                         100%|\n",
      " ============================================================\n",
      "2024-04-22 19:29:57 INFO: Time 0:00:00.045570 taken by MallocBasedChipIDAllocator\n",
      "Inserting extra monitors into graphs\n",
      "|0%                          50%                         100%|\n",
      " ============================================================\n",
      "2024-04-22 19:29:57 INFO: Time 0:00:00.048814 taken by InsertExtraMonitorVerticesToGraphs\n",
      "Writing the board chip report\n",
      "|0%                          50%                         100%|\n",
      " ============================================================\n",
      "2024-04-22 19:29:57 INFO: Time 0:00:00.012648 taken by BoardChipReport\n",
      "Getting number of keys required by each edge using application graph\n",
      "|0%                          50%                         100%|\n",
      " ============================================================\n",
      "2024-04-22 19:29:57 INFO: Time 0:00:00.045222 taken by EdgeToNKeysMapper\n",
      "2024-04-22 19:29:57 INFO: The time scale factor could be reduced to 4.998125\n",
      "2024-04-22 19:29:57 INFO: Time 0:00:00.001061 taken by LocalTDMABuilder\n",
      "Placing graph vertices via spreading over an entire machine\n",
      "|0%                          50%                         100%|\n",
      " ============================================================\n",
      "2024-04-22 19:29:57 INFO: Time 0:00:00.019975 taken by SpreaderPlacer\n",
      "Inserting edges between vertices which require FR speed up functionality.\n",
      "|0%                          50%                         100%|\n",
      " ==============================2024-04-22 19:29:57 INFO: Time 0:00:00.038550 taken by InsertEdgesToExtraMonitorFunctionality\n",
      "Generating routing tables for data in system processes\n",
      "|0%                          50%                         100%|\n",
      " ============================================================\n",
      "2024-04-22 19:29:57 INFO: Time 0:00:00.013454 taken by SystemMulticastRoutingGenerator\n",
      "Generating fixed router routes\n",
      "|0%                          50%                         100%|\n",
      " ============================================================\n",
      "2024-04-22 19:29:57 INFO: Time 0:00:00.011794 taken by FixedRouteRouter\n",
      "Generating placement report\n",
      "|0%                          50%                         100%|\n",
      " ============================================================\n",
      "Generating placement by core report\n",
      "|0%                          50%                         100%|\n",
      " ============================================================\n",
      "2024-04-22 19:29:57 INFO: Time 0:00:00.093621 taken by PlacerReportWithApplicationGraph\n",
      "Routing\n",
      "|0%                          50%                         100%|\n",
      " ============================================================\n",
      "\n",
      "2024-04-22 19:29:57 INFO: Time 0:00:00.045634 taken by NerRouteTrafficAware\n",
      "Discovering tags\n",
      "|0%                          50%                         100%|\n",
      " ============================================================\n",
      "Allocating tags\n",
      "|0%                          50%                         100%|\n",
      " ============================================================\n",
      "2024-04-22 19:29:57 INFO: Time 0:00:00.058800 taken by BasicTagAllocator\n",
      "Reporting Tags\n",
      "|0%                          50%                         100%|\n",
      " ============================================================\n",
      "2024-04-22 19:29:57 INFO: Time 0:00:00.013355 taken by TagReport\n",
      "Getting constraints for machine graph\n",
      "|0%                          50%                         100%|\n",
      " ============================================================\n",
      "2024-04-22 19:29:57 INFO: Time 0:00:00.045017 taken by ProcessPartitionConstraints\n",
      "Calculating zones\n",
      "|0%                          50%                         100%|\n",
      " ============================================================\n",
      "Allocating routing keys\n",
      "|0%                          50%                         100%|\n",
      " ============================================================\n",
      "2024-04-22 19:29:57 INFO: Time 0:00:00.025591 taken by ZonedRoutingInfoAllocator\n",
      "Generating Routing info report\n",
      "|0%                          50%                         100%|\n",
      " ============================================================\n",
      "2024-04-22 19:29:58 INFO: Time 0:00:00.014715 taken by routingInfoReports\n",
      "Generating routing tables\n",
      "|0%                          50%                         100%|\n",
      " ============================================================\n",
      "2024-04-22 19:29:58 INFO: Time 0:00:00.043055 taken by BasicRoutingTableGenerator\n",
      "2024-04-22 19:29:58 INFO: Time 0:00:00.000645 taken by RouterCollisionPotentialReport\n",
      "Finding executable start types\n",
      "|0%                          50%                         100%|\n",
      " ============================================================\n",
      "2024-04-22 19:29:58 INFO: Time 0:00:00.045190 taken by LocateExecutableStartType\n",
      "Initialising buffers\n",
      "|0%                          50%                         100%|\n",
      " ============================================================\n",
      "2024-04-22 19:29:58 INFO: Time 0:00:00.046093 taken by BufferManagerCreator\n",
      "Allocating SDRAM for SDRAM outgoing egde partitions\n",
      "|0%                          50%                         100%|\n",
      " ============================================================\n",
      "2024-04-22 19:29:58 INFO: Time 0:00:00.044095 taken by SDRAMOutgoingPartitionAllocator\n",
      "Generating data specifications\n",
      "|0%                          50%                         100%|\n",
      " ============================================================\n",
      "2024-04-22 19:29:58 INFO: Time 0:00:00.112951 taken by SpynnakerDataSpecificationWriter\n",
      "Preparing Routing Tables\n",
      "|0%                          50%                         100%|\n",
      " ============================================================\n",
      "2024-04-22 19:29:58 INFO: Time 0:00:00.013940 taken by RoutingSetup\n",
      "Finding binaries\n",
      "|0%                          50%                         100%|\n",
      " ============================================================\n",
      "2024-04-22 19:29:58 INFO: Time 0:00:00.044370 taken by GraphBinaryGatherer\n",
      "Running pair routing table compression on chip\n",
      "|0%                          50%                         100%|\n",
      " ============================================================\n",
      "\n",
      "2024-04-22 19:30:01 INFO: Time 0:00:03.412757 taken by PairOnChipRouterCompression\n",
      "Generating Router table report\n",
      "|0%                          50%                         100%|\n",
      " ============================================================\n",
      "2024-04-22 19:30:01 INFO: Time 0:00:00.011294 taken by unCompressedRoutingTableReports\n",
      "loading fixed routes\n",
      "|0%                          50%                         100%|\n",
      " ============================================================\n",
      "2024-04-22 19:30:01 INFO: Time 0:00:00.052120 taken by LoadFixedRoutes\n",
      "Executing data specifications and loading data for system vertices using Java\n",
      "|0%                          50%                         100%|\n",
      " ============================================================\n",
      "2024-04-22 19:30:03 INFO: Time 0:00:01.251246 taken by HostExecuteSystemDataSpecification\n",
      "Loading system executables onto the machine\n",
      "|0%                          50%                         100%|\n",
      " ============================================================\n",
      "2024-04-22 19:30:08 INFO: Time 0:00:05.757822 taken by LoadSystemExecutableImages\n",
      "2024-04-22 19:30:08 INFO: Time 0:00:00.001920 taken by TagsFromMachineReport\n",
      "Clearing tags\n",
      "|0%                          50%                         100%|\n",
      " ============================================================\n",
      "Loading Tags\n",
      "|0%                          50%                         100%|\n",
      " ============================================================\n",
      "2024-04-22 19:30:08 INFO: Time 0:00:00.027830 taken by TagsLoader\n",
      "Executing data specifications and loading data for application vertices using Java\n",
      "|0%                          50%                         100%|\n",
      " ============================================================\n",
      "2024-04-22 19:30:09 INFO: Time 0:00:01.016810 taken by HostExecuteApplicationDataSpecification\n",
      "Preparing to Expand Synapses\n",
      "|0%                          50%                         100%|\n",
      " ============================================================\n",
      "Expanding Synapses\n",
      "|0%                          50%                         100%|\n",
      " ============================================================\n",
      "\n",
      "\n",
      "2024-04-22 19:30:10 INFO: Time 0:00:00.540541 taken by SynapseExpander\n",
      "Running bitfield generation on chip\n",
      "|0%                          50%                         100%|\n",
      " ============================================================\n",
      "\n",
      "\n",
      "2024-04-22 19:30:13 INFO: Time 0:00:03.341962 taken by OnChipBitFieldGenerator\n",
      "Finalising Retrieved Connections\n",
      "|0%                          50%                         100%|\n",
      " ============================================================\n",
      "2024-04-22 19:30:13 INFO: Time 0:00:00.039438 taken by FinishConnectionHolders\n",
      "Reading Routing Tables from Machine\n",
      "|0%                          50%                         100%|\n",
      " ============================================================\n",
      "2024-04-22 19:30:13 INFO: Time 0:00:00.025265 taken by ReadRoutingTablesFromMachine\n",
      "Generating compressed router table report\n",
      "|0%                          50%                         100%|\n",
      " ============================================================\n",
      "2024-04-22 19:30:13 INFO: Time 0:00:00.011207 taken by compressedRoutingTableReports\n",
      "Generating comparison of router table report\n",
      "|0%                          50%                         100%|\n",
      " ============================================================\n",
      "2024-04-22 19:30:13 INFO: Time 0:00:00.025262 taken by comparisonOfRoutingTablesReport\n",
      "Generating Routing summary report\n",
      "|0%                          50%                         100%|\n",
      " ============================================================\n",
      "2024-04-22 19:30:13 INFO: Time 0:00:00.040029 taken by CompressedRouterSummaryReport\n",
      "Reading Routing Tables from Machine\n",
      "|0%                          50%                         100%|\n",
      " ============================================================\n",
      "2024-04-22 19:30:13 INFO: Time 0:00:00.012019 taken by RoutingTableFromMachineReport\n",
      "Writing fixed route report\n",
      "|0%                          50%                         100%|\n",
      " ============================================================\n",
      "2024-04-22 19:30:14 INFO: Time 0:00:00.055950 taken by FixedRouteFromMachineReport\n",
      "Loading executables onto the machine\n",
      "|0%                          50%                         100%|\n",
      " ============================================================\n",
      "2024-04-22 19:30:20 INFO: Time 0:00:06.823242 taken by LoadApplicationExecutableImages\n",
      "2024-04-22 19:30:20 INFO: Running for 1 steps for a total of 250.0ms\n",
      "2024-04-22 19:30:20 INFO: Run 1 of 1\n",
      "Generating SDRAM usage report\n",
      "|0%                          50%                         100%|\n",
      " ============================================================\n",
      "2024-04-22 19:30:20 INFO: Time 0:00:00.086400 taken by SdramUsageReportPerChip\n",
      "2024-04-22 19:30:21 INFO: creating live event connection database in /home/bbpnrsoa/CNT-2024/notebooks/intro/reports/2024-04-22-19-29-14-43898/run_1/input_output_database.db\n",
      "Creating graph description database\n",
      "|0%                          50%                         100%|\n",
      " ============================================================\n",
      "2024-04-22 19:30:21 INFO: Time 0:00:00.076359 taken by DatabaseInterface\n",
      "2024-04-22 19:30:21 INFO: ** Notifying external sources that the database is ready for reading **\n",
      "2024-04-22 19:30:21 INFO: Time 0:00:00.001598 taken by CreateNotificationProtocol\n",
      "Getting provenance data from machine graph\n",
      "|0%                          50%                         100%|\n",
      " ============================================================\n",
      "Getting provenance data from application graph\n",
      "|0%                          50%                         100%|\n",
      " ============================================================\n",
      "2024-04-22 19:30:21 INFO: Time 0:00:00.120915 taken by GraphProvenanceGatherer\n",
      "Waiting for cores to be either in PAUSED or READY state\n",
      "|0%                          50%                         100%|\n",
      " ============================================================\n",
      "Updating run time\n",
      "|0%                          50%                         100%|\n",
      " ============================================================\n",
      "2024-04-22 19:30:21 INFO: Time 0:00:00.044746 taken by ChipRuntimeUpdater\n",
      "2024-04-22 19:30:21 INFO: *** Running simulation... *** \n",
      "Loading buffers\n",
      "|0%                          50%                         100%|\n",
      " ============================================================\n",
      "2024-04-22 19:30:21 INFO: ** Awaiting for a response from an external source to state its ready for the simulation to start **\n",
      "2024-04-22 19:30:21 INFO: ** Sending start / resume message to external sources to state the simulation has started or resumed. **\n",
      "2024-04-22 19:30:21 INFO: ** Awaiting for a response from an external source to state its ready for the simulation to start **\n",
      "2024-04-22 19:30:21 INFO: Application started; waiting 2.6s for it to stop\n",
      "2024-04-22 19:30:23 INFO: ** Sending pause / stop message to external sources to state the simulation has been paused or stopped. **\n",
      "2024-04-22 19:30:23 INFO: Time 0:00:02.737873 taken by ApplicationRunner\n",
      "Extracting IOBUF from the machine\n",
      "|0%                          50%                         100%|\n",
      " ============================================================\n",
      "2024-04-22 19:30:24 INFO: Time 0:00:00.048110 taken by ChipIOBufExtractor\n",
      "clearing IOBUF from the machine\n",
      "|0%                          50%                         100%|\n",
      " ============================================================\n",
      "2024-04-22 19:30:24 INFO: Time 0:00:00.013738 taken by ChipIOBufClearer\n",
      "Extracting buffers from the last run\n",
      "|0%                          50%                         100%|\n",
      " ============================================================\n",
      "\n",
      "2024-04-22 19:30:25 INFO: Time 0:00:01.037548 taken by BufferExtractor\n",
      "2024-04-22 19:30:25 INFO: Time 0:00:00.000150 taken by FinaliseTimingData\n",
      "Getting provenance data\n",
      "|0%                          50%                         100%|\n",
      " ============================================================\n",
      "2024-04-22 19:30:25 INFO: Time 0:00:00.056436 taken by PlacementsProvenanceGatherer\n",
      "2024-04-22 19:30:25 INFO: Time 0:00:00.000758 taken by RedundantPacketCountReport\n",
      "Getting Router Provenance\n",
      "|0%                          50%                         100%|\n",
      " ============================================================\n",
      "2024-04-22 19:30:25 INFO: Time 0:00:00.066640 taken by RouterProvenanceGatherer\n",
      "Getting profile data\n",
      "|0%                          50%                         100%|\n",
      " ============================================================\n",
      "2024-04-22 19:30:25 INFO: Time 0:00:00.044800 taken by ProfileDataGatherer\n"
     ]
    }
   ],
   "source": [
    "# simulation run\n",
    "\n",
    "tic = time.time()\n",
    "sim.run(simtime)\n",
    "toc = time.time() - tic"
   ]
  },
  {
   "cell_type": "code",
   "execution_count": 11,
   "metadata": {},
   "outputs": [
    {
     "name": "stderr",
     "output_type": "stream",
     "text": [
      "Getting spikes for AbstractPopulationVertex_1\n",
      "|0%                          50%                         100%|\n",
      " ============================================================\n",
      "Getting v for AbstractPopulationVertex_1\n",
      "|0%                          50%                         100%|\n",
      " ============================================================\n",
      "Getting gsyn_exc for AbstractPopulationVertex_1\n",
      "|0%                          50%                         100%|\n",
      " ============================================================\n",
      "Getting gsyn_inh for AbstractPopulationVertex_1\n",
      "|0%                          50%                         100%|\n",
      " ============================================================\n",
      "Getting spikes for AbstractPopulationVertex_1\n",
      "|0%                          50%                         100%|\n",
      " ============================================================\n",
      "Getting v for AbstractPopulationVertex_1\n",
      "|0%                          50%                         100%|\n",
      " ============================================================\n",
      "Getting gsyn_exc for AbstractPopulationVertex_1\n",
      "|0%                          50%                         100%|\n",
      " ============================================================\n",
      "Getting gsyn_inh for AbstractPopulationVertex_1\n",
      "|0%                          50%                         100%|\n",
      " ============================================================\n",
      "Getting spikes for AbstractPopulationVertex_1\n",
      "|0%                          50%                         100%|\n",
      " ============================================================\n",
      "Getting v for AbstractPopulationVertex_1\n",
      "|0%                          50%                         100%|\n",
      " ============================================================\n",
      "Getting gsyn_exc for AbstractPopulationVertex_1\n",
      "|0%                          50%                         100%|\n",
      " ============================================================\n",
      "Getting gsyn_inh for AbstractPopulationVertex_1\n",
      "|0%                          50%                         100%|\n",
      " ============================================================\n",
      "Getting spikes for AbstractPopulationVertex_1\n",
      "|0%                          50%                         100%|\n",
      " ============================================================\n",
      "Getting v for AbstractPopulationVertex_1\n",
      "|0%                          50%                         100%|\n",
      " ============================================================\n",
      "Getting gsyn_exc for AbstractPopulationVertex_1\n",
      "|0%                          50%                         100%|\n",
      " ============================================================\n",
      "Getting gsyn_inh for AbstractPopulationVertex_1\n",
      "|0%                          50%                         100%|\n",
      " ============================================================\n",
      "Getting spikes for AbstractPopulationVertex_1\n",
      "|0%                          50%                         100%|\n",
      " ============================================================\n",
      "Getting v for AbstractPopulationVertex_1\n",
      "|0%                          50%                         100%|\n",
      " ============================================================\n",
      "Getting gsyn_exc for AbstractPopulationVertex_1\n",
      "|0%                          50%                         100%|\n",
      " ============================================================\n",
      "Getting gsyn_inh for AbstractPopulationVertex_1\n",
      "|0%                          50%                         100%|\n",
      " ============================================================\n",
      "Getting spikes for AbstractPopulationVertex_1\n",
      "|0%                          50%                         100%|\n",
      " ============================================================\n",
      "Getting v for AbstractPopulationVertex_1\n",
      "|0%                          50%                         100%|\n",
      " ============================================================\n",
      "Getting gsyn_exc for AbstractPopulationVertex_1\n",
      "|0%                          50%                         100%|\n",
      " ============================================================\n",
      "Getting gsyn_inh for AbstractPopulationVertex_1\n",
      "|0%                          50%                         100%|\n",
      " ============================================================\n",
      "Getting spikes for AbstractPopulationVertex_1\n",
      "|0%                          50%                         100%|\n",
      " ============================================================\n",
      "Getting v for AbstractPopulationVertex_1\n",
      "|0%                          50%                         100%|\n",
      " ============================================================\n",
      "Getting gsyn_exc for AbstractPopulationVertex_1\n",
      "|0%                          50%                         100%|\n",
      " ============================================================\n",
      "Getting gsyn_inh for AbstractPopulationVertex_1\n",
      "|0%                          50%                         100%|\n",
      " ============================================================\n",
      "Getting spikes for AbstractPopulationVertex_1\n",
      "|0%                          50%                         100%|\n",
      " ============================================================\n",
      "Getting v for AbstractPopulationVertex_1\n",
      "|0%                          50%                         100%|\n",
      " ============================================================\n",
      "Getting gsyn_exc for AbstractPopulationVertex_1\n",
      "|0%                          50%                         100%|\n",
      " ============================================================\n",
      "Getting gsyn_inh for AbstractPopulationVertex_1\n",
      "|0%                          50%                         100%|\n",
      " ============================================================\n",
      "Getting spikes for SpikeSourceArrayVertex_2\n",
      "|0%                          50%                         100%|\n",
      " ============================================================\n",
      "Getting spikes for SpikeSourceArrayVertex_2\n",
      "|0%                          50%                         100%|\n",
      " ============================================================\n",
      "Getting spikes for SpikeSourceArrayVertex_2\n",
      "|0%                          50%                         100%|\n",
      " ============================================================\n",
      "Getting spikes for SpikeSourceArrayVertex_2\n",
      "|0%                          50%                         100%|\n",
      " ============================================================\n",
      "Getting spikes for SpikeSourceArrayVertex_2\n",
      "|0%                          50%                         100%|\n",
      " ============================================================\n",
      "Getting spikes for SpikeSourceArrayVertex_2\n",
      "|0%                          50%                         100%|\n",
      " ============================================================\n",
      "Getting spikes for SpikeSourceArrayVertex_2\n",
      "|0%                          50%                         100%|\n",
      " ============================================================\n",
      "Getting spikes for SpikeSourceArrayVertex_2\n",
      "|0%                          50%                         100%|\n",
      " ============================================================\n"
     ]
    }
   ],
   "source": [
    "# save results\n",
    "\n",
    "stateVars = {}\n",
    "for pop in pops.keys():\n",
    "    for recording in ['v', 'gsyn_inh', 'gsyn_exc', 'spikes']:\n",
    "        pops[pop].write_data(f'{saveName}-{recording}.pkl')\n",
    "        stateVars[pop]=pops[pop].get_data()\n",
    "\n"
   ]
  },
  {
   "cell_type": "code",
   "execution_count": 12,
   "metadata": {},
   "outputs": [
    {
     "name": "stdout",
     "output_type": "stream",
     "text": [
      "cx\n",
      "v\n",
      "gsyn_exc\n",
      "gsyn_inh\n",
      "thal\n"
     ]
    },
    {
     "data": {
      "text/plain": [
       "dict_keys([('cx', 'v'), ('cx', 'gsyn_exc'), ('cx', 'gsyn_inh'), ('cx', 'spikes'), ('thal', 'spikes')])"
      ]
     },
     "execution_count": 12,
     "metadata": {},
     "output_type": "execute_result"
    }
   ],
   "source": [
    "# recover results\n",
    "\n",
    "stateVars.keys()\n",
    "results = pu.recover_results(stateVars)\n",
    "results.keys()\n"
   ]
  },
  {
   "cell_type": "code",
   "execution_count": 13,
   "metadata": {},
   "outputs": [
    {
     "data": {
      "image/png": "[encoded data removed]",
      "text/plain": [
       "<Figure size 648x648 with 2 Axes>"
      ]
     },
     "metadata": {
      "needs_background": "light"
     },
     "output_type": "display_data"
    }
   ],
   "source": [
    "# check the spikes\n",
    "\n",
    "fig, axes = plt.subplots(2,1, figsize=(9,9))\n",
    "fig.tight_layout(pad=5)\n",
    "axes_list = fig.axes\n",
    "\n",
    "for idx, value in enumerate(['thal', 'cx']):\n",
    "    axes_list[idx].eventplot(results[value, 'spikes'])\n",
    "    axes_list[idx].set_title('rasterplot of ' + str(value) + ' layer')\n",
    "    axes_list[idx].set_xlabel('[ms]')\n",
    "    axes_list[idx].set_ylabel('cells')\n",
    "    axes_list[idx].set_xlim(0, simtime)\n",
    "\n"
   ]
  },
  {
   "cell_type": "code",
   "execution_count": 14,
   "metadata": {},
   "outputs": [
    {
     "data": {
      "image/png": "[encoded data removed]",
      "text/plain": [
       "<Figure size 648x360 with 2 Axes>"
      ]
     },
     "metadata": {
      "needs_background": "light"
     },
     "output_type": "display_data"
    }
   ],
   "source": [
    "# check the voltage\n",
    "\n",
    "fig, axes = plt.subplots(1, 1, figsize=(9,5))\n",
    "fig.tight_layout(pad=4)\n",
    "\n",
    "axes_list = fig.axes\n",
    "\n",
    "for idx, value in enumerate(['cx']):\n",
    "    im = axes_list[idx].imshow(results[value, 'v'].T)\n",
    "    axes_list[idx].set_title('voltage of ' + str(value) + ' layer')\n",
    "    axes_list[idx].set_xlabel('time [ms]')\n",
    "    axes_list[idx].set_ylabel('cells')\n",
    "    fig.colorbar(im, ax=axes_list[idx], fraction=0.010, label='[mV]')\n",
    "\n"
   ]
  },
  {
   "cell_type": "code",
   "execution_count": 15,
   "metadata": {},
   "outputs": [
    {
     "data": {
      "image/png": "[encoded data removed]",
      "text/plain": [
       "<Figure size 648x648 with 4 Axes>"
      ]
     },
     "metadata": {
      "needs_background": "light"
     },
     "output_type": "display_data"
    }
   ],
   "source": [
    "# check the conductances\n",
    "\n",
    "for layer in ['cx']:\n",
    "    fig, axes = plt.subplots(2, 1, figsize=(9,9))\n",
    "    fig.tight_layout(pad=4)\n",
    "    fig.suptitle(str(layer) + ' layer')\n",
    "    axes_list = fig.axes\n",
    "    \n",
    "    for idx, gsyn in enumerate(['gsyn_exc', 'gsyn_inh']):\n",
    "        im = axes_list[idx].imshow(results[layer, gsyn].T)\n",
    "        axes_list[idx].set_title(str(gsyn))\n",
    "        axes_list[idx].set_xlabel('time [ms]')\n",
    "        axes_list[idx].set_ylabel('cells')\n",
    "        fig.colorbar(im, ax=axes_list[idx], fraction=0.010, label='[uS]')\n"
   ]
  },
  {
   "cell_type": "markdown",
   "metadata": {},
   "source": [
    "# check adjacent matrix"
   ]
  },
  {
   "cell_type": "code",
   "execution_count": 16,
   "metadata": {},
   "outputs": [
    {
     "data": {
      "text/plain": [
       "dict_keys([('thal', 'cx'), ('cx', 'cx', 'exc'), ('cx', 'cx', 'inh')])"
      ]
     },
     "execution_count": 16,
     "metadata": {},
     "output_type": "execute_result"
    }
   ],
   "source": [
    "# check the small world projections\n",
    "\n",
    "projs.keys()"
   ]
  },
  {
   "cell_type": "code",
   "execution_count": 17,
   "metadata": {},
   "outputs": [
    {
     "name": "stderr",
     "output_type": "stream",
     "text": [
      "Getting synaptic data between AbstractPopulationVertex_1 and AbstractPopulationVertex_1\n",
      "|0%                          50%                         100%|\n",
      " ============================================================\n",
      "Getting synaptic data between AbstractPopulationVertex_1 and AbstractPopulationVertex_1\n",
      "|0%                          50%                         100%|\n",
      " ============================================================\n"
     ]
    }
   ],
   "source": [
    "syn = {}\n",
    "\n",
    "syn['exc'] = projs['cx', 'cx', 'exc'].get('source', 'target', 'list')\n",
    "syn['inh'] = projs['cx', 'cx', 'inh'].get('source', 'target', 'list')\n",
    "\n"
   ]
  },
  {
   "cell_type": "code",
   "execution_count": 19,
   "metadata": {},
   "outputs": [
    {
     "data": {
      "text/plain": [
       "<matplotlib.image.AxesImage at 0x7f90feaec7f0>"
      ]
     },
     "execution_count": 19,
     "metadata": {},
     "output_type": "execute_result"
    },
    {
     "data": {
      "image/png": "[encoded data removed]",
      "text/plain": [
       "<Figure size 288x288 with 1 Axes>"
      ]
     },
     "metadata": {
      "needs_background": "light"
     },
     "output_type": "display_data"
    }
   ],
   "source": [
    "plt.matshow(syn['exc'])"
   ]
  },
  {
   "cell_type": "code",
   "execution_count": 20,
   "metadata": {},
   "outputs": [
    {
     "data": {
      "text/plain": [
       "<matplotlib.image.AxesImage at 0x7f90fead8460>"
      ]
     },
     "execution_count": 20,
     "metadata": {},
     "output_type": "execute_result"
    },
    {
     "data": {
      "image/png": "[encoded data removed]",
      "text/plain": [
       "<Figure size 288x288 with 1 Axes>"
      ]
     },
     "metadata": {
      "needs_background": "light"
     },
     "output_type": "display_data"
    }
   ],
   "source": [
    "plt.matshow(syn['inh'])"
   ]
  },
  {
   "cell_type": "code",
   "execution_count": 21,
   "metadata": {},
   "outputs": [
    {
     "name": "stderr",
     "output_type": "stream",
     "text": [
      "2024-04-22 19:32:17 WARNING: The delays in the connector SmallWorldConnector from AbstractPopulationVertex_1 to AbstractPopulationVertex_1 was clipped to 1.0 a total of 62 times.  This can be avoided by reducing the timestep or increasing the minimum delay to one timestep\n",
      "2024-04-22 19:32:17 WARNING: The delays in the connector SmallWorldConnector from AbstractPopulationVertex_1 to AbstractPopulationVertex_1 was clipped to 1.0 a total of 71 times.  This can be avoided by reducing the timestep or increasing the minimum delay to one timestep\n"
     ]
    }
   ],
   "source": [
    "# end simulation\n",
    "\n",
    "sim.end()"
   ]
  },
  {
   "cell_type": "markdown",
   "metadata": {},
   "source": [
    "# Task1: on the small-world network\n",
    "- try to find in literature a 1D small-world network and use its parameter \n"
   ]
  },
  {
   "cell_type": "code",
   "execution_count": null,
   "metadata": {},
   "outputs": [],
   "source": []
  }
 ],
 "metadata": {
  "kernelspec": {
   "display_name": "sPyNNaker",
   "language": "python",
   "name": "spynnaker"
  },
  "language_info": {
   "codemirror_mode": {
    "name": "ipython",
    "version": 3
   },
   "file_extension": ".py",
   "mimetype": "text/x-python",
   "name": "python",
   "nbconvert_exporter": "python",
   "pygments_lexer": "ipython3",
   "version": "3.8.5"
  }
 },
 "nbformat": 4,
 "nbformat_minor": 4
}
